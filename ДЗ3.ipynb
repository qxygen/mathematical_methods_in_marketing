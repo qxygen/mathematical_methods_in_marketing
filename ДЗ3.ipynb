{
  "cells": [
    {
      "cell_type": "code",
      "execution_count": null,
      "id": "980bae4d",
      "metadata": {
        "id": "980bae4d"
      },
      "outputs": [],
      "source": [
        "import numpy as np\n",
        "import pandas as pd\n",
        "import matplotlib.pyplot as plt"
      ]
    },
    {
      "cell_type": "code",
      "execution_count": null,
      "id": "e2fb60cd",
      "metadata": {
        "id": "e2fb60cd"
      },
      "outputs": [],
      "source": [
        "from sklearn.preprocessing import *\n",
        "from sklearn.feature_selection import *\n",
        "from sklearn.decomposition import *\n",
        "from sklearn.linear_model import LogisticRegression\n",
        "from sklearn.ensemble import ExtraTreesClassifier"
      ]
    },
    {
      "cell_type": "markdown",
      "id": "ca2cd604",
      "metadata": {
        "id": "ca2cd604"
      },
      "source": [
        "Подготовка данных"
      ]
    },
    {
      "cell_type": "code",
      "execution_count": null,
      "id": "3d15ea35",
      "metadata": {
        "id": "3d15ea35",
        "outputId": "f1ca2092-86c0-471c-8344-713a1c2b1837"
      },
      "outputs": [
        {
          "data": {
            "text/html": [
              "<div>\n",
              "<style scoped>\n",
              "    .dataframe tbody tr th:only-of-type {\n",
              "        vertical-align: middle;\n",
              "    }\n",
              "\n",
              "    .dataframe tbody tr th {\n",
              "        vertical-align: top;\n",
              "    }\n",
              "\n",
              "    .dataframe thead th {\n",
              "        text-align: right;\n",
              "    }\n",
              "</style>\n",
              "<table border=\"1\" class=\"dataframe\">\n",
              "  <thead>\n",
              "    <tr style=\"text-align: right;\">\n",
              "      <th></th>\n",
              "      <th>color</th>\n",
              "      <th>fixed_acidity</th>\n",
              "      <th>volatile_acidity</th>\n",
              "      <th>citric_acid</th>\n",
              "      <th>residual_sugar</th>\n",
              "      <th>chlorides</th>\n",
              "      <th>free_sulfur_dioxide</th>\n",
              "      <th>total_sulfur_dioxide</th>\n",
              "      <th>density</th>\n",
              "      <th>pH</th>\n",
              "      <th>sulphates</th>\n",
              "      <th>alcohol</th>\n",
              "      <th>quality</th>\n",
              "    </tr>\n",
              "  </thead>\n",
              "  <tbody>\n",
              "    <tr>\n",
              "      <th>0</th>\n",
              "      <td>white</td>\n",
              "      <td>7.0</td>\n",
              "      <td>0.270</td>\n",
              "      <td>0.36</td>\n",
              "      <td>20.7</td>\n",
              "      <td>0.045</td>\n",
              "      <td>45.0</td>\n",
              "      <td>170.0</td>\n",
              "      <td>1.00100</td>\n",
              "      <td>3.00</td>\n",
              "      <td>0.45</td>\n",
              "      <td>8.8</td>\n",
              "      <td>6</td>\n",
              "    </tr>\n",
              "    <tr>\n",
              "      <th>1</th>\n",
              "      <td>white</td>\n",
              "      <td>6.3</td>\n",
              "      <td>0.300</td>\n",
              "      <td>0.34</td>\n",
              "      <td>1.6</td>\n",
              "      <td>0.049</td>\n",
              "      <td>14.0</td>\n",
              "      <td>132.0</td>\n",
              "      <td>0.99400</td>\n",
              "      <td>3.30</td>\n",
              "      <td>0.49</td>\n",
              "      <td>9.5</td>\n",
              "      <td>6</td>\n",
              "    </tr>\n",
              "    <tr>\n",
              "      <th>2</th>\n",
              "      <td>white</td>\n",
              "      <td>8.1</td>\n",
              "      <td>0.280</td>\n",
              "      <td>0.40</td>\n",
              "      <td>6.9</td>\n",
              "      <td>0.050</td>\n",
              "      <td>30.0</td>\n",
              "      <td>97.0</td>\n",
              "      <td>0.99510</td>\n",
              "      <td>3.26</td>\n",
              "      <td>0.44</td>\n",
              "      <td>10.1</td>\n",
              "      <td>6</td>\n",
              "    </tr>\n",
              "    <tr>\n",
              "      <th>3</th>\n",
              "      <td>white</td>\n",
              "      <td>7.2</td>\n",
              "      <td>0.230</td>\n",
              "      <td>0.32</td>\n",
              "      <td>8.5</td>\n",
              "      <td>0.058</td>\n",
              "      <td>47.0</td>\n",
              "      <td>186.0</td>\n",
              "      <td>0.99560</td>\n",
              "      <td>3.19</td>\n",
              "      <td>0.40</td>\n",
              "      <td>9.9</td>\n",
              "      <td>6</td>\n",
              "    </tr>\n",
              "    <tr>\n",
              "      <th>4</th>\n",
              "      <td>white</td>\n",
              "      <td>7.2</td>\n",
              "      <td>0.230</td>\n",
              "      <td>0.32</td>\n",
              "      <td>8.5</td>\n",
              "      <td>0.058</td>\n",
              "      <td>47.0</td>\n",
              "      <td>186.0</td>\n",
              "      <td>0.99560</td>\n",
              "      <td>3.19</td>\n",
              "      <td>0.40</td>\n",
              "      <td>9.9</td>\n",
              "      <td>6</td>\n",
              "    </tr>\n",
              "    <tr>\n",
              "      <th>...</th>\n",
              "      <td>...</td>\n",
              "      <td>...</td>\n",
              "      <td>...</td>\n",
              "      <td>...</td>\n",
              "      <td>...</td>\n",
              "      <td>...</td>\n",
              "      <td>...</td>\n",
              "      <td>...</td>\n",
              "      <td>...</td>\n",
              "      <td>...</td>\n",
              "      <td>...</td>\n",
              "      <td>...</td>\n",
              "      <td>...</td>\n",
              "    </tr>\n",
              "    <tr>\n",
              "      <th>1594</th>\n",
              "      <td>red</td>\n",
              "      <td>6.2</td>\n",
              "      <td>0.600</td>\n",
              "      <td>0.08</td>\n",
              "      <td>2.0</td>\n",
              "      <td>0.090</td>\n",
              "      <td>32.0</td>\n",
              "      <td>44.0</td>\n",
              "      <td>0.99490</td>\n",
              "      <td>3.45</td>\n",
              "      <td>0.58</td>\n",
              "      <td>10.5</td>\n",
              "      <td>5</td>\n",
              "    </tr>\n",
              "    <tr>\n",
              "      <th>1595</th>\n",
              "      <td>red</td>\n",
              "      <td>5.9</td>\n",
              "      <td>0.550</td>\n",
              "      <td>0.10</td>\n",
              "      <td>2.2</td>\n",
              "      <td>0.062</td>\n",
              "      <td>39.0</td>\n",
              "      <td>51.0</td>\n",
              "      <td>0.99512</td>\n",
              "      <td>3.52</td>\n",
              "      <td>0.76</td>\n",
              "      <td>11.2</td>\n",
              "      <td>6</td>\n",
              "    </tr>\n",
              "    <tr>\n",
              "      <th>1596</th>\n",
              "      <td>red</td>\n",
              "      <td>6.3</td>\n",
              "      <td>0.510</td>\n",
              "      <td>0.13</td>\n",
              "      <td>2.3</td>\n",
              "      <td>0.076</td>\n",
              "      <td>29.0</td>\n",
              "      <td>40.0</td>\n",
              "      <td>0.99574</td>\n",
              "      <td>3.42</td>\n",
              "      <td>0.75</td>\n",
              "      <td>11.0</td>\n",
              "      <td>6</td>\n",
              "    </tr>\n",
              "    <tr>\n",
              "      <th>1597</th>\n",
              "      <td>red</td>\n",
              "      <td>5.9</td>\n",
              "      <td>0.645</td>\n",
              "      <td>0.12</td>\n",
              "      <td>2.0</td>\n",
              "      <td>0.075</td>\n",
              "      <td>32.0</td>\n",
              "      <td>44.0</td>\n",
              "      <td>0.99547</td>\n",
              "      <td>3.57</td>\n",
              "      <td>0.71</td>\n",
              "      <td>10.2</td>\n",
              "      <td>5</td>\n",
              "    </tr>\n",
              "    <tr>\n",
              "      <th>1598</th>\n",
              "      <td>red</td>\n",
              "      <td>6.0</td>\n",
              "      <td>0.310</td>\n",
              "      <td>0.47</td>\n",
              "      <td>3.6</td>\n",
              "      <td>0.067</td>\n",
              "      <td>18.0</td>\n",
              "      <td>42.0</td>\n",
              "      <td>0.99549</td>\n",
              "      <td>3.39</td>\n",
              "      <td>0.66</td>\n",
              "      <td>11.0</td>\n",
              "      <td>6</td>\n",
              "    </tr>\n",
              "  </tbody>\n",
              "</table>\n",
              "<p>6497 rows × 13 columns</p>\n",
              "</div>"
            ],
            "text/plain": [
              "      color  fixed_acidity  volatile_acidity  citric_acid  residual_sugar  \\\n",
              "0     white            7.0             0.270         0.36            20.7   \n",
              "1     white            6.3             0.300         0.34             1.6   \n",
              "2     white            8.1             0.280         0.40             6.9   \n",
              "3     white            7.2             0.230         0.32             8.5   \n",
              "4     white            7.2             0.230         0.32             8.5   \n",
              "...     ...            ...               ...          ...             ...   \n",
              "1594    red            6.2             0.600         0.08             2.0   \n",
              "1595    red            5.9             0.550         0.10             2.2   \n",
              "1596    red            6.3             0.510         0.13             2.3   \n",
              "1597    red            5.9             0.645         0.12             2.0   \n",
              "1598    red            6.0             0.310         0.47             3.6   \n",
              "\n",
              "      chlorides  free_sulfur_dioxide  total_sulfur_dioxide  density    pH  \\\n",
              "0         0.045                 45.0                 170.0  1.00100  3.00   \n",
              "1         0.049                 14.0                 132.0  0.99400  3.30   \n",
              "2         0.050                 30.0                  97.0  0.99510  3.26   \n",
              "3         0.058                 47.0                 186.0  0.99560  3.19   \n",
              "4         0.058                 47.0                 186.0  0.99560  3.19   \n",
              "...         ...                  ...                   ...      ...   ...   \n",
              "1594      0.090                 32.0                  44.0  0.99490  3.45   \n",
              "1595      0.062                 39.0                  51.0  0.99512  3.52   \n",
              "1596      0.076                 29.0                  40.0  0.99574  3.42   \n",
              "1597      0.075                 32.0                  44.0  0.99547  3.57   \n",
              "1598      0.067                 18.0                  42.0  0.99549  3.39   \n",
              "\n",
              "      sulphates  alcohol  quality  \n",
              "0          0.45      8.8        6  \n",
              "1          0.49      9.5        6  \n",
              "2          0.44     10.1        6  \n",
              "3          0.40      9.9        6  \n",
              "4          0.40      9.9        6  \n",
              "...         ...      ...      ...  \n",
              "1594       0.58     10.5        5  \n",
              "1595       0.76     11.2        6  \n",
              "1596       0.75     11.0        6  \n",
              "1597       0.71     10.2        5  \n",
              "1598       0.66     11.0        6  \n",
              "\n",
              "[6497 rows x 13 columns]"
            ]
          },
          "execution_count": 51,
          "metadata": {},
          "output_type": "execute_result"
        }
      ],
      "source": [
        "df_w = pd.read_csv(\"D:\\data\\winequality-white.csv\", sep=\";\")\n",
        "df_w.insert(0, 'color', 'white')\n",
        "df_w.columns = df.columns.str.replace(\" \", \"_\")\n",
        "\n",
        "df_r = pd.read_csv(\"D:\\data\\winequality-red.csv\", sep=\";\")\n",
        "df_r.insert(0, 'color', 'red')\n",
        "df_r.columns = df.columns.str.replace(\" \", \"_\")\n",
        "\n",
        "df = pd.concat([df_w, df_r])\n",
        "df"
      ]
    },
    {
      "cell_type": "code",
      "execution_count": null,
      "id": "723b2726",
      "metadata": {
        "id": "723b2726",
        "outputId": "61dab3ba-7105-4cdc-efd0-f80b7d86bab7"
      },
      "outputs": [
        {
          "data": {
            "text/plain": [
              "array([['white', 7.0, 0.27, ..., 0.45, 8.8, 6],\n",
              "       ['white', 6.3, 0.3, ..., 0.49, 9.5, 6],\n",
              "       ['white', 8.1, 0.28, ..., 0.44, 10.1, 6],\n",
              "       ...,\n",
              "       ['red', 6.3, 0.51, ..., 0.75, 11.0, 6],\n",
              "       ['red', 5.9, 0.645, ..., 0.71, 10.2, 5],\n",
              "       ['red', 6.0, 0.31, ..., 0.66, 11.0, 6]], dtype=object)"
            ]
          },
          "execution_count": 70,
          "metadata": {},
          "output_type": "execute_result"
        }
      ],
      "source": [
        "arr = df.values\n",
        "arr"
      ]
    },
    {
      "cell_type": "code",
      "execution_count": null,
      "id": "92741b42",
      "metadata": {
        "id": "92741b42",
        "outputId": "8c55553a-be30-487a-f835-8e36bc339ebd"
      },
      "outputs": [
        {
          "data": {
            "text/plain": [
              "array([[7.   , 0.27 , 0.36 , ..., 1.001, 3.   , 0.45 ],\n",
              "       [6.3  , 0.3  , 0.34 , ..., 0.994, 3.3  , 0.49 ],\n",
              "       [8.1  , 0.28 , 0.4  , ..., 0.995, 3.26 , 0.44 ],\n",
              "       ...,\n",
              "       [6.3  , 0.51 , 0.13 , ..., 0.996, 3.42 , 0.75 ],\n",
              "       [5.9  , 0.645, 0.12 , ..., 0.995, 3.57 , 0.71 ],\n",
              "       [6.   , 0.31 , 0.47 , ..., 0.995, 3.39 , 0.66 ]])"
            ]
          },
          "execution_count": 103,
          "metadata": {},
          "output_type": "execute_result"
        }
      ],
      "source": [
        "X = arr[:, 1:-2]\n",
        "X = X.astype('float')\n",
        "X"
      ]
    },
    {
      "cell_type": "code",
      "execution_count": null,
      "id": "8c099af4",
      "metadata": {
        "id": "8c099af4",
        "outputId": "09e32543-1f15-4b9d-fa70-5745aaf90043"
      },
      "outputs": [
        {
          "data": {
            "text/plain": [
              "array([6, 6, 6, ..., 6, 5, 6])"
            ]
          },
          "execution_count": 104,
          "metadata": {},
          "output_type": "execute_result"
        }
      ],
      "source": [
        "Y = arr[:,-1]\n",
        "Y = Y.astype('int')\n",
        "Y"
      ]
    },
    {
      "cell_type": "markdown",
      "id": "ba9d2ec2",
      "metadata": {
        "id": "ba9d2ec2"
      },
      "source": [
        "X - численные параметры вина (крепкость, количество сахаров, плотность и т.д.)\n",
        "Y - оценка вина "
      ]
    },
    {
      "cell_type": "code",
      "execution_count": null,
      "id": "5cd8b38b",
      "metadata": {
        "id": "5cd8b38b"
      },
      "outputs": [],
      "source": [
        "np.set_printoptions(3)"
      ]
    },
    {
      "cell_type": "code",
      "execution_count": null,
      "id": "af4b2111",
      "metadata": {
        "id": "af4b2111",
        "outputId": "5b73cc1a-1272-4543-8823-29b24cba7e3f"
      },
      "outputs": [
        {
          "data": {
            "text/plain": [
              "array([[0.264, 0.127, 0.217, ..., 0.268, 0.217, 0.129],\n",
              "       [0.207, 0.147, 0.205, ..., 0.133, 0.45 , 0.152],\n",
              "       [0.355, 0.133, 0.241, ..., 0.154, 0.419, 0.124],\n",
              "       ...,\n",
              "       [0.207, 0.287, 0.078, ..., 0.166, 0.543, 0.298],\n",
              "       [0.174, 0.377, 0.072, ..., 0.161, 0.659, 0.275],\n",
              "       [0.182, 0.153, 0.283, ..., 0.162, 0.519, 0.247]])"
            ]
          },
          "execution_count": 74,
          "metadata": {},
          "output_type": "execute_result"
        }
      ],
      "source": [
        "min_max_scaler = MinMaxScaler()\n",
        "min_max_scaler.fit_transform(X)"
      ]
    },
    {
      "cell_type": "code",
      "execution_count": null,
      "id": "6d1c768b",
      "metadata": {
        "id": "6d1c768b",
        "outputId": "280384e3-33a8-40a2-bb97-5ea9ce7c4524"
      },
      "outputs": [
        {
          "data": {
            "text/plain": [
              "array([[-0.166, -0.423,  0.285, ...,  2.102, -1.359, -0.546],\n",
              "       [-0.706, -0.241,  0.147, ..., -0.232,  0.507, -0.277],\n",
              "       [ 0.682, -0.362,  0.56 , ...,  0.135,  0.258, -0.613],\n",
              "       ...,\n",
              "       [-0.706,  1.035, -1.298, ...,  0.348,  1.253,  1.47 ],\n",
              "       [-1.015,  1.855, -1.367, ...,  0.258,  2.186,  1.201],\n",
              "       [-0.937, -0.18 ,  1.042, ...,  0.265,  1.067,  0.865]])"
            ]
          },
          "execution_count": 77,
          "metadata": {},
          "output_type": "execute_result"
        }
      ],
      "source": [
        "st_scaler = StandardScaler()\n",
        "st_scaler.fit(X)\n",
        "st_scaler.transform(X)"
      ]
    },
    {
      "cell_type": "code",
      "execution_count": null,
      "id": "289dd070",
      "metadata": {
        "id": "289dd070",
        "outputId": "f67d9fe2-d4bb-4ce3-c19c-d739ef3e85ad"
      },
      "outputs": [
        {
          "data": {
            "text/plain": [
              "array([[0.039, 0.002, 0.002, ..., 0.006, 0.017, 0.003],\n",
              "       [0.047, 0.002, 0.003, ..., 0.007, 0.025, 0.004],\n",
              "       [0.079, 0.003, 0.004, ..., 0.01 , 0.032, 0.004],\n",
              "       ...,\n",
              "       [0.126, 0.01 , 0.003, ..., 0.02 , 0.068, 0.015],\n",
              "       [0.107, 0.012, 0.002, ..., 0.018, 0.065, 0.013],\n",
              "       [0.129, 0.007, 0.01 , ..., 0.021, 0.073, 0.014]])"
            ]
          },
          "execution_count": 78,
          "metadata": {},
          "output_type": "execute_result"
        }
      ],
      "source": [
        "norm_scaler = Normalizer()\n",
        "norm_scaler.fit(X)\n",
        "norm_scaler.transform(X)"
      ]
    },
    {
      "cell_type": "code",
      "execution_count": null,
      "id": "d8f32789",
      "metadata": {
        "id": "d8f32789",
        "outputId": "cced456d-2d41-4f8f-9d2d-ac8e51186224"
      },
      "outputs": [
        {
          "data": {
            "text/plain": [
              "array([[0., 0., 1., ..., 1., 0., 0.],\n",
              "       [0., 0., 1., ..., 0., 1., 0.],\n",
              "       [1., 0., 1., ..., 1., 1., 0.],\n",
              "       ...,\n",
              "       [0., 1., 0., ..., 1., 1., 1.],\n",
              "       [0., 1., 0., ..., 1., 1., 1.],\n",
              "       [0., 0., 1., ..., 1., 1., 1.]])"
            ]
          },
          "execution_count": 79,
          "metadata": {},
          "output_type": "execute_result"
        }
      ],
      "source": [
        "binarizer = Binarizer(threshold=0)\n",
        "binarizer.fit(st_scaler.transform(X))\n",
        "binarizer.transform(st_scaler.transform(X))"
      ]
    },
    {
      "cell_type": "code",
      "execution_count": null,
      "id": "4178d0ff",
      "metadata": {
        "id": "4178d0ff",
        "outputId": "e69891fd-10b7-4620-da6d-a522c027fb35"
      },
      "outputs": [
        {
          "data": {
            "text/plain": [
              "array([  8.004,  96.674,   9.31 ,   9.111,  50.85 ,  14.939,   7.716,\n",
              "       136.951,   2.021,   4.326])"
            ]
          },
          "execution_count": 107,
          "metadata": {},
          "output_type": "execute_result"
        }
      ],
      "source": [
        "select_k = SelectKBest(score_func=f_classif, k=4)\n",
        "select_k.fit(X, Y)\n",
        "select_k.scores_"
      ]
    },
    {
      "cell_type": "code",
      "execution_count": null,
      "id": "e36e7152",
      "metadata": {
        "id": "e36e7152",
        "outputId": "24e6ad18-1275-44ef-cc6e-9c2946949dd1"
      },
      "outputs": [
        {
          "data": {
            "text/plain": [
              "array([[ 0.27 ,  0.045, 45.   ,  1.001],\n",
              "       [ 0.3  ,  0.049, 14.   ,  0.994],\n",
              "       [ 0.28 ,  0.05 , 30.   ,  0.995],\n",
              "       ...,\n",
              "       [ 0.51 ,  0.076, 29.   ,  0.996],\n",
              "       [ 0.645,  0.075, 32.   ,  0.995],\n",
              "       [ 0.31 ,  0.067, 18.   ,  0.995]])"
            ]
          },
          "execution_count": 108,
          "metadata": {},
          "output_type": "execute_result"
        }
      ],
      "source": [
        "select_k.transform(X)"
      ]
    },
    {
      "cell_type": "code",
      "execution_count": null,
      "id": "b93fd52f",
      "metadata": {
        "id": "b93fd52f"
      },
      "outputs": [],
      "source": [
        "regression_model = LogisticRegression(solver='lbfgs', max_iter=10000)\n",
        "rfe = RFE(estimator=regression_model, n_features_to_select=3)"
      ]
    },
    {
      "cell_type": "code",
      "execution_count": null,
      "id": "c8902aaf",
      "metadata": {
        "id": "c8902aaf",
        "outputId": "42d773ee-311d-4ce1-85d9-01870467e30c"
      },
      "outputs": [
        {
          "data": {
            "text/plain": [
              "RFE(estimator=LogisticRegression(max_iter=10000), n_features_to_select=3)"
            ]
          },
          "execution_count": 122,
          "metadata": {},
          "output_type": "execute_result"
        }
      ],
      "source": [
        "rfe.fit(X, Y)"
      ]
    },
    {
      "cell_type": "code",
      "execution_count": null,
      "id": "da45ddff",
      "metadata": {
        "id": "da45ddff",
        "outputId": "eb47de55-6cbb-4f87-f716-e4e34622667e"
      },
      "outputs": [
        {
          "data": {
            "text/plain": [
              "3"
            ]
          },
          "execution_count": 123,
          "metadata": {},
          "output_type": "execute_result"
        }
      ],
      "source": [
        "rfe.n_features_"
      ]
    },
    {
      "cell_type": "code",
      "execution_count": null,
      "id": "7934fb6b",
      "metadata": {
        "id": "7934fb6b",
        "outputId": "a1343064-a23b-4982-e428-86a533464514"
      },
      "outputs": [
        {
          "data": {
            "text/plain": [
              "array([False,  True, False, False,  True, False, False, False, False,\n",
              "        True])"
            ]
          },
          "execution_count": 124,
          "metadata": {},
          "output_type": "execute_result"
        }
      ],
      "source": [
        "rfe.support_"
      ]
    },
    {
      "cell_type": "markdown",
      "id": "f7487f11",
      "metadata": {
        "id": "f7487f11"
      },
      "source": [
        "3 отобранных признака\n",
        "* volatile acidity (летучая кислотность)\n",
        "* chlorides (количество хлоридов)\n",
        "* alcohol (крепкость)"
      ]
    },
    {
      "cell_type": "code",
      "execution_count": null,
      "id": "83a10c80",
      "metadata": {
        "id": "83a10c80",
        "outputId": "7e0acb3e-65fc-4eaf-d923-4559de7c1e2d"
      },
      "outputs": [
        {
          "data": {
            "text/plain": [
              "array([5, 1, 4, 6, 1, 7, 8, 2, 3, 1])"
            ]
          },
          "execution_count": 125,
          "metadata": {},
          "output_type": "execute_result"
        }
      ],
      "source": [
        "rfe.ranking_"
      ]
    },
    {
      "cell_type": "markdown",
      "id": "64ca8b01",
      "metadata": {
        "id": "64ca8b01"
      },
      "source": [
        "Можно заметить, что на оценку также сильно влияют такие факторы как pH (кислотность) и sulphates (количество сульфатов)"
      ]
    },
    {
      "cell_type": "code",
      "execution_count": null,
      "id": "81df0951",
      "metadata": {
        "id": "81df0951",
        "outputId": "e07c0165-b8db-4973-a50b-935d1bd809b1"
      },
      "outputs": [
        {
          "data": {
            "text/plain": [
              "array([0.954, 0.041, 0.005])"
            ]
          },
          "execution_count": 131,
          "metadata": {},
          "output_type": "execute_result"
        }
      ],
      "source": [
        "pca = PCA(n_components=3)\n",
        "pca.fit(X)\n",
        "pca.explained_variance_ratio_"
      ]
    },
    {
      "cell_type": "code",
      "execution_count": null,
      "id": "2a1e61bf",
      "metadata": {
        "id": "2a1e61bf",
        "outputId": "fc806566-9db8-4bd2-aca3-b579899c04d3"
      },
      "outputs": [
        {
          "data": {
            "text/plain": [
              "array([[-7.409e-03, -1.184e-03,  4.869e-04,  4.102e-02, -1.682e-04,\n",
              "         2.305e-01,  9.722e-01,  1.768e-06, -6.555e-04, -7.044e-04],\n",
              "       [-5.360e-03, -7.839e-04, -2.481e-04,  1.866e-02,  6.755e-05,\n",
              "         9.727e-01, -2.314e-01,  1.380e-06,  6.478e-04,  3.466e-04],\n",
              "       [ 2.254e-02,  7.504e-04,  1.977e-03,  9.987e-01,  1.063e-04,\n",
              "        -2.747e-02, -3.546e-02,  4.530e-04, -6.921e-03, -2.024e-03]])"
            ]
          },
          "execution_count": 132,
          "metadata": {},
          "output_type": "execute_result"
        }
      ],
      "source": [
        "pca.components_"
      ]
    },
    {
      "cell_type": "markdown",
      "id": "7326b4b5",
      "metadata": {
        "id": "7326b4b5"
      },
      "source": [
        "Смысл алгоритма PCA - аппроксимация данных n-мерным элипсом в пространстве признаков. Полученные 3 вектора - оси, представляющие направления максимальной дисперсии данных"
      ]
    },
    {
      "cell_type": "code",
      "execution_count": null,
      "id": "b1dbf409",
      "metadata": {
        "id": "b1dbf409",
        "outputId": "6fbfc82d-2e11-402b-b8a9-c416c0e7607c"
      },
      "outputs": [
        {
          "data": {
            "text/plain": [
              "array([[ 56.71 ,   1.809,  12.912],\n",
              "       [ 11.844, -19.902,  -3.982],\n",
              "       [-18.291,   3.85 ,   2.154],\n",
              "       ...,\n",
              "       [-74.112,  15.992,  -0.434],\n",
              "       [-69.541,  17.981,  -0.968],\n",
              "       [-74.647,   4.856,   1.09 ]])"
            ]
          },
          "execution_count": 134,
          "metadata": {},
          "output_type": "execute_result"
        }
      ],
      "source": [
        "pca.fit_transform(X)"
      ]
    },
    {
      "cell_type": "code",
      "execution_count": null,
      "id": "096a2dcb",
      "metadata": {
        "id": "096a2dcb",
        "outputId": "b0f39ed9-e878-413b-d997-a25609672cce"
      },
      "outputs": [
        {
          "data": {
            "text/plain": [
              "array([0.088, 0.111, 0.094, 0.097, 0.099, 0.096, 0.101, 0.122, 0.092,\n",
              "       0.099])"
            ]
          },
          "execution_count": 139,
          "metadata": {},
          "output_type": "execute_result"
        }
      ],
      "source": [
        "extra_trees_cls = ExtraTreesClassifier(n_estimators=100)\n",
        "extra_trees_cls.fit(X, Y)\n",
        "extra_trees_cls.feature_importances_"
      ]
    },
    {
      "cell_type": "markdown",
      "id": "fb829d52",
      "metadata": {
        "id": "fb829d52"
      },
      "source": [
        "Можно заметить, что наиболее информативны признаки volatile_acidity (летучая кислотность) и density (плотность)"
      ]
    }
  ],
  "metadata": {
    "kernelspec": {
      "display_name": "Python 3 (ipykernel)",
      "language": "python",
      "name": "python3"
    },
    "language_info": {
      "codemirror_mode": {
        "name": "ipython",
        "version": 3
      },
      "file_extension": ".py",
      "mimetype": "text/x-python",
      "name": "python",
      "nbconvert_exporter": "python",
      "pygments_lexer": "ipython3",
      "version": "3.9.13"
    },
    "colab": {
      "provenance": []
    }
  },
  "nbformat": 4,
  "nbformat_minor": 5
}