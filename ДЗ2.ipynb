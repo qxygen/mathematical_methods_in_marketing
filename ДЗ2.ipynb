{
  "cells": [
    {
      "cell_type": "markdown",
      "metadata": {
        "id": "U3miVs_Fd2E8"
      },
      "source": [
        "## Задание №2. Проверка статистических гипотез "
      ]
    },
    {
      "cell_type": "code",
      "source": [
        "import os\n",
        "import pandas as pd\n",
        "import numpy as np\n",
        "import matplotlib\n",
        "import matplotlib.pyplot as plt\n",
        "from scipy import stats"
      ],
      "metadata": {
        "id": "xrMM2tSne2Qe"
      },
      "execution_count": null,
      "outputs": []
    },
    {
      "cell_type": "markdown",
      "metadata": {
        "id": "GJeNPoU4d2FE"
      },
      "source": [
        "Веберите любые данные из репозитория данных для машинного обучения (UCI Machine learning repository: http://archive.ics.uci.edu/ml/index.php) или возьмите свои данные и проверьте для них различные статистические гипотезы в соответствии со следующей схемой. Комментарии к каждому разделу обязательны. Возможно применения разных наборов данных для проверки разных гипотез."
      ]
    },
    {
      "cell_type": "code",
      "source": [
        "data = pd.read_csv(\"/content/drive/MyDrive/data/synchronous machine.csv\", sep = ';')\n",
        "data.head"
      ],
      "metadata": {
        "colab": {
          "base_uri": "https://localhost:8080/"
        },
        "id": "OwiQsKHie4NO",
        "outputId": "0f550e08-012e-4ea5-e38b-177c213f0024"
      },
      "execution_count": null,
      "outputs": [
        {
          "output_type": "execute_result",
          "data": {
            "text/plain": [
              "<bound method NDFrame.head of       Iy    PF     e    dIf     If\n",
              "0    3.0  0.66  0.34  0.383  1.563\n",
              "1    3.0  0.68  0.32  0.372  1.552\n",
              "2    3.0  0.70  0.30  0.360  1.540\n",
              "3    3.0  0.72  0.28  0.338  1.518\n",
              "4    3.0  0.74  0.26  0.317  1.497\n",
              "..   ...   ...   ...    ...    ...\n",
              "552  6.0  0.91  0.09  0.142  1.322\n",
              "553  6.0  0.93  0.07  0.151  1.331\n",
              "554  6.0  0.95  0.05  0.160  1.340\n",
              "555  6.0  0.97  0.03  0.160  1.340\n",
              "556  6.0  0.99  0.01  0.160  1.340\n",
              "\n",
              "[557 rows x 5 columns]>"
            ]
          },
          "metadata": {},
          "execution_count": 55
        }
      ]
    },
    {
      "cell_type": "markdown",
      "metadata": {
        "id": "bYSLsRWBd2FF"
      },
      "source": [
        "## Проверка гипотезы о нормальности распределения признаков (критерий Шапиро-Уилка, графический метод, метод на основе ассиметрии и эксцесса)"
      ]
    },
    {
      "cell_type": "markdown",
      "source": [
        "H0: X~N\n",
        "\n",
        "H1: X≁N"
      ],
      "metadata": {
        "id": "UyV49AkVq1_h"
      }
    },
    {
      "cell_type": "markdown",
      "source": [
        "Проверять \"нормальность\" распределения будем по критерию Шапиро-Уилка (*scipy.stats.shapiro*) на основе оптимальной линейной несмещённой оценке дисперсии к её обычной оценке."
      ],
      "metadata": {
        "id": "DzEZoU77rLBo"
      }
    },
    {
      "cell_type": "code",
      "execution_count": null,
      "metadata": {
        "colab": {
          "base_uri": "https://localhost:8080/",
          "height": 265
        },
        "id": "NZLVvIVUd2FG",
        "outputId": "a79378d5-6bea-4875-b90d-35edd636726a"
      },
      "outputs": [
        {
          "output_type": "display_data",
          "data": {
            "text/plain": [
              "<Figure size 432x288 with 1 Axes>"
            ],
            "image/png": "[encoded data removed]"
          },
          "metadata": {
            "needs_background": "light"
          }
        }
      ],
      "source": [
        "plt.hist(np.log10(data['If']), bins=10)\n",
        "plt.show()"
      ]
    },
    {
      "cell_type": "code",
      "source": [
        "stats.shapiro(np.log10(data['If']))"
      ],
      "metadata": {
        "colab": {
          "base_uri": "https://localhost:8080/"
        },
        "id": "YP5YmEZXqnat",
        "outputId": "06ef765c-6a96-4f60-b160-77843d3ff103"
      },
      "execution_count": null,
      "outputs": [
        {
          "output_type": "execute_result",
          "data": {
            "text/plain": [
              "ShapiroResult(statistic=0.9707548022270203, pvalue=4.266988096190971e-09)"
            ]
          },
          "metadata": {},
          "execution_count": 65
        }
      ]
    },
    {
      "cell_type": "markdown",
      "source": [
        "На выходе получили значение p-value для нашей проверки, которое меньше критерия значимости α = 0.01, 0.05. Следовательно, гипотезу отклоняем (это подтверждается и неколокообразной гистограммой)."
      ],
      "metadata": {
        "id": "2RCtCSs_sFCk"
      }
    },
    {
      "cell_type": "markdown",
      "metadata": {
        "id": "_xp7R7CZd2FH"
      },
      "source": [
        "## Проверка гипотезы о независимости метрических признаков (корреляция Пирсона)"
      ]
    },
    {
      "cell_type": "markdown",
      "source": [
        "Корреляция Пирсона применяется для непрерывных случайных величин.\n",
        "\n",
        "H0: X и Y независимы.\n",
        "\n",
        "H1: X и Y зависимы."
      ],
      "metadata": {
        "id": "4dW0QsLPwCGF"
      }
    },
    {
      "cell_type": "code",
      "source": [
        "data1 = pd.read_csv(\"/content/drive/MyDrive/data/consumers-price-index-september-2022-quarter-index-numbers.csv\", sep = ';')\n",
        "data1"
      ],
      "metadata": {
        "colab": {
          "base_uri": "https://localhost:8080/",
          "height": 424
        },
        "id": "ie9fVYIDzzX0",
        "outputId": "df288acb-db3e-4378-af7c-9f9fca7e7178"
      },
      "execution_count": null,
      "outputs": [
        {
          "output_type": "execute_result",
          "data": {
            "text/plain": [
              "      Series_reference   Period   Data_value STATUS  UNITS Subject  \\\n",
              "0           CPIQ.SE901  1914.06    13.167858  FINAL  Index     CPI   \n",
              "1           CPIQ.SE901  1914.09     0.000000  FINAL  Index     CPI   \n",
              "2           CPIQ.SE901  1914.12     0.000000  FINAL  Index     CPI   \n",
              "3           CPIQ.SE901  1915.03     0.000000  FINAL  Index     CPI   \n",
              "4           CPIQ.SE901  1915.06     0.000000  FINAL  Index     CPI   \n",
              "...                ...      ...          ...    ...    ...     ...   \n",
              "20242        CPIQ.SE9A  2021.09  1106.000000  FINAL  Index     CPI   \n",
              "20243        CPIQ.SE9A  2021.12  1122.000000  FINAL  Index     CPI   \n",
              "20244        CPIQ.SE9A  2022.03  1142.000000  FINAL  Index     CPI   \n",
              "20245        CPIQ.SE9A  2022.06  1161.000000  FINAL  Index     CPI   \n",
              "20246        CPIQ.SE9A  2022.09  1186.000000  FINAL  Index     CPI   \n",
              "\n",
              "                                    Group Series_title_1  \n",
              "0      CPI Level 1 Groups for New Zealand           Food  \n",
              "1      CPI Level 1 Groups for New Zealand           Food  \n",
              "2      CPI Level 1 Groups for New Zealand           Food  \n",
              "3      CPI Level 1 Groups for New Zealand           Food  \n",
              "4      CPI Level 1 Groups for New Zealand           Food  \n",
              "...                                   ...            ...  \n",
              "20242      CPI All Groups for New Zealand     All groups  \n",
              "20243      CPI All Groups for New Zealand     All groups  \n",
              "20244      CPI All Groups for New Zealand     All groups  \n",
              "20245      CPI All Groups for New Zealand     All groups  \n",
              "20246      CPI All Groups for New Zealand     All groups  \n",
              "\n",
              "[20247 rows x 8 columns]"
            ],
            "text/html": [
              "\n",
              "  <div id=\"df-0109b8ad-bfef-4ff1-b5a3-2e064e480ed0\">\n",
              "    <div class=\"colab-df-container\">\n",
              "      <div>\n",
              "<style scoped>\n",
              "    .dataframe tbody tr th:only-of-type {\n",
              "        vertical-align: middle;\n",
              "    }\n",
              "\n",
              "    .dataframe tbody tr th {\n",
              "        vertical-align: top;\n",
              "    }\n",
              "\n",
              "    .dataframe thead th {\n",
              "        text-align: right;\n",
              "    }\n",
              "</style>\n",
              "<table border=\"1\" class=\"dataframe\">\n",
              "  <thead>\n",
              "    <tr style=\"text-align: right;\">\n",
              "      <th></th>\n",
              "      <th>Series_reference</th>\n",
              "      <th>Period</th>\n",
              "      <th>Data_value</th>\n",
              "      <th>STATUS</th>\n",
              "      <th>UNITS</th>\n",
              "      <th>Subject</th>\n",
              "      <th>Group</th>\n",
              "      <th>Series_title_1</th>\n",
              "    </tr>\n",
              "  </thead>\n",
              "  <tbody>\n",
              "    <tr>\n",
              "      <th>0</th>\n",
              "      <td>CPIQ.SE901</td>\n",
              "      <td>1914.06</td>\n",
              "      <td>13.167858</td>\n",
              "      <td>FINAL</td>\n",
              "      <td>Index</td>\n",
              "      <td>CPI</td>\n",
              "      <td>CPI Level 1 Groups for New Zealand</td>\n",
              "      <td>Food</td>\n",
              "    </tr>\n",
              "    <tr>\n",
              "      <th>1</th>\n",
              "      <td>CPIQ.SE901</td>\n",
              "      <td>1914.09</td>\n",
              "      <td>0.000000</td>\n",
              "      <td>FINAL</td>\n",
              "      <td>Index</td>\n",
              "      <td>CPI</td>\n",
              "      <td>CPI Level 1 Groups for New Zealand</td>\n",
              "      <td>Food</td>\n",
              "    </tr>\n",
              "    <tr>\n",
              "      <th>2</th>\n",
              "      <td>CPIQ.SE901</td>\n",
              "      <td>1914.12</td>\n",
              "      <td>0.000000</td>\n",
              "      <td>FINAL</td>\n",
              "      <td>Index</td>\n",
              "      <td>CPI</td>\n",
              "      <td>CPI Level 1 Groups for New Zealand</td>\n",
              "      <td>Food</td>\n",
              "    </tr>\n",
              "    <tr>\n",
              "      <th>3</th>\n",
              "      <td>CPIQ.SE901</td>\n",
              "      <td>1915.03</td>\n",
              "      <td>0.000000</td>\n",
              "      <td>FINAL</td>\n",
              "      <td>Index</td>\n",
              "      <td>CPI</td>\n",
              "      <td>CPI Level 1 Groups for New Zealand</td>\n",
              "      <td>Food</td>\n",
              "    </tr>\n",
              "    <tr>\n",
              "      <th>4</th>\n",
              "      <td>CPIQ.SE901</td>\n",
              "      <td>1915.06</td>\n",
              "      <td>0.000000</td>\n",
              "      <td>FINAL</td>\n",
              "      <td>Index</td>\n",
              "      <td>CPI</td>\n",
              "      <td>CPI Level 1 Groups for New Zealand</td>\n",
              "      <td>Food</td>\n",
              "    </tr>\n",
              "    <tr>\n",
              "      <th>...</th>\n",
              "      <td>...</td>\n",
              "      <td>...</td>\n",
              "      <td>...</td>\n",
              "      <td>...</td>\n",
              "      <td>...</td>\n",
              "      <td>...</td>\n",
              "      <td>...</td>\n",
              "      <td>...</td>\n",
              "    </tr>\n",
              "    <tr>\n",
              "      <th>20242</th>\n",
              "      <td>CPIQ.SE9A</td>\n",
              "      <td>2021.09</td>\n",
              "      <td>1106.000000</td>\n",
              "      <td>FINAL</td>\n",
              "      <td>Index</td>\n",
              "      <td>CPI</td>\n",
              "      <td>CPI All Groups for New Zealand</td>\n",
              "      <td>All groups</td>\n",
              "    </tr>\n",
              "    <tr>\n",
              "      <th>20243</th>\n",
              "      <td>CPIQ.SE9A</td>\n",
              "      <td>2021.12</td>\n",
              "      <td>1122.000000</td>\n",
              "      <td>FINAL</td>\n",
              "      <td>Index</td>\n",
              "      <td>CPI</td>\n",
              "      <td>CPI All Groups for New Zealand</td>\n",
              "      <td>All groups</td>\n",
              "    </tr>\n",
              "    <tr>\n",
              "      <th>20244</th>\n",
              "      <td>CPIQ.SE9A</td>\n",
              "      <td>2022.03</td>\n",
              "      <td>1142.000000</td>\n",
              "      <td>FINAL</td>\n",
              "      <td>Index</td>\n",
              "      <td>CPI</td>\n",
              "      <td>CPI All Groups for New Zealand</td>\n",
              "      <td>All groups</td>\n",
              "    </tr>\n",
              "    <tr>\n",
              "      <th>20245</th>\n",
              "      <td>CPIQ.SE9A</td>\n",
              "      <td>2022.06</td>\n",
              "      <td>1161.000000</td>\n",
              "      <td>FINAL</td>\n",
              "      <td>Index</td>\n",
              "      <td>CPI</td>\n",
              "      <td>CPI All Groups for New Zealand</td>\n",
              "      <td>All groups</td>\n",
              "    </tr>\n",
              "    <tr>\n",
              "      <th>20246</th>\n",
              "      <td>CPIQ.SE9A</td>\n",
              "      <td>2022.09</td>\n",
              "      <td>1186.000000</td>\n",
              "      <td>FINAL</td>\n",
              "      <td>Index</td>\n",
              "      <td>CPI</td>\n",
              "      <td>CPI All Groups for New Zealand</td>\n",
              "      <td>All groups</td>\n",
              "    </tr>\n",
              "  </tbody>\n",
              "</table>\n",
              "<p>20247 rows × 8 columns</p>\n",
              "</div>\n",
              "      <button class=\"colab-df-convert\" onclick=\"convertToInteractive('df-0109b8ad-bfef-4ff1-b5a3-2e064e480ed0')\"\n",
              "              title=\"Convert this dataframe to an interactive table.\"\n",
              "              style=\"display:none;\">\n",
              "        \n",
              "  <svg xmlns=\"http://www.w3.org/2000/svg\" height=\"24px\"viewBox=\"0 0 24 24\"\n",
              "       width=\"24px\">\n",
              "    <path d=\"M0 0h24v24H0V0z\" fill=\"none\"/>\n",
              "    <path d=\"M18.56 5.44l.94 2.06.94-2.06 2.06-.94-2.06-.94-.94-2.06-.94 2.06-2.06.94zm-11 1L8.5 8.5l.94-2.06 2.06-.94-2.06-.94L8.5 2.5l-.94 2.06-2.06.94zm10 10l.94 2.06.94-2.06 2.06-.94-2.06-.94-.94-2.06-.94 2.06-2.06.94z\"/><path d=\"M17.41 7.96l-1.37-1.37c-.4-.4-.92-.59-1.43-.59-.52 0-1.04.2-1.43.59L10.3 9.45l-7.72 7.72c-.78.78-.78 2.05 0 2.83L4 21.41c.39.39.9.59 1.41.59.51 0 1.02-.2 1.41-.59l7.78-7.78 2.81-2.81c.8-.78.8-2.07 0-2.86zM5.41 20L4 18.59l7.72-7.72 1.47 1.35L5.41 20z\"/>\n",
              "  </svg>\n",
              "      </button>\n",
              "      \n",
              "  <style>\n",
              "    .colab-df-container {\n",
              "      display:flex;\n",
              "      flex-wrap:wrap;\n",
              "      gap: 12px;\n",
              "    }\n",
              "\n",
              "    .colab-df-convert {\n",
              "      background-color: #E8F0FE;\n",
              "      border: none;\n",
              "      border-radius: 50%;\n",
              "      cursor: pointer;\n",
              "      display: none;\n",
              "      fill: #1967D2;\n",
              "      height: 32px;\n",
              "      padding: 0 0 0 0;\n",
              "      width: 32px;\n",
              "    }\n",
              "\n",
              "    .colab-df-convert:hover {\n",
              "      background-color: #E2EBFA;\n",
              "      box-shadow: 0px 1px 2px rgba(60, 64, 67, 0.3), 0px 1px 3px 1px rgba(60, 64, 67, 0.15);\n",
              "      fill: #174EA6;\n",
              "    }\n",
              "\n",
              "    [theme=dark] .colab-df-convert {\n",
              "      background-color: #3B4455;\n",
              "      fill: #D2E3FC;\n",
              "    }\n",
              "\n",
              "    [theme=dark] .colab-df-convert:hover {\n",
              "      background-color: #434B5C;\n",
              "      box-shadow: 0px 1px 3px 1px rgba(0, 0, 0, 0.15);\n",
              "      filter: drop-shadow(0px 1px 2px rgba(0, 0, 0, 0.3));\n",
              "      fill: #FFFFFF;\n",
              "    }\n",
              "  </style>\n",
              "\n",
              "      <script>\n",
              "        const buttonEl =\n",
              "          document.querySelector('#df-0109b8ad-bfef-4ff1-b5a3-2e064e480ed0 button.colab-df-convert');\n",
              "        buttonEl.style.display =\n",
              "          google.colab.kernel.accessAllowed ? 'block' : 'none';\n",
              "\n",
              "        async function convertToInteractive(key) {\n",
              "          const element = document.querySelector('#df-0109b8ad-bfef-4ff1-b5a3-2e064e480ed0');\n",
              "          const dataTable =\n",
              "            await google.colab.kernel.invokeFunction('convertToInteractive',\n",
              "                                                     [key], {});\n",
              "          if (!dataTable) return;\n",
              "\n",
              "          const docLinkHtml = 'Like what you see? Visit the ' +\n",
              "            '<a target=\"_blank\" href=https://colab.research.google.com/notebooks/data_table.ipynb>data table notebook</a>'\n",
              "            + ' to learn more about interactive tables.';\n",
              "          element.innerHTML = '';\n",
              "          dataTable['output_type'] = 'display_data';\n",
              "          await google.colab.output.renderOutput(dataTable, element);\n",
              "          const docLink = document.createElement('div');\n",
              "          docLink.innerHTML = docLinkHtml;\n",
              "          element.appendChild(docLink);\n",
              "        }\n",
              "      </script>\n",
              "    </div>\n",
              "  </div>\n",
              "  "
            ]
          },
          "metadata": {},
          "execution_count": 78
        }
      ]
    },
    {
      "cell_type": "markdown",
      "source": [
        "Возьмём из этой таблицы индекс цен для фруктов (data1_fruit) и овощей (data1_vegetables). Проверим независимость метрических признаков для этих данных."
      ],
      "metadata": {
        "id": "LQ-E8PxnNtlX"
      }
    },
    {
      "cell_type": "code",
      "source": [
        "data1_fruit = data1[data1[\"Series_title_1\"] == \"Fruit\"]\n",
        "data1_fruit"
      ],
      "metadata": {
        "colab": {
          "base_uri": "https://localhost:8080/",
          "height": 424
        },
        "id": "IoSaaWbMDMZJ",
        "outputId": "1d2e9d63-833e-4e3a-e540-781a3eb75b82"
      },
      "execution_count": null,
      "outputs": [
        {
          "output_type": "execute_result",
          "data": {
            "text/plain": [
              "    Series_reference   Period   Data_value STATUS  UNITS Subject  \\\n",
              "528    CPIQ.SE901101  1999.06   602.178091  FINAL  Index     CPI   \n",
              "529    CPIQ.SE901101  1999.09   573.991031  FINAL  Index     CPI   \n",
              "530    CPIQ.SE901101  1999.12   549.007047  FINAL  Index     CPI   \n",
              "531    CPIQ.SE901101  2000.03   568.225496  FINAL  Index     CPI   \n",
              "532    CPIQ.SE901101  2000.06   559.256887  FINAL  Index     CPI   \n",
              "..               ...      ...          ...    ...    ...     ...   \n",
              "617    CPIQ.SE901101  2021.09  1014.000000  FINAL  Index     CPI   \n",
              "618    CPIQ.SE901101  2021.12  1038.000000  FINAL  Index     CPI   \n",
              "619    CPIQ.SE901101  2022.03  1167.000000  FINAL  Index     CPI   \n",
              "620    CPIQ.SE901101  2022.06  1096.000000  FINAL  Index     CPI   \n",
              "621    CPIQ.SE901101  2022.09  1148.000000  FINAL  Index     CPI   \n",
              "\n",
              "                                   Group Series_title_1  \n",
              "528  CPI Level 3 Classes for New Zealand          Fruit  \n",
              "529  CPI Level 3 Classes for New Zealand          Fruit  \n",
              "530  CPI Level 3 Classes for New Zealand          Fruit  \n",
              "531  CPI Level 3 Classes for New Zealand          Fruit  \n",
              "532  CPI Level 3 Classes for New Zealand          Fruit  \n",
              "..                                   ...            ...  \n",
              "617  CPI Level 3 Classes for New Zealand          Fruit  \n",
              "618  CPI Level 3 Classes for New Zealand          Fruit  \n",
              "619  CPI Level 3 Classes for New Zealand          Fruit  \n",
              "620  CPI Level 3 Classes for New Zealand          Fruit  \n",
              "621  CPI Level 3 Classes for New Zealand          Fruit  \n",
              "\n",
              "[94 rows x 8 columns]"
            ],
            "text/html": [
              "\n",
              "  <div id=\"df-bed77813-f402-41e9-8483-98c0903c25fd\">\n",
              "    <div class=\"colab-df-container\">\n",
              "      <div>\n",
              "<style scoped>\n",
              "    .dataframe tbody tr th:only-of-type {\n",
              "        vertical-align: middle;\n",
              "    }\n",
              "\n",
              "    .dataframe tbody tr th {\n",
              "        vertical-align: top;\n",
              "    }\n",
              "\n",
              "    .dataframe thead th {\n",
              "        text-align: right;\n",
              "    }\n",
              "</style>\n",
              "<table border=\"1\" class=\"dataframe\">\n",
              "  <thead>\n",
              "    <tr style=\"text-align: right;\">\n",
              "      <th></th>\n",
              "      <th>Series_reference</th>\n",
              "      <th>Period</th>\n",
              "      <th>Data_value</th>\n",
              "      <th>STATUS</th>\n",
              "      <th>UNITS</th>\n",
              "      <th>Subject</th>\n",
              "      <th>Group</th>\n",
              "      <th>Series_title_1</th>\n",
              "    </tr>\n",
              "  </thead>\n",
              "  <tbody>\n",
              "    <tr>\n",
              "      <th>528</th>\n",
              "      <td>CPIQ.SE901101</td>\n",
              "      <td>1999.06</td>\n",
              "      <td>602.178091</td>\n",
              "      <td>FINAL</td>\n",
              "      <td>Index</td>\n",
              "      <td>CPI</td>\n",
              "      <td>CPI Level 3 Classes for New Zealand</td>\n",
              "      <td>Fruit</td>\n",
              "    </tr>\n",
              "    <tr>\n",
              "      <th>529</th>\n",
              "      <td>CPIQ.SE901101</td>\n",
              "      <td>1999.09</td>\n",
              "      <td>573.991031</td>\n",
              "      <td>FINAL</td>\n",
              "      <td>Index</td>\n",
              "      <td>CPI</td>\n",
              "      <td>CPI Level 3 Classes for New Zealand</td>\n",
              "      <td>Fruit</td>\n",
              "    </tr>\n",
              "    <tr>\n",
              "      <th>530</th>\n",
              "      <td>CPIQ.SE901101</td>\n",
              "      <td>1999.12</td>\n",
              "      <td>549.007047</td>\n",
              "      <td>FINAL</td>\n",
              "      <td>Index</td>\n",
              "      <td>CPI</td>\n",
              "      <td>CPI Level 3 Classes for New Zealand</td>\n",
              "      <td>Fruit</td>\n",
              "    </tr>\n",
              "    <tr>\n",
              "      <th>531</th>\n",
              "      <td>CPIQ.SE901101</td>\n",
              "      <td>2000.03</td>\n",
              "      <td>568.225496</td>\n",
              "      <td>FINAL</td>\n",
              "      <td>Index</td>\n",
              "      <td>CPI</td>\n",
              "      <td>CPI Level 3 Classes for New Zealand</td>\n",
              "      <td>Fruit</td>\n",
              "    </tr>\n",
              "    <tr>\n",
              "      <th>532</th>\n",
              "      <td>CPIQ.SE901101</td>\n",
              "      <td>2000.06</td>\n",
              "      <td>559.256887</td>\n",
              "      <td>FINAL</td>\n",
              "      <td>Index</td>\n",
              "      <td>CPI</td>\n",
              "      <td>CPI Level 3 Classes for New Zealand</td>\n",
              "      <td>Fruit</td>\n",
              "    </tr>\n",
              "    <tr>\n",
              "      <th>...</th>\n",
              "      <td>...</td>\n",
              "      <td>...</td>\n",
              "      <td>...</td>\n",
              "      <td>...</td>\n",
              "      <td>...</td>\n",
              "      <td>...</td>\n",
              "      <td>...</td>\n",
              "      <td>...</td>\n",
              "    </tr>\n",
              "    <tr>\n",
              "      <th>617</th>\n",
              "      <td>CPIQ.SE901101</td>\n",
              "      <td>2021.09</td>\n",
              "      <td>1014.000000</td>\n",
              "      <td>FINAL</td>\n",
              "      <td>Index</td>\n",
              "      <td>CPI</td>\n",
              "      <td>CPI Level 3 Classes for New Zealand</td>\n",
              "      <td>Fruit</td>\n",
              "    </tr>\n",
              "    <tr>\n",
              "      <th>618</th>\n",
              "      <td>CPIQ.SE901101</td>\n",
              "      <td>2021.12</td>\n",
              "      <td>1038.000000</td>\n",
              "      <td>FINAL</td>\n",
              "      <td>Index</td>\n",
              "      <td>CPI</td>\n",
              "      <td>CPI Level 3 Classes for New Zealand</td>\n",
              "      <td>Fruit</td>\n",
              "    </tr>\n",
              "    <tr>\n",
              "      <th>619</th>\n",
              "      <td>CPIQ.SE901101</td>\n",
              "      <td>2022.03</td>\n",
              "      <td>1167.000000</td>\n",
              "      <td>FINAL</td>\n",
              "      <td>Index</td>\n",
              "      <td>CPI</td>\n",
              "      <td>CPI Level 3 Classes for New Zealand</td>\n",
              "      <td>Fruit</td>\n",
              "    </tr>\n",
              "    <tr>\n",
              "      <th>620</th>\n",
              "      <td>CPIQ.SE901101</td>\n",
              "      <td>2022.06</td>\n",
              "      <td>1096.000000</td>\n",
              "      <td>FINAL</td>\n",
              "      <td>Index</td>\n",
              "      <td>CPI</td>\n",
              "      <td>CPI Level 3 Classes for New Zealand</td>\n",
              "      <td>Fruit</td>\n",
              "    </tr>\n",
              "    <tr>\n",
              "      <th>621</th>\n",
              "      <td>CPIQ.SE901101</td>\n",
              "      <td>2022.09</td>\n",
              "      <td>1148.000000</td>\n",
              "      <td>FINAL</td>\n",
              "      <td>Index</td>\n",
              "      <td>CPI</td>\n",
              "      <td>CPI Level 3 Classes for New Zealand</td>\n",
              "      <td>Fruit</td>\n",
              "    </tr>\n",
              "  </tbody>\n",
              "</table>\n",
              "<p>94 rows × 8 columns</p>\n",
              "</div>\n",
              "      <button class=\"colab-df-convert\" onclick=\"convertToInteractive('df-bed77813-f402-41e9-8483-98c0903c25fd')\"\n",
              "              title=\"Convert this dataframe to an interactive table.\"\n",
              "              style=\"display:none;\">\n",
              "        \n",
              "  <svg xmlns=\"http://www.w3.org/2000/svg\" height=\"24px\"viewBox=\"0 0 24 24\"\n",
              "       width=\"24px\">\n",
              "    <path d=\"M0 0h24v24H0V0z\" fill=\"none\"/>\n",
              "    <path d=\"M18.56 5.44l.94 2.06.94-2.06 2.06-.94-2.06-.94-.94-2.06-.94 2.06-2.06.94zm-11 1L8.5 8.5l.94-2.06 2.06-.94-2.06-.94L8.5 2.5l-.94 2.06-2.06.94zm10 10l.94 2.06.94-2.06 2.06-.94-2.06-.94-.94-2.06-.94 2.06-2.06.94z\"/><path d=\"M17.41 7.96l-1.37-1.37c-.4-.4-.92-.59-1.43-.59-.52 0-1.04.2-1.43.59L10.3 9.45l-7.72 7.72c-.78.78-.78 2.05 0 2.83L4 21.41c.39.39.9.59 1.41.59.51 0 1.02-.2 1.41-.59l7.78-7.78 2.81-2.81c.8-.78.8-2.07 0-2.86zM5.41 20L4 18.59l7.72-7.72 1.47 1.35L5.41 20z\"/>\n",
              "  </svg>\n",
              "      </button>\n",
              "      \n",
              "  <style>\n",
              "    .colab-df-container {\n",
              "      display:flex;\n",
              "      flex-wrap:wrap;\n",
              "      gap: 12px;\n",
              "    }\n",
              "\n",
              "    .colab-df-convert {\n",
              "      background-color: #E8F0FE;\n",
              "      border: none;\n",
              "      border-radius: 50%;\n",
              "      cursor: pointer;\n",
              "      display: none;\n",
              "      fill: #1967D2;\n",
              "      height: 32px;\n",
              "      padding: 0 0 0 0;\n",
              "      width: 32px;\n",
              "    }\n",
              "\n",
              "    .colab-df-convert:hover {\n",
              "      background-color: #E2EBFA;\n",
              "      box-shadow: 0px 1px 2px rgba(60, 64, 67, 0.3), 0px 1px 3px 1px rgba(60, 64, 67, 0.15);\n",
              "      fill: #174EA6;\n",
              "    }\n",
              "\n",
              "    [theme=dark] .colab-df-convert {\n",
              "      background-color: #3B4455;\n",
              "      fill: #D2E3FC;\n",
              "    }\n",
              "\n",
              "    [theme=dark] .colab-df-convert:hover {\n",
              "      background-color: #434B5C;\n",
              "      box-shadow: 0px 1px 3px 1px rgba(0, 0, 0, 0.15);\n",
              "      filter: drop-shadow(0px 1px 2px rgba(0, 0, 0, 0.3));\n",
              "      fill: #FFFFFF;\n",
              "    }\n",
              "  </style>\n",
              "\n",
              "      <script>\n",
              "        const buttonEl =\n",
              "          document.querySelector('#df-bed77813-f402-41e9-8483-98c0903c25fd button.colab-df-convert');\n",
              "        buttonEl.style.display =\n",
              "          google.colab.kernel.accessAllowed ? 'block' : 'none';\n",
              "\n",
              "        async function convertToInteractive(key) {\n",
              "          const element = document.querySelector('#df-bed77813-f402-41e9-8483-98c0903c25fd');\n",
              "          const dataTable =\n",
              "            await google.colab.kernel.invokeFunction('convertToInteractive',\n",
              "                                                     [key], {});\n",
              "          if (!dataTable) return;\n",
              "\n",
              "          const docLinkHtml = 'Like what you see? Visit the ' +\n",
              "            '<a target=\"_blank\" href=https://colab.research.google.com/notebooks/data_table.ipynb>data table notebook</a>'\n",
              "            + ' to learn more about interactive tables.';\n",
              "          element.innerHTML = '';\n",
              "          dataTable['output_type'] = 'display_data';\n",
              "          await google.colab.output.renderOutput(dataTable, element);\n",
              "          const docLink = document.createElement('div');\n",
              "          docLink.innerHTML = docLinkHtml;\n",
              "          element.appendChild(docLink);\n",
              "        }\n",
              "      </script>\n",
              "    </div>\n",
              "  </div>\n",
              "  "
            ]
          },
          "metadata": {},
          "execution_count": 82
        }
      ]
    },
    {
      "cell_type": "code",
      "source": [
        "data1_vegetables = data1[data1[\"Series_title_1\"] == \"Vegetables\"]\n",
        "data1_vegetables"
      ],
      "metadata": {
        "colab": {
          "base_uri": "https://localhost:8080/",
          "height": 424
        },
        "id": "drIzdU14EpNU",
        "outputId": "f7ef79a9-27f8-42e4-fd1f-4e0c106918c6"
      },
      "execution_count": null,
      "outputs": [
        {
          "output_type": "execute_result",
          "data": {
            "text/plain": [
              "    Series_reference   Period   Data_value STATUS  UNITS Subject  \\\n",
              "622    CPIQ.SE901102  1999.06   586.942039  FINAL  Index     CPI   \n",
              "623    CPIQ.SE901102  1999.09   536.309127  FINAL  Index     CPI   \n",
              "624    CPIQ.SE901102  1999.12   497.668221  FINAL  Index     CPI   \n",
              "625    CPIQ.SE901102  2000.03   554.297135  FINAL  Index     CPI   \n",
              "626    CPIQ.SE901102  2000.06   545.636242  FINAL  Index     CPI   \n",
              "..               ...      ...          ...    ...    ...     ...   \n",
              "711    CPIQ.SE901102  2021.09  1176.000000  FINAL  Index     CPI   \n",
              "712    CPIQ.SE901102  2021.12   976.000000  FINAL  Index     CPI   \n",
              "713    CPIQ.SE901102  2022.03  1047.000000  FINAL  Index     CPI   \n",
              "714    CPIQ.SE901102  2022.06  1078.000000  FINAL  Index     CPI   \n",
              "715    CPIQ.SE901102  2022.09  1342.000000  FINAL  Index     CPI   \n",
              "\n",
              "                                   Group Series_title_1  \n",
              "622  CPI Level 3 Classes for New Zealand     Vegetables  \n",
              "623  CPI Level 3 Classes for New Zealand     Vegetables  \n",
              "624  CPI Level 3 Classes for New Zealand     Vegetables  \n",
              "625  CPI Level 3 Classes for New Zealand     Vegetables  \n",
              "626  CPI Level 3 Classes for New Zealand     Vegetables  \n",
              "..                                   ...            ...  \n",
              "711  CPI Level 3 Classes for New Zealand     Vegetables  \n",
              "712  CPI Level 3 Classes for New Zealand     Vegetables  \n",
              "713  CPI Level 3 Classes for New Zealand     Vegetables  \n",
              "714  CPI Level 3 Classes for New Zealand     Vegetables  \n",
              "715  CPI Level 3 Classes for New Zealand     Vegetables  \n",
              "\n",
              "[94 rows x 8 columns]"
            ],
            "text/html": [
              "\n",
              "  <div id=\"df-f017a239-87d0-47b7-bc6d-664aa894c0f4\">\n",
              "    <div class=\"colab-df-container\">\n",
              "      <div>\n",
              "<style scoped>\n",
              "    .dataframe tbody tr th:only-of-type {\n",
              "        vertical-align: middle;\n",
              "    }\n",
              "\n",
              "    .dataframe tbody tr th {\n",
              "        vertical-align: top;\n",
              "    }\n",
              "\n",
              "    .dataframe thead th {\n",
              "        text-align: right;\n",
              "    }\n",
              "</style>\n",
              "<table border=\"1\" class=\"dataframe\">\n",
              "  <thead>\n",
              "    <tr style=\"text-align: right;\">\n",
              "      <th></th>\n",
              "      <th>Series_reference</th>\n",
              "      <th>Period</th>\n",
              "      <th>Data_value</th>\n",
              "      <th>STATUS</th>\n",
              "      <th>UNITS</th>\n",
              "      <th>Subject</th>\n",
              "      <th>Group</th>\n",
              "      <th>Series_title_1</th>\n",
              "    </tr>\n",
              "  </thead>\n",
              "  <tbody>\n",
              "    <tr>\n",
              "      <th>622</th>\n",
              "      <td>CPIQ.SE901102</td>\n",
              "      <td>1999.06</td>\n",
              "      <td>586.942039</td>\n",
              "      <td>FINAL</td>\n",
              "      <td>Index</td>\n",
              "      <td>CPI</td>\n",
              "      <td>CPI Level 3 Classes for New Zealand</td>\n",
              "      <td>Vegetables</td>\n",
              "    </tr>\n",
              "    <tr>\n",
              "      <th>623</th>\n",
              "      <td>CPIQ.SE901102</td>\n",
              "      <td>1999.09</td>\n",
              "      <td>536.309127</td>\n",
              "      <td>FINAL</td>\n",
              "      <td>Index</td>\n",
              "      <td>CPI</td>\n",
              "      <td>CPI Level 3 Classes for New Zealand</td>\n",
              "      <td>Vegetables</td>\n",
              "    </tr>\n",
              "    <tr>\n",
              "      <th>624</th>\n",
              "      <td>CPIQ.SE901102</td>\n",
              "      <td>1999.12</td>\n",
              "      <td>497.668221</td>\n",
              "      <td>FINAL</td>\n",
              "      <td>Index</td>\n",
              "      <td>CPI</td>\n",
              "      <td>CPI Level 3 Classes for New Zealand</td>\n",
              "      <td>Vegetables</td>\n",
              "    </tr>\n",
              "    <tr>\n",
              "      <th>625</th>\n",
              "      <td>CPIQ.SE901102</td>\n",
              "      <td>2000.03</td>\n",
              "      <td>554.297135</td>\n",
              "      <td>FINAL</td>\n",
              "      <td>Index</td>\n",
              "      <td>CPI</td>\n",
              "      <td>CPI Level 3 Classes for New Zealand</td>\n",
              "      <td>Vegetables</td>\n",
              "    </tr>\n",
              "    <tr>\n",
              "      <th>626</th>\n",
              "      <td>CPIQ.SE901102</td>\n",
              "      <td>2000.06</td>\n",
              "      <td>545.636242</td>\n",
              "      <td>FINAL</td>\n",
              "      <td>Index</td>\n",
              "      <td>CPI</td>\n",
              "      <td>CPI Level 3 Classes for New Zealand</td>\n",
              "      <td>Vegetables</td>\n",
              "    </tr>\n",
              "    <tr>\n",
              "      <th>...</th>\n",
              "      <td>...</td>\n",
              "      <td>...</td>\n",
              "      <td>...</td>\n",
              "      <td>...</td>\n",
              "      <td>...</td>\n",
              "      <td>...</td>\n",
              "      <td>...</td>\n",
              "      <td>...</td>\n",
              "    </tr>\n",
              "    <tr>\n",
              "      <th>711</th>\n",
              "      <td>CPIQ.SE901102</td>\n",
              "      <td>2021.09</td>\n",
              "      <td>1176.000000</td>\n",
              "      <td>FINAL</td>\n",
              "      <td>Index</td>\n",
              "      <td>CPI</td>\n",
              "      <td>CPI Level 3 Classes for New Zealand</td>\n",
              "      <td>Vegetables</td>\n",
              "    </tr>\n",
              "    <tr>\n",
              "      <th>712</th>\n",
              "      <td>CPIQ.SE901102</td>\n",
              "      <td>2021.12</td>\n",
              "      <td>976.000000</td>\n",
              "      <td>FINAL</td>\n",
              "      <td>Index</td>\n",
              "      <td>CPI</td>\n",
              "      <td>CPI Level 3 Classes for New Zealand</td>\n",
              "      <td>Vegetables</td>\n",
              "    </tr>\n",
              "    <tr>\n",
              "      <th>713</th>\n",
              "      <td>CPIQ.SE901102</td>\n",
              "      <td>2022.03</td>\n",
              "      <td>1047.000000</td>\n",
              "      <td>FINAL</td>\n",
              "      <td>Index</td>\n",
              "      <td>CPI</td>\n",
              "      <td>CPI Level 3 Classes for New Zealand</td>\n",
              "      <td>Vegetables</td>\n",
              "    </tr>\n",
              "    <tr>\n",
              "      <th>714</th>\n",
              "      <td>CPIQ.SE901102</td>\n",
              "      <td>2022.06</td>\n",
              "      <td>1078.000000</td>\n",
              "      <td>FINAL</td>\n",
              "      <td>Index</td>\n",
              "      <td>CPI</td>\n",
              "      <td>CPI Level 3 Classes for New Zealand</td>\n",
              "      <td>Vegetables</td>\n",
              "    </tr>\n",
              "    <tr>\n",
              "      <th>715</th>\n",
              "      <td>CPIQ.SE901102</td>\n",
              "      <td>2022.09</td>\n",
              "      <td>1342.000000</td>\n",
              "      <td>FINAL</td>\n",
              "      <td>Index</td>\n",
              "      <td>CPI</td>\n",
              "      <td>CPI Level 3 Classes for New Zealand</td>\n",
              "      <td>Vegetables</td>\n",
              "    </tr>\n",
              "  </tbody>\n",
              "</table>\n",
              "<p>94 rows × 8 columns</p>\n",
              "</div>\n",
              "      <button class=\"colab-df-convert\" onclick=\"convertToInteractive('df-f017a239-87d0-47b7-bc6d-664aa894c0f4')\"\n",
              "              title=\"Convert this dataframe to an interactive table.\"\n",
              "              style=\"display:none;\">\n",
              "        \n",
              "  <svg xmlns=\"http://www.w3.org/2000/svg\" height=\"24px\"viewBox=\"0 0 24 24\"\n",
              "       width=\"24px\">\n",
              "    <path d=\"M0 0h24v24H0V0z\" fill=\"none\"/>\n",
              "    <path d=\"M18.56 5.44l.94 2.06.94-2.06 2.06-.94-2.06-.94-.94-2.06-.94 2.06-2.06.94zm-11 1L8.5 8.5l.94-2.06 2.06-.94-2.06-.94L8.5 2.5l-.94 2.06-2.06.94zm10 10l.94 2.06.94-2.06 2.06-.94-2.06-.94-.94-2.06-.94 2.06-2.06.94z\"/><path d=\"M17.41 7.96l-1.37-1.37c-.4-.4-.92-.59-1.43-.59-.52 0-1.04.2-1.43.59L10.3 9.45l-7.72 7.72c-.78.78-.78 2.05 0 2.83L4 21.41c.39.39.9.59 1.41.59.51 0 1.02-.2 1.41-.59l7.78-7.78 2.81-2.81c.8-.78.8-2.07 0-2.86zM5.41 20L4 18.59l7.72-7.72 1.47 1.35L5.41 20z\"/>\n",
              "  </svg>\n",
              "      </button>\n",
              "      \n",
              "  <style>\n",
              "    .colab-df-container {\n",
              "      display:flex;\n",
              "      flex-wrap:wrap;\n",
              "      gap: 12px;\n",
              "    }\n",
              "\n",
              "    .colab-df-convert {\n",
              "      background-color: #E8F0FE;\n",
              "      border: none;\n",
              "      border-radius: 50%;\n",
              "      cursor: pointer;\n",
              "      display: none;\n",
              "      fill: #1967D2;\n",
              "      height: 32px;\n",
              "      padding: 0 0 0 0;\n",
              "      width: 32px;\n",
              "    }\n",
              "\n",
              "    .colab-df-convert:hover {\n",
              "      background-color: #E2EBFA;\n",
              "      box-shadow: 0px 1px 2px rgba(60, 64, 67, 0.3), 0px 1px 3px 1px rgba(60, 64, 67, 0.15);\n",
              "      fill: #174EA6;\n",
              "    }\n",
              "\n",
              "    [theme=dark] .colab-df-convert {\n",
              "      background-color: #3B4455;\n",
              "      fill: #D2E3FC;\n",
              "    }\n",
              "\n",
              "    [theme=dark] .colab-df-convert:hover {\n",
              "      background-color: #434B5C;\n",
              "      box-shadow: 0px 1px 3px 1px rgba(0, 0, 0, 0.15);\n",
              "      filter: drop-shadow(0px 1px 2px rgba(0, 0, 0, 0.3));\n",
              "      fill: #FFFFFF;\n",
              "    }\n",
              "  </style>\n",
              "\n",
              "      <script>\n",
              "        const buttonEl =\n",
              "          document.querySelector('#df-f017a239-87d0-47b7-bc6d-664aa894c0f4 button.colab-df-convert');\n",
              "        buttonEl.style.display =\n",
              "          google.colab.kernel.accessAllowed ? 'block' : 'none';\n",
              "\n",
              "        async function convertToInteractive(key) {\n",
              "          const element = document.querySelector('#df-f017a239-87d0-47b7-bc6d-664aa894c0f4');\n",
              "          const dataTable =\n",
              "            await google.colab.kernel.invokeFunction('convertToInteractive',\n",
              "                                                     [key], {});\n",
              "          if (!dataTable) return;\n",
              "\n",
              "          const docLinkHtml = 'Like what you see? Visit the ' +\n",
              "            '<a target=\"_blank\" href=https://colab.research.google.com/notebooks/data_table.ipynb>data table notebook</a>'\n",
              "            + ' to learn more about interactive tables.';\n",
              "          element.innerHTML = '';\n",
              "          dataTable['output_type'] = 'display_data';\n",
              "          await google.colab.output.renderOutput(dataTable, element);\n",
              "          const docLink = document.createElement('div');\n",
              "          docLink.innerHTML = docLinkHtml;\n",
              "          element.appendChild(docLink);\n",
              "        }\n",
              "      </script>\n",
              "    </div>\n",
              "  </div>\n",
              "  "
            ]
          },
          "metadata": {},
          "execution_count": 87
        }
      ]
    },
    {
      "cell_type": "code",
      "execution_count": null,
      "metadata": {
        "colab": {
          "base_uri": "https://localhost:8080/"
        },
        "id": "OIN3dZPed2FH",
        "outputId": "a3f00ca7-8b10-4d79-b861-7a7309956e69"
      },
      "outputs": [
        {
          "output_type": "execute_result",
          "data": {
            "text/plain": [
              "(0.8098454782923121, 4.9944391219656634e-23)"
            ]
          },
          "metadata": {},
          "execution_count": 86
        }
      ],
      "source": [
        "stats.pearsonr(data1_fruit['Data_value'], data1_vegetables['Data_value'])"
      ]
    },
    {
      "cell_type": "markdown",
      "source": [
        "rho: 0.8098454782923121\n",
        "\n",
        "p-value: 4.9944391219656634e-23"
      ],
      "metadata": {
        "id": "_pvcBUvoOfKH"
      }
    },
    {
      "cell_type": "markdown",
      "source": [
        "p-value < 0.01 (и 0.05 соответственно)  поэтому гипотезу H0 о независимости индексов цен на фрукты и овощи отвергаем."
      ],
      "metadata": {
        "id": "H7EQfouaOLU8"
      }
    },
    {
      "cell_type": "markdown",
      "metadata": {
        "id": "G6vqaGhhd2FH"
      },
      "source": [
        "## Проверка гипотезы о независимости ранговых признаков (корреляции Спирмена, Кендалла)"
      ]
    },
    {
      "cell_type": "code",
      "source": [
        "stats.kendalltau(data1_fruit['Data_value'], data1_vegetables['Data_value'])"
      ],
      "metadata": {
        "colab": {
          "base_uri": "https://localhost:8080/"
        },
        "id": "QZk2WozCQt2e",
        "outputId": "bf497c44-7600-451b-f23f-3d53e5238d37"
      },
      "execution_count": null,
      "outputs": [
        {
          "output_type": "execute_result",
          "data": {
            "text/plain": [
              "KendalltauResult(correlation=0.6207608351264183, pvalue=8.829144896643718e-19)"
            ]
          },
          "metadata": {},
          "execution_count": 88
        }
      ]
    },
    {
      "cell_type": "markdown",
      "source": [
        "p-value < 0.01 (и 0.05 соответственно) поэтому гипотезу H0 о независимости индексов цен на фрукты и овощи отвергаем."
      ],
      "metadata": {
        "id": "vPCo2md1Q9rE"
      }
    },
    {
      "cell_type": "markdown",
      "metadata": {
        "id": "c0J2G1Cad2FJ"
      },
      "source": [
        "## Проверка гипотезы о независимости номинативных признаков ($\\chi^2$)"
      ]
    },
    {
      "cell_type": "markdown",
      "source": [
        "H0: Две переменные независимы.\n",
        "\n",
        "H1: Две переменные не являются независимыми."
      ],
      "metadata": {
        "id": "WtakVq9KS7Le"
      }
    },
    {
      "cell_type": "code",
      "source": [
        "data = pd.read_csv(\"/content/drive/MyDrive/data/synchronous machine.csv\", sep = ';')\n",
        "data"
      ],
      "metadata": {
        "colab": {
          "base_uri": "https://localhost:8080/",
          "height": 424
        },
        "id": "aHXInHM8TlNr",
        "outputId": "3782e9cc-5413-4303-a730-f748fa0c4c0c"
      },
      "execution_count": null,
      "outputs": [
        {
          "output_type": "execute_result",
          "data": {
            "text/plain": [
              "      Iy    PF     e    dIf     If\n",
              "0    3.0  0.66  0.34  0.383  1.563\n",
              "1    3.0  0.68  0.32  0.372  1.552\n",
              "2    3.0  0.70  0.30  0.360  1.540\n",
              "3    3.0  0.72  0.28  0.338  1.518\n",
              "4    3.0  0.74  0.26  0.317  1.497\n",
              "..   ...   ...   ...    ...    ...\n",
              "552  6.0  0.91  0.09  0.142  1.322\n",
              "553  6.0  0.93  0.07  0.151  1.331\n",
              "554  6.0  0.95  0.05  0.160  1.340\n",
              "555  6.0  0.97  0.03  0.160  1.340\n",
              "556  6.0  0.99  0.01  0.160  1.340\n",
              "\n",
              "[557 rows x 5 columns]"
            ],
            "text/html": [
              "\n",
              "  <div id=\"df-9208b233-2d24-42ee-9fa7-45d5c6f2296b\">\n",
              "    <div class=\"colab-df-container\">\n",
              "      <div>\n",
              "<style scoped>\n",
              "    .dataframe tbody tr th:only-of-type {\n",
              "        vertical-align: middle;\n",
              "    }\n",
              "\n",
              "    .dataframe tbody tr th {\n",
              "        vertical-align: top;\n",
              "    }\n",
              "\n",
              "    .dataframe thead th {\n",
              "        text-align: right;\n",
              "    }\n",
              "</style>\n",
              "<table border=\"1\" class=\"dataframe\">\n",
              "  <thead>\n",
              "    <tr style=\"text-align: right;\">\n",
              "      <th></th>\n",
              "      <th>Iy</th>\n",
              "      <th>PF</th>\n",
              "      <th>e</th>\n",
              "      <th>dIf</th>\n",
              "      <th>If</th>\n",
              "    </tr>\n",
              "  </thead>\n",
              "  <tbody>\n",
              "    <tr>\n",
              "      <th>0</th>\n",
              "      <td>3.0</td>\n",
              "      <td>0.66</td>\n",
              "      <td>0.34</td>\n",
              "      <td>0.383</td>\n",
              "      <td>1.563</td>\n",
              "    </tr>\n",
              "    <tr>\n",
              "      <th>1</th>\n",
              "      <td>3.0</td>\n",
              "      <td>0.68</td>\n",
              "      <td>0.32</td>\n",
              "      <td>0.372</td>\n",
              "      <td>1.552</td>\n",
              "    </tr>\n",
              "    <tr>\n",
              "      <th>2</th>\n",
              "      <td>3.0</td>\n",
              "      <td>0.70</td>\n",
              "      <td>0.30</td>\n",
              "      <td>0.360</td>\n",
              "      <td>1.540</td>\n",
              "    </tr>\n",
              "    <tr>\n",
              "      <th>3</th>\n",
              "      <td>3.0</td>\n",
              "      <td>0.72</td>\n",
              "      <td>0.28</td>\n",
              "      <td>0.338</td>\n",
              "      <td>1.518</td>\n",
              "    </tr>\n",
              "    <tr>\n",
              "      <th>4</th>\n",
              "      <td>3.0</td>\n",
              "      <td>0.74</td>\n",
              "      <td>0.26</td>\n",
              "      <td>0.317</td>\n",
              "      <td>1.497</td>\n",
              "    </tr>\n",
              "    <tr>\n",
              "      <th>...</th>\n",
              "      <td>...</td>\n",
              "      <td>...</td>\n",
              "      <td>...</td>\n",
              "      <td>...</td>\n",
              "      <td>...</td>\n",
              "    </tr>\n",
              "    <tr>\n",
              "      <th>552</th>\n",
              "      <td>6.0</td>\n",
              "      <td>0.91</td>\n",
              "      <td>0.09</td>\n",
              "      <td>0.142</td>\n",
              "      <td>1.322</td>\n",
              "    </tr>\n",
              "    <tr>\n",
              "      <th>553</th>\n",
              "      <td>6.0</td>\n",
              "      <td>0.93</td>\n",
              "      <td>0.07</td>\n",
              "      <td>0.151</td>\n",
              "      <td>1.331</td>\n",
              "    </tr>\n",
              "    <tr>\n",
              "      <th>554</th>\n",
              "      <td>6.0</td>\n",
              "      <td>0.95</td>\n",
              "      <td>0.05</td>\n",
              "      <td>0.160</td>\n",
              "      <td>1.340</td>\n",
              "    </tr>\n",
              "    <tr>\n",
              "      <th>555</th>\n",
              "      <td>6.0</td>\n",
              "      <td>0.97</td>\n",
              "      <td>0.03</td>\n",
              "      <td>0.160</td>\n",
              "      <td>1.340</td>\n",
              "    </tr>\n",
              "    <tr>\n",
              "      <th>556</th>\n",
              "      <td>6.0</td>\n",
              "      <td>0.99</td>\n",
              "      <td>0.01</td>\n",
              "      <td>0.160</td>\n",
              "      <td>1.340</td>\n",
              "    </tr>\n",
              "  </tbody>\n",
              "</table>\n",
              "<p>557 rows × 5 columns</p>\n",
              "</div>\n",
              "      <button class=\"colab-df-convert\" onclick=\"convertToInteractive('df-9208b233-2d24-42ee-9fa7-45d5c6f2296b')\"\n",
              "              title=\"Convert this dataframe to an interactive table.\"\n",
              "              style=\"display:none;\">\n",
              "        \n",
              "  <svg xmlns=\"http://www.w3.org/2000/svg\" height=\"24px\"viewBox=\"0 0 24 24\"\n",
              "       width=\"24px\">\n",
              "    <path d=\"M0 0h24v24H0V0z\" fill=\"none\"/>\n",
              "    <path d=\"M18.56 5.44l.94 2.06.94-2.06 2.06-.94-2.06-.94-.94-2.06-.94 2.06-2.06.94zm-11 1L8.5 8.5l.94-2.06 2.06-.94-2.06-.94L8.5 2.5l-.94 2.06-2.06.94zm10 10l.94 2.06.94-2.06 2.06-.94-2.06-.94-.94-2.06-.94 2.06-2.06.94z\"/><path d=\"M17.41 7.96l-1.37-1.37c-.4-.4-.92-.59-1.43-.59-.52 0-1.04.2-1.43.59L10.3 9.45l-7.72 7.72c-.78.78-.78 2.05 0 2.83L4 21.41c.39.39.9.59 1.41.59.51 0 1.02-.2 1.41-.59l7.78-7.78 2.81-2.81c.8-.78.8-2.07 0-2.86zM5.41 20L4 18.59l7.72-7.72 1.47 1.35L5.41 20z\"/>\n",
              "  </svg>\n",
              "      </button>\n",
              "      \n",
              "  <style>\n",
              "    .colab-df-container {\n",
              "      display:flex;\n",
              "      flex-wrap:wrap;\n",
              "      gap: 12px;\n",
              "    }\n",
              "\n",
              "    .colab-df-convert {\n",
              "      background-color: #E8F0FE;\n",
              "      border: none;\n",
              "      border-radius: 50%;\n",
              "      cursor: pointer;\n",
              "      display: none;\n",
              "      fill: #1967D2;\n",
              "      height: 32px;\n",
              "      padding: 0 0 0 0;\n",
              "      width: 32px;\n",
              "    }\n",
              "\n",
              "    .colab-df-convert:hover {\n",
              "      background-color: #E2EBFA;\n",
              "      box-shadow: 0px 1px 2px rgba(60, 64, 67, 0.3), 0px 1px 3px 1px rgba(60, 64, 67, 0.15);\n",
              "      fill: #174EA6;\n",
              "    }\n",
              "\n",
              "    [theme=dark] .colab-df-convert {\n",
              "      background-color: #3B4455;\n",
              "      fill: #D2E3FC;\n",
              "    }\n",
              "\n",
              "    [theme=dark] .colab-df-convert:hover {\n",
              "      background-color: #434B5C;\n",
              "      box-shadow: 0px 1px 3px 1px rgba(0, 0, 0, 0.15);\n",
              "      filter: drop-shadow(0px 1px 2px rgba(0, 0, 0, 0.3));\n",
              "      fill: #FFFFFF;\n",
              "    }\n",
              "  </style>\n",
              "\n",
              "      <script>\n",
              "        const buttonEl =\n",
              "          document.querySelector('#df-9208b233-2d24-42ee-9fa7-45d5c6f2296b button.colab-df-convert');\n",
              "        buttonEl.style.display =\n",
              "          google.colab.kernel.accessAllowed ? 'block' : 'none';\n",
              "\n",
              "        async function convertToInteractive(key) {\n",
              "          const element = document.querySelector('#df-9208b233-2d24-42ee-9fa7-45d5c6f2296b');\n",
              "          const dataTable =\n",
              "            await google.colab.kernel.invokeFunction('convertToInteractive',\n",
              "                                                     [key], {});\n",
              "          if (!dataTable) return;\n",
              "\n",
              "          const docLinkHtml = 'Like what you see? Visit the ' +\n",
              "            '<a target=\"_blank\" href=https://colab.research.google.com/notebooks/data_table.ipynb>data table notebook</a>'\n",
              "            + ' to learn more about interactive tables.';\n",
              "          element.innerHTML = '';\n",
              "          dataTable['output_type'] = 'display_data';\n",
              "          await google.colab.output.renderOutput(dataTable, element);\n",
              "          const docLink = document.createElement('div');\n",
              "          docLink.innerHTML = docLinkHtml;\n",
              "          element.appendChild(docLink);\n",
              "        }\n",
              "      </script>\n",
              "    </div>\n",
              "  </div>\n",
              "  "
            ]
          },
          "metadata": {},
          "execution_count": 106
        }
      ]
    },
    {
      "cell_type": "code",
      "source": [
        "data[['dIf','If']]"
      ],
      "metadata": {
        "colab": {
          "base_uri": "https://localhost:8080/",
          "height": 424
        },
        "id": "fTlLtQfqVhvr",
        "outputId": "200bb9c8-2470-414b-f63c-ff72a0945597"
      },
      "execution_count": null,
      "outputs": [
        {
          "output_type": "execute_result",
          "data": {
            "text/plain": [
              "       dIf     If\n",
              "0    0.383  1.563\n",
              "1    0.372  1.552\n",
              "2    0.360  1.540\n",
              "3    0.338  1.518\n",
              "4    0.317  1.497\n",
              "..     ...    ...\n",
              "552  0.142  1.322\n",
              "553  0.151  1.331\n",
              "554  0.160  1.340\n",
              "555  0.160  1.340\n",
              "556  0.160  1.340\n",
              "\n",
              "[557 rows x 2 columns]"
            ],
            "text/html": [
              "\n",
              "  <div id=\"df-bb444bc1-5e48-4bbc-975f-6d66abd12cb8\">\n",
              "    <div class=\"colab-df-container\">\n",
              "      <div>\n",
              "<style scoped>\n",
              "    .dataframe tbody tr th:only-of-type {\n",
              "        vertical-align: middle;\n",
              "    }\n",
              "\n",
              "    .dataframe tbody tr th {\n",
              "        vertical-align: top;\n",
              "    }\n",
              "\n",
              "    .dataframe thead th {\n",
              "        text-align: right;\n",
              "    }\n",
              "</style>\n",
              "<table border=\"1\" class=\"dataframe\">\n",
              "  <thead>\n",
              "    <tr style=\"text-align: right;\">\n",
              "      <th></th>\n",
              "      <th>dIf</th>\n",
              "      <th>If</th>\n",
              "    </tr>\n",
              "  </thead>\n",
              "  <tbody>\n",
              "    <tr>\n",
              "      <th>0</th>\n",
              "      <td>0.383</td>\n",
              "      <td>1.563</td>\n",
              "    </tr>\n",
              "    <tr>\n",
              "      <th>1</th>\n",
              "      <td>0.372</td>\n",
              "      <td>1.552</td>\n",
              "    </tr>\n",
              "    <tr>\n",
              "      <th>2</th>\n",
              "      <td>0.360</td>\n",
              "      <td>1.540</td>\n",
              "    </tr>\n",
              "    <tr>\n",
              "      <th>3</th>\n",
              "      <td>0.338</td>\n",
              "      <td>1.518</td>\n",
              "    </tr>\n",
              "    <tr>\n",
              "      <th>4</th>\n",
              "      <td>0.317</td>\n",
              "      <td>1.497</td>\n",
              "    </tr>\n",
              "    <tr>\n",
              "      <th>...</th>\n",
              "      <td>...</td>\n",
              "      <td>...</td>\n",
              "    </tr>\n",
              "    <tr>\n",
              "      <th>552</th>\n",
              "      <td>0.142</td>\n",
              "      <td>1.322</td>\n",
              "    </tr>\n",
              "    <tr>\n",
              "      <th>553</th>\n",
              "      <td>0.151</td>\n",
              "      <td>1.331</td>\n",
              "    </tr>\n",
              "    <tr>\n",
              "      <th>554</th>\n",
              "      <td>0.160</td>\n",
              "      <td>1.340</td>\n",
              "    </tr>\n",
              "    <tr>\n",
              "      <th>555</th>\n",
              "      <td>0.160</td>\n",
              "      <td>1.340</td>\n",
              "    </tr>\n",
              "    <tr>\n",
              "      <th>556</th>\n",
              "      <td>0.160</td>\n",
              "      <td>1.340</td>\n",
              "    </tr>\n",
              "  </tbody>\n",
              "</table>\n",
              "<p>557 rows × 2 columns</p>\n",
              "</div>\n",
              "      <button class=\"colab-df-convert\" onclick=\"convertToInteractive('df-bb444bc1-5e48-4bbc-975f-6d66abd12cb8')\"\n",
              "              title=\"Convert this dataframe to an interactive table.\"\n",
              "              style=\"display:none;\">\n",
              "        \n",
              "  <svg xmlns=\"http://www.w3.org/2000/svg\" height=\"24px\"viewBox=\"0 0 24 24\"\n",
              "       width=\"24px\">\n",
              "    <path d=\"M0 0h24v24H0V0z\" fill=\"none\"/>\n",
              "    <path d=\"M18.56 5.44l.94 2.06.94-2.06 2.06-.94-2.06-.94-.94-2.06-.94 2.06-2.06.94zm-11 1L8.5 8.5l.94-2.06 2.06-.94-2.06-.94L8.5 2.5l-.94 2.06-2.06.94zm10 10l.94 2.06.94-2.06 2.06-.94-2.06-.94-.94-2.06-.94 2.06-2.06.94z\"/><path d=\"M17.41 7.96l-1.37-1.37c-.4-.4-.92-.59-1.43-.59-.52 0-1.04.2-1.43.59L10.3 9.45l-7.72 7.72c-.78.78-.78 2.05 0 2.83L4 21.41c.39.39.9.59 1.41.59.51 0 1.02-.2 1.41-.59l7.78-7.78 2.81-2.81c.8-.78.8-2.07 0-2.86zM5.41 20L4 18.59l7.72-7.72 1.47 1.35L5.41 20z\"/>\n",
              "  </svg>\n",
              "      </button>\n",
              "      \n",
              "  <style>\n",
              "    .colab-df-container {\n",
              "      display:flex;\n",
              "      flex-wrap:wrap;\n",
              "      gap: 12px;\n",
              "    }\n",
              "\n",
              "    .colab-df-convert {\n",
              "      background-color: #E8F0FE;\n",
              "      border: none;\n",
              "      border-radius: 50%;\n",
              "      cursor: pointer;\n",
              "      display: none;\n",
              "      fill: #1967D2;\n",
              "      height: 32px;\n",
              "      padding: 0 0 0 0;\n",
              "      width: 32px;\n",
              "    }\n",
              "\n",
              "    .colab-df-convert:hover {\n",
              "      background-color: #E2EBFA;\n",
              "      box-shadow: 0px 1px 2px rgba(60, 64, 67, 0.3), 0px 1px 3px 1px rgba(60, 64, 67, 0.15);\n",
              "      fill: #174EA6;\n",
              "    }\n",
              "\n",
              "    [theme=dark] .colab-df-convert {\n",
              "      background-color: #3B4455;\n",
              "      fill: #D2E3FC;\n",
              "    }\n",
              "\n",
              "    [theme=dark] .colab-df-convert:hover {\n",
              "      background-color: #434B5C;\n",
              "      box-shadow: 0px 1px 3px 1px rgba(0, 0, 0, 0.15);\n",
              "      filter: drop-shadow(0px 1px 2px rgba(0, 0, 0, 0.3));\n",
              "      fill: #FFFFFF;\n",
              "    }\n",
              "  </style>\n",
              "\n",
              "      <script>\n",
              "        const buttonEl =\n",
              "          document.querySelector('#df-bb444bc1-5e48-4bbc-975f-6d66abd12cb8 button.colab-df-convert');\n",
              "        buttonEl.style.display =\n",
              "          google.colab.kernel.accessAllowed ? 'block' : 'none';\n",
              "\n",
              "        async function convertToInteractive(key) {\n",
              "          const element = document.querySelector('#df-bb444bc1-5e48-4bbc-975f-6d66abd12cb8');\n",
              "          const dataTable =\n",
              "            await google.colab.kernel.invokeFunction('convertToInteractive',\n",
              "                                                     [key], {});\n",
              "          if (!dataTable) return;\n",
              "\n",
              "          const docLinkHtml = 'Like what you see? Visit the ' +\n",
              "            '<a target=\"_blank\" href=https://colab.research.google.com/notebooks/data_table.ipynb>data table notebook</a>'\n",
              "            + ' to learn more about interactive tables.';\n",
              "          element.innerHTML = '';\n",
              "          dataTable['output_type'] = 'display_data';\n",
              "          await google.colab.output.renderOutput(dataTable, element);\n",
              "          const docLink = document.createElement('div');\n",
              "          docLink.innerHTML = docLinkHtml;\n",
              "          element.appendChild(docLink);\n",
              "        }\n",
              "      </script>\n",
              "    </div>\n",
              "  </div>\n",
              "  "
            ]
          },
          "metadata": {},
          "execution_count": 114
        }
      ]
    },
    {
      "cell_type": "code",
      "execution_count": null,
      "metadata": {
        "id": "E_9JX6v6d2FJ",
        "colab": {
          "base_uri": "https://localhost:8080/"
        },
        "outputId": "3ca389bd-4f29-42b3-a1e8-c4c1011d7c33"
      },
      "outputs": [
        {
          "output_type": "execute_result",
          "data": {
            "text/plain": [
              "(25.42299124911421, 1.0, 556, array([[0.36271501, 1.58328499],\n",
              "        [0.35861443, 1.56538557],\n",
              "        [0.35414107, 1.54585893],\n",
              "        ...,\n",
              "        [0.27958505, 1.22041495],\n",
              "        [0.27958505, 1.22041495],\n",
              "        [0.27958505, 1.22041495]]))"
            ]
          },
          "metadata": {},
          "execution_count": 115
        }
      ],
      "source": [
        "stats.chi2_contingency(data[['dIf','If']])"
      ]
    },
    {
      "cell_type": "markdown",
      "source": [
        "Статистика теста хи-квадрат: 25.42299124911421\n",
        "\n",
        "р-значение: 1.0\n",
        "\n",
        "Степени свободы: 556 (рассчитывается как #rows-1 * #columns-1)\n",
        "\n",
        "Массив: последний массив отображает ожидаемые значения для каждой ячейки в таблице непредвиденных обстоятельств."
      ],
      "metadata": {
        "id": "07H6Cc24VJaF"
      }
    },
    {
      "cell_type": "markdown",
      "source": [
        "Поскольку p-значение (1.0) теста не меньше 0,05, мы не можем отвергнуть нулевую гипотезу H0."
      ],
      "metadata": {
        "id": "QFiFpxWAV71N"
      }
    },
    {
      "cell_type": "markdown",
      "metadata": {
        "id": "OS4pCJyad2FK"
      },
      "source": [
        "## Проверка гипотезы о равенстве дисперсий (критерий Флингера-Килина, критерий Ливена, F-критерий)"
      ]
    },
    {
      "cell_type": "markdown",
      "source": [
        "H0: Две дисперсии равны.\n",
        "\n",
        "H1: Две дисперсии не равны"
      ],
      "metadata": {
        "id": "deU0fwtBX40D"
      }
    },
    {
      "cell_type": "code",
      "execution_count": null,
      "metadata": {
        "id": "Y0wC2-4Kd2FK",
        "colab": {
          "base_uri": "https://localhost:8080/"
        },
        "outputId": "7e73cb21-010c-495d-b779-08c2a7d756b5"
      },
      "outputs": [
        {
          "output_type": "execute_result",
          "data": {
            "text/plain": [
              "FlignerResult(statistic=0.00019616927395005096, pvalue=0.9888251589413608)"
            ]
          },
          "metadata": {},
          "execution_count": 118
        }
      ],
      "source": [
        "stats.fligner(data['dIf'],data['If'])"
      ]
    },
    {
      "cell_type": "markdown",
      "source": [
        "Поскольку p-значение (0.9888251589413608) теста не меньше 0,05, мы не можем отвергнуть нулевую гипотезу H0."
      ],
      "metadata": {
        "id": "pchtDHf-XnYE"
      }
    },
    {
      "cell_type": "markdown",
      "metadata": {
        "id": "cS-_hI_rd2FK"
      },
      "source": [
        "## Критерий согласия Стьюдента (одновыборочный)"
      ]
    },
    {
      "cell_type": "markdown",
      "source": [
        "H0: среднее значение dIf равно 0.2.\n",
        "\n",
        "H1: отличается от 0.2."
      ],
      "metadata": {
        "id": "ayJmim4LYaOi"
      }
    },
    {
      "cell_type": "code",
      "source": [
        "data = pd.read_csv(\"/content/drive/MyDrive/data/synchronous machine.csv\", sep = ';')\n",
        "data[['dIf','If']]"
      ],
      "metadata": {
        "colab": {
          "base_uri": "https://localhost:8080/",
          "height": 424
        },
        "id": "k2MoOvwyZqVq",
        "outputId": "187746b2-8d58-4c15-83e1-d5beb4051179"
      },
      "execution_count": null,
      "outputs": [
        {
          "output_type": "execute_result",
          "data": {
            "text/plain": [
              "       dIf     If\n",
              "0    0.383  1.563\n",
              "1    0.372  1.552\n",
              "2    0.360  1.540\n",
              "3    0.338  1.518\n",
              "4    0.317  1.497\n",
              "..     ...    ...\n",
              "552  0.142  1.322\n",
              "553  0.151  1.331\n",
              "554  0.160  1.340\n",
              "555  0.160  1.340\n",
              "556  0.160  1.340\n",
              "\n",
              "[557 rows x 2 columns]"
            ],
            "text/html": [
              "\n",
              "  <div id=\"df-ec5ca928-f150-4568-89a4-a2492adecf4a\">\n",
              "    <div class=\"colab-df-container\">\n",
              "      <div>\n",
              "<style scoped>\n",
              "    .dataframe tbody tr th:only-of-type {\n",
              "        vertical-align: middle;\n",
              "    }\n",
              "\n",
              "    .dataframe tbody tr th {\n",
              "        vertical-align: top;\n",
              "    }\n",
              "\n",
              "    .dataframe thead th {\n",
              "        text-align: right;\n",
              "    }\n",
              "</style>\n",
              "<table border=\"1\" class=\"dataframe\">\n",
              "  <thead>\n",
              "    <tr style=\"text-align: right;\">\n",
              "      <th></th>\n",
              "      <th>dIf</th>\n",
              "      <th>If</th>\n",
              "    </tr>\n",
              "  </thead>\n",
              "  <tbody>\n",
              "    <tr>\n",
              "      <th>0</th>\n",
              "      <td>0.383</td>\n",
              "      <td>1.563</td>\n",
              "    </tr>\n",
              "    <tr>\n",
              "      <th>1</th>\n",
              "      <td>0.372</td>\n",
              "      <td>1.552</td>\n",
              "    </tr>\n",
              "    <tr>\n",
              "      <th>2</th>\n",
              "      <td>0.360</td>\n",
              "      <td>1.540</td>\n",
              "    </tr>\n",
              "    <tr>\n",
              "      <th>3</th>\n",
              "      <td>0.338</td>\n",
              "      <td>1.518</td>\n",
              "    </tr>\n",
              "    <tr>\n",
              "      <th>4</th>\n",
              "      <td>0.317</td>\n",
              "      <td>1.497</td>\n",
              "    </tr>\n",
              "    <tr>\n",
              "      <th>...</th>\n",
              "      <td>...</td>\n",
              "      <td>...</td>\n",
              "    </tr>\n",
              "    <tr>\n",
              "      <th>552</th>\n",
              "      <td>0.142</td>\n",
              "      <td>1.322</td>\n",
              "    </tr>\n",
              "    <tr>\n",
              "      <th>553</th>\n",
              "      <td>0.151</td>\n",
              "      <td>1.331</td>\n",
              "    </tr>\n",
              "    <tr>\n",
              "      <th>554</th>\n",
              "      <td>0.160</td>\n",
              "      <td>1.340</td>\n",
              "    </tr>\n",
              "    <tr>\n",
              "      <th>555</th>\n",
              "      <td>0.160</td>\n",
              "      <td>1.340</td>\n",
              "    </tr>\n",
              "    <tr>\n",
              "      <th>556</th>\n",
              "      <td>0.160</td>\n",
              "      <td>1.340</td>\n",
              "    </tr>\n",
              "  </tbody>\n",
              "</table>\n",
              "<p>557 rows × 2 columns</p>\n",
              "</div>\n",
              "      <button class=\"colab-df-convert\" onclick=\"convertToInteractive('df-ec5ca928-f150-4568-89a4-a2492adecf4a')\"\n",
              "              title=\"Convert this dataframe to an interactive table.\"\n",
              "              style=\"display:none;\">\n",
              "        \n",
              "  <svg xmlns=\"http://www.w3.org/2000/svg\" height=\"24px\"viewBox=\"0 0 24 24\"\n",
              "       width=\"24px\">\n",
              "    <path d=\"M0 0h24v24H0V0z\" fill=\"none\"/>\n",
              "    <path d=\"M18.56 5.44l.94 2.06.94-2.06 2.06-.94-2.06-.94-.94-2.06-.94 2.06-2.06.94zm-11 1L8.5 8.5l.94-2.06 2.06-.94-2.06-.94L8.5 2.5l-.94 2.06-2.06.94zm10 10l.94 2.06.94-2.06 2.06-.94-2.06-.94-.94-2.06-.94 2.06-2.06.94z\"/><path d=\"M17.41 7.96l-1.37-1.37c-.4-.4-.92-.59-1.43-.59-.52 0-1.04.2-1.43.59L10.3 9.45l-7.72 7.72c-.78.78-.78 2.05 0 2.83L4 21.41c.39.39.9.59 1.41.59.51 0 1.02-.2 1.41-.59l7.78-7.78 2.81-2.81c.8-.78.8-2.07 0-2.86zM5.41 20L4 18.59l7.72-7.72 1.47 1.35L5.41 20z\"/>\n",
              "  </svg>\n",
              "      </button>\n",
              "      \n",
              "  <style>\n",
              "    .colab-df-container {\n",
              "      display:flex;\n",
              "      flex-wrap:wrap;\n",
              "      gap: 12px;\n",
              "    }\n",
              "\n",
              "    .colab-df-convert {\n",
              "      background-color: #E8F0FE;\n",
              "      border: none;\n",
              "      border-radius: 50%;\n",
              "      cursor: pointer;\n",
              "      display: none;\n",
              "      fill: #1967D2;\n",
              "      height: 32px;\n",
              "      padding: 0 0 0 0;\n",
              "      width: 32px;\n",
              "    }\n",
              "\n",
              "    .colab-df-convert:hover {\n",
              "      background-color: #E2EBFA;\n",
              "      box-shadow: 0px 1px 2px rgba(60, 64, 67, 0.3), 0px 1px 3px 1px rgba(60, 64, 67, 0.15);\n",
              "      fill: #174EA6;\n",
              "    }\n",
              "\n",
              "    [theme=dark] .colab-df-convert {\n",
              "      background-color: #3B4455;\n",
              "      fill: #D2E3FC;\n",
              "    }\n",
              "\n",
              "    [theme=dark] .colab-df-convert:hover {\n",
              "      background-color: #434B5C;\n",
              "      box-shadow: 0px 1px 3px 1px rgba(0, 0, 0, 0.15);\n",
              "      filter: drop-shadow(0px 1px 2px rgba(0, 0, 0, 0.3));\n",
              "      fill: #FFFFFF;\n",
              "    }\n",
              "  </style>\n",
              "\n",
              "      <script>\n",
              "        const buttonEl =\n",
              "          document.querySelector('#df-ec5ca928-f150-4568-89a4-a2492adecf4a button.colab-df-convert');\n",
              "        buttonEl.style.display =\n",
              "          google.colab.kernel.accessAllowed ? 'block' : 'none';\n",
              "\n",
              "        async function convertToInteractive(key) {\n",
              "          const element = document.querySelector('#df-ec5ca928-f150-4568-89a4-a2492adecf4a');\n",
              "          const dataTable =\n",
              "            await google.colab.kernel.invokeFunction('convertToInteractive',\n",
              "                                                     [key], {});\n",
              "          if (!dataTable) return;\n",
              "\n",
              "          const docLinkHtml = 'Like what you see? Visit the ' +\n",
              "            '<a target=\"_blank\" href=https://colab.research.google.com/notebooks/data_table.ipynb>data table notebook</a>'\n",
              "            + ' to learn more about interactive tables.';\n",
              "          element.innerHTML = '';\n",
              "          dataTable['output_type'] = 'display_data';\n",
              "          await google.colab.output.renderOutput(dataTable, element);\n",
              "          const docLink = document.createElement('div');\n",
              "          docLink.innerHTML = docLinkHtml;\n",
              "          element.appendChild(docLink);\n",
              "        }\n",
              "      </script>\n",
              "    </div>\n",
              "  </div>\n",
              "  "
            ]
          },
          "metadata": {},
          "execution_count": 129
        }
      ]
    },
    {
      "cell_type": "code",
      "source": [
        "stats.ttest_1samp(data.dIf, 0.2)"
      ],
      "metadata": {
        "colab": {
          "base_uri": "https://localhost:8080/"
        },
        "id": "M0jra0TWZVze",
        "outputId": "97fdfe05-fddd-4937-c3b7-c9cf611f137f"
      },
      "execution_count": null,
      "outputs": [
        {
          "output_type": "execute_result",
          "data": {
            "text/plain": [
              "Ttest_1sampResult(statistic=19.691852954915017, pvalue=6.908133026296102e-66)"
            ]
          },
          "metadata": {},
          "execution_count": 131
        }
      ]
    },
    {
      "cell_type": "markdown",
      "source": [
        "pvalue меньше 0.01, поэтому отвергаем 𝐻0, среднее значение отличается от 0.2"
      ],
      "metadata": {
        "id": "1x7nTYBDaWCE"
      }
    },
    {
      "cell_type": "markdown",
      "metadata": {
        "id": "g-DKE0Mld2FL"
      },
      "source": [
        "## Проверка гипотезы о равенстве средних значений для независимых выборок (двухвыборочный критерий Стьюдента для независимых выборок)"
      ]
    },
    {
      "cell_type": "code",
      "execution_count": null,
      "metadata": {
        "id": "JOhmseRod2FL"
      },
      "outputs": [],
      "source": [
        "data = pd.read_csv(\"/content/drive/MyDrive/data/consumers-price-index-september-2022-quarter-index-numbers.csv\", sep = ';')\n",
        "data1_fruit = data1[data1[\"Series_title_1\"] == \"Fruit\"]['Data_value']\n",
        "data1_vegetables = data1[data1[\"Series_title_1\"] == \"Vegetables\"]['Data_value']"
      ]
    },
    {
      "cell_type": "code",
      "source": [
        "data1_fruit"
      ],
      "metadata": {
        "colab": {
          "base_uri": "https://localhost:8080/"
        },
        "id": "FRPbAR5bcdzL",
        "outputId": "0b38be28-f9e3-4b08-abc3-6f7945b43889"
      },
      "execution_count": null,
      "outputs": [
        {
          "output_type": "execute_result",
          "data": {
            "text/plain": [
              "528     602.178091\n",
              "529     573.991031\n",
              "530     549.007047\n",
              "531     568.225496\n",
              "532     559.256887\n",
              "          ...     \n",
              "617    1014.000000\n",
              "618    1038.000000\n",
              "619    1167.000000\n",
              "620    1096.000000\n",
              "621    1148.000000\n",
              "Name: Data_value, Length: 94, dtype: float64"
            ]
          },
          "metadata": {},
          "execution_count": 158
        }
      ]
    },
    {
      "cell_type": "code",
      "source": [
        "data1_fruit.shape[0]"
      ],
      "metadata": {
        "colab": {
          "base_uri": "https://localhost:8080/"
        },
        "id": "U6AgaRPsep9g",
        "outputId": "debb3f23-866e-45aa-9abe-a2d170e3fffd"
      },
      "execution_count": null,
      "outputs": [
        {
          "output_type": "execute_result",
          "data": {
            "text/plain": [
              "94"
            ]
          },
          "metadata": {},
          "execution_count": 160
        }
      ]
    },
    {
      "cell_type": "code",
      "source": [
        "plt.hist(data1_fruit, data1_fruit.shape[0], density = 1, color ='green', alpha = 0.7)[-1]\n",
        "plt.hist(data1_vegetables, data1_vegetables.shape[0], density = 1, color ='red', alpha = 0.7)[-1]"
      ],
      "metadata": {
        "colab": {
          "base_uri": "https://localhost:8080/",
          "height": 282
        },
        "id": "I6ij373wemnQ",
        "outputId": "c18cbb60-26b1-4f2b-9093-66737895d5fe"
      },
      "execution_count": null,
      "outputs": [
        {
          "output_type": "execute_result",
          "data": {
            "text/plain": [
              "<a list of 94 Patch objects>"
            ]
          },
          "metadata": {},
          "execution_count": 167
        },
        {
          "output_type": "display_data",
          "data": {
            "text/plain": [
              "<Figure size 432x288 with 1 Axes>"
            ],
            "image/png": "[encoded data removed]"
          },
          "metadata": {
            "needs_background": "light"
          }
        }
      ]
    },
    {
      "cell_type": "code",
      "source": [
        "stats.ttest_ind(data1_fruit, data1_vegetables)"
      ],
      "metadata": {
        "colab": {
          "base_uri": "https://localhost:8080/"
        },
        "id": "XIHN9_elmUzX",
        "outputId": "ba7b57ad-1ec2-4081-fbb2-4b23e40304cf"
      },
      "execution_count": null,
      "outputs": [
        {
          "output_type": "execute_result",
          "data": {
            "text/plain": [
              "Ttest_indResult(statistic=2.515038797442644, pvalue=0.012749147627017815)"
            ]
          },
          "metadata": {},
          "execution_count": 168
        }
      ]
    },
    {
      "cell_type": "markdown",
      "source": [
        "Здесь на уровне значимости H0 не отвергаем. Средние значения индекса цен для фруктов и овощей не различаются."
      ],
      "metadata": {
        "id": "csnDdvlTmab-"
      }
    },
    {
      "cell_type": "markdown",
      "metadata": {
        "id": "DRKAtFDsd2FM"
      },
      "source": [
        "## Проверка гипотезы о равенстве средних значений для зависимых выборок (двухвыборочный критерий Стьюдента для зависимых выборок)"
      ]
    },
    {
      "cell_type": "code",
      "execution_count": null,
      "metadata": {
        "id": "3VDoNQIWd2FM",
        "colab": {
          "base_uri": "https://localhost:8080/",
          "height": 424
        },
        "outputId": "5bd52ace-807e-4e14-9f57-d4001bcf0b43"
      },
      "outputs": [
        {
          "output_type": "execute_result",
          "data": {
            "text/plain": [
              "      Iy    PF     e    dIf     If\n",
              "0    3.0  0.66  0.34  0.383  1.563\n",
              "1    3.0  0.68  0.32  0.372  1.552\n",
              "2    3.0  0.70  0.30  0.360  1.540\n",
              "3    3.0  0.72  0.28  0.338  1.518\n",
              "4    3.0  0.74  0.26  0.317  1.497\n",
              "..   ...   ...   ...    ...    ...\n",
              "552  6.0  0.91  0.09  0.142  1.322\n",
              "553  6.0  0.93  0.07  0.151  1.331\n",
              "554  6.0  0.95  0.05  0.160  1.340\n",
              "555  6.0  0.97  0.03  0.160  1.340\n",
              "556  6.0  0.99  0.01  0.160  1.340\n",
              "\n",
              "[557 rows x 5 columns]"
            ],
            "text/html": [
              "\n",
              "  <div id=\"df-93f67878-8325-4e1e-bcd4-fa68d5ebc8e8\">\n",
              "    <div class=\"colab-df-container\">\n",
              "      <div>\n",
              "<style scoped>\n",
              "    .dataframe tbody tr th:only-of-type {\n",
              "        vertical-align: middle;\n",
              "    }\n",
              "\n",
              "    .dataframe tbody tr th {\n",
              "        vertical-align: top;\n",
              "    }\n",
              "\n",
              "    .dataframe thead th {\n",
              "        text-align: right;\n",
              "    }\n",
              "</style>\n",
              "<table border=\"1\" class=\"dataframe\">\n",
              "  <thead>\n",
              "    <tr style=\"text-align: right;\">\n",
              "      <th></th>\n",
              "      <th>Iy</th>\n",
              "      <th>PF</th>\n",
              "      <th>e</th>\n",
              "      <th>dIf</th>\n",
              "      <th>If</th>\n",
              "    </tr>\n",
              "  </thead>\n",
              "  <tbody>\n",
              "    <tr>\n",
              "      <th>0</th>\n",
              "      <td>3.0</td>\n",
              "      <td>0.66</td>\n",
              "      <td>0.34</td>\n",
              "      <td>0.383</td>\n",
              "      <td>1.563</td>\n",
              "    </tr>\n",
              "    <tr>\n",
              "      <th>1</th>\n",
              "      <td>3.0</td>\n",
              "      <td>0.68</td>\n",
              "      <td>0.32</td>\n",
              "      <td>0.372</td>\n",
              "      <td>1.552</td>\n",
              "    </tr>\n",
              "    <tr>\n",
              "      <th>2</th>\n",
              "      <td>3.0</td>\n",
              "      <td>0.70</td>\n",
              "      <td>0.30</td>\n",
              "      <td>0.360</td>\n",
              "      <td>1.540</td>\n",
              "    </tr>\n",
              "    <tr>\n",
              "      <th>3</th>\n",
              "      <td>3.0</td>\n",
              "      <td>0.72</td>\n",
              "      <td>0.28</td>\n",
              "      <td>0.338</td>\n",
              "      <td>1.518</td>\n",
              "    </tr>\n",
              "    <tr>\n",
              "      <th>4</th>\n",
              "      <td>3.0</td>\n",
              "      <td>0.74</td>\n",
              "      <td>0.26</td>\n",
              "      <td>0.317</td>\n",
              "      <td>1.497</td>\n",
              "    </tr>\n",
              "    <tr>\n",
              "      <th>...</th>\n",
              "      <td>...</td>\n",
              "      <td>...</td>\n",
              "      <td>...</td>\n",
              "      <td>...</td>\n",
              "      <td>...</td>\n",
              "    </tr>\n",
              "    <tr>\n",
              "      <th>552</th>\n",
              "      <td>6.0</td>\n",
              "      <td>0.91</td>\n",
              "      <td>0.09</td>\n",
              "      <td>0.142</td>\n",
              "      <td>1.322</td>\n",
              "    </tr>\n",
              "    <tr>\n",
              "      <th>553</th>\n",
              "      <td>6.0</td>\n",
              "      <td>0.93</td>\n",
              "      <td>0.07</td>\n",
              "      <td>0.151</td>\n",
              "      <td>1.331</td>\n",
              "    </tr>\n",
              "    <tr>\n",
              "      <th>554</th>\n",
              "      <td>6.0</td>\n",
              "      <td>0.95</td>\n",
              "      <td>0.05</td>\n",
              "      <td>0.160</td>\n",
              "      <td>1.340</td>\n",
              "    </tr>\n",
              "    <tr>\n",
              "      <th>555</th>\n",
              "      <td>6.0</td>\n",
              "      <td>0.97</td>\n",
              "      <td>0.03</td>\n",
              "      <td>0.160</td>\n",
              "      <td>1.340</td>\n",
              "    </tr>\n",
              "    <tr>\n",
              "      <th>556</th>\n",
              "      <td>6.0</td>\n",
              "      <td>0.99</td>\n",
              "      <td>0.01</td>\n",
              "      <td>0.160</td>\n",
              "      <td>1.340</td>\n",
              "    </tr>\n",
              "  </tbody>\n",
              "</table>\n",
              "<p>557 rows × 5 columns</p>\n",
              "</div>\n",
              "      <button class=\"colab-df-convert\" onclick=\"convertToInteractive('df-93f67878-8325-4e1e-bcd4-fa68d5ebc8e8')\"\n",
              "              title=\"Convert this dataframe to an interactive table.\"\n",
              "              style=\"display:none;\">\n",
              "        \n",
              "  <svg xmlns=\"http://www.w3.org/2000/svg\" height=\"24px\"viewBox=\"0 0 24 24\"\n",
              "       width=\"24px\">\n",
              "    <path d=\"M0 0h24v24H0V0z\" fill=\"none\"/>\n",
              "    <path d=\"M18.56 5.44l.94 2.06.94-2.06 2.06-.94-2.06-.94-.94-2.06-.94 2.06-2.06.94zm-11 1L8.5 8.5l.94-2.06 2.06-.94-2.06-.94L8.5 2.5l-.94 2.06-2.06.94zm10 10l.94 2.06.94-2.06 2.06-.94-2.06-.94-.94-2.06-.94 2.06-2.06.94z\"/><path d=\"M17.41 7.96l-1.37-1.37c-.4-.4-.92-.59-1.43-.59-.52 0-1.04.2-1.43.59L10.3 9.45l-7.72 7.72c-.78.78-.78 2.05 0 2.83L4 21.41c.39.39.9.59 1.41.59.51 0 1.02-.2 1.41-.59l7.78-7.78 2.81-2.81c.8-.78.8-2.07 0-2.86zM5.41 20L4 18.59l7.72-7.72 1.47 1.35L5.41 20z\"/>\n",
              "  </svg>\n",
              "      </button>\n",
              "      \n",
              "  <style>\n",
              "    .colab-df-container {\n",
              "      display:flex;\n",
              "      flex-wrap:wrap;\n",
              "      gap: 12px;\n",
              "    }\n",
              "\n",
              "    .colab-df-convert {\n",
              "      background-color: #E8F0FE;\n",
              "      border: none;\n",
              "      border-radius: 50%;\n",
              "      cursor: pointer;\n",
              "      display: none;\n",
              "      fill: #1967D2;\n",
              "      height: 32px;\n",
              "      padding: 0 0 0 0;\n",
              "      width: 32px;\n",
              "    }\n",
              "\n",
              "    .colab-df-convert:hover {\n",
              "      background-color: #E2EBFA;\n",
              "      box-shadow: 0px 1px 2px rgba(60, 64, 67, 0.3), 0px 1px 3px 1px rgba(60, 64, 67, 0.15);\n",
              "      fill: #174EA6;\n",
              "    }\n",
              "\n",
              "    [theme=dark] .colab-df-convert {\n",
              "      background-color: #3B4455;\n",
              "      fill: #D2E3FC;\n",
              "    }\n",
              "\n",
              "    [theme=dark] .colab-df-convert:hover {\n",
              "      background-color: #434B5C;\n",
              "      box-shadow: 0px 1px 3px 1px rgba(0, 0, 0, 0.15);\n",
              "      filter: drop-shadow(0px 1px 2px rgba(0, 0, 0, 0.3));\n",
              "      fill: #FFFFFF;\n",
              "    }\n",
              "  </style>\n",
              "\n",
              "      <script>\n",
              "        const buttonEl =\n",
              "          document.querySelector('#df-93f67878-8325-4e1e-bcd4-fa68d5ebc8e8 button.colab-df-convert');\n",
              "        buttonEl.style.display =\n",
              "          google.colab.kernel.accessAllowed ? 'block' : 'none';\n",
              "\n",
              "        async function convertToInteractive(key) {\n",
              "          const element = document.querySelector('#df-93f67878-8325-4e1e-bcd4-fa68d5ebc8e8');\n",
              "          const dataTable =\n",
              "            await google.colab.kernel.invokeFunction('convertToInteractive',\n",
              "                                                     [key], {});\n",
              "          if (!dataTable) return;\n",
              "\n",
              "          const docLinkHtml = 'Like what you see? Visit the ' +\n",
              "            '<a target=\"_blank\" href=https://colab.research.google.com/notebooks/data_table.ipynb>data table notebook</a>'\n",
              "            + ' to learn more about interactive tables.';\n",
              "          element.innerHTML = '';\n",
              "          dataTable['output_type'] = 'display_data';\n",
              "          await google.colab.output.renderOutput(dataTable, element);\n",
              "          const docLink = document.createElement('div');\n",
              "          docLink.innerHTML = docLinkHtml;\n",
              "          element.appendChild(docLink);\n",
              "        }\n",
              "      </script>\n",
              "    </div>\n",
              "  </div>\n",
              "  "
            ]
          },
          "metadata": {},
          "execution_count": 169
        }
      ],
      "source": [
        "data = pd.read_csv(\"/content/drive/MyDrive/data/synchronous machine.csv\", sep = ';')\n",
        "data"
      ]
    },
    {
      "cell_type": "code",
      "source": [
        "stats.ttest_rel(data['Iy'], data['If'])"
      ],
      "metadata": {
        "colab": {
          "base_uri": "https://localhost:8080/"
        },
        "id": "Kyg0YjT6nGo4",
        "outputId": "1f1db1a3-0007-4c51-a474-831234b7c0e3"
      },
      "execution_count": null,
      "outputs": [
        {
          "output_type": "execute_result",
          "data": {
            "text/plain": [
              "Ttest_relResult(statistic=83.87770350429217, pvalue=8.82822e-318)"
            ]
          },
          "metadata": {},
          "execution_count": 172
        }
      ]
    },
    {
      "cell_type": "markdown",
      "source": [
        "p-value меньше критерия значимости, гипотеза H0 будет отвергнута."
      ],
      "metadata": {
        "id": "CzMwzdIEnmpA"
      }
    },
    {
      "cell_type": "markdown",
      "metadata": {
        "id": "A53RgKBKd2FM"
      },
      "source": [
        "## Проверка гипотезы о равенстве медиан для независимых выборок (ранговый критерий Манна-Уитни, перестановочный критерий)"
      ]
    },
    {
      "cell_type": "code",
      "execution_count": null,
      "metadata": {
        "id": "S4XHsdU-d2FN"
      },
      "outputs": [],
      "source": [
        "data = pd.read_csv(\"/content/drive/MyDrive/data/consumers-price-index-september-2022-quarter-index-numbers.csv\", sep = ';')\n",
        "data1_fruit = data1[data1[\"Series_title_1\"] == \"Fruit\"]['Data_value']\n",
        "data1_vegetables = data1[data1[\"Series_title_1\"] == \"Vegetables\"]['Data_value']"
      ]
    },
    {
      "cell_type": "code",
      "source": [
        "stats.mannwhitneyu(data1_fruit, data1_vegetables)"
      ],
      "metadata": {
        "colab": {
          "base_uri": "https://localhost:8080/"
        },
        "id": "1EG9pu-aTURP",
        "outputId": "e8b6026b-f353-43d4-bb5c-f34217eff7cc"
      },
      "execution_count": null,
      "outputs": [
        {
          "output_type": "execute_result",
          "data": {
            "text/plain": [
              "MannwhitneyuResult(statistic=5469.0, pvalue=0.004862703369348622)"
            ]
          },
          "metadata": {},
          "execution_count": 178
        }
      ]
    },
    {
      "cell_type": "markdown",
      "source": [
        "p-value меньше критерия значимости 0.01, гипотеза H0 о равенстве медиан будет отвергнута."
      ],
      "metadata": {
        "id": "p3b95Ht8pYOc"
      }
    },
    {
      "cell_type": "markdown",
      "metadata": {
        "id": "9xCcw5NMd2FN"
      },
      "source": [
        "## Проверка гипотезы о равенстве медиан для зависимых выборок (критерий знаковых рангов Уилкоксона, критерий знаков, перестановочный критерий)"
      ]
    },
    {
      "cell_type": "markdown",
      "source": [
        "H0: медианы равны.\n",
        "\n",
        "H1: не равны."
      ],
      "metadata": {
        "id": "wKgBuFiCoArm"
      }
    },
    {
      "cell_type": "code",
      "source": [
        "data = pd.read_csv(\"/content/drive/MyDrive/data/synchronous machine.csv\", sep = ';')"
      ],
      "metadata": {
        "id": "7VZC5lcVpRWU"
      },
      "execution_count": null,
      "outputs": []
    },
    {
      "cell_type": "code",
      "execution_count": null,
      "metadata": {
        "id": "5Pp-vRyid2FN",
        "colab": {
          "base_uri": "https://localhost:8080/"
        },
        "outputId": "68f3c41e-bc70-4878-bdb1-c1d8473fe1c6"
      },
      "outputs": [
        {
          "output_type": "execute_result",
          "data": {
            "text/plain": [
              "WilcoxonResult(statistic=0.0, pvalue=6.244721305227723e-93)"
            ]
          },
          "metadata": {},
          "execution_count": 177
        }
      ],
      "source": [
        "stats.wilcoxon(data['Iy'], data['If'])"
      ]
    },
    {
      "cell_type": "markdown",
      "source": [
        "p-value меньше критерия значимости, гипотеза H0 о равенстве медиан будет отвергнута."
      ],
      "metadata": {
        "id": "DcAHDN3ooLzd"
      }
    }
  ],
  "metadata": {
    "kernelspec": {
      "display_name": "Python 3",
      "language": "python",
      "name": "python3"
    },
    "language_info": {
      "codemirror_mode": {
        "name": "ipython",
        "version": 3
      },
      "file_extension": ".py",
      "mimetype": "text/x-python",
      "name": "python",
      "nbconvert_exporter": "python",
      "pygments_lexer": "ipython3",
      "version": "3.7.4"
    },
    "colab": {
      "provenance": []
    }
  },
  "nbformat": 4,
  "nbformat_minor": 0
}