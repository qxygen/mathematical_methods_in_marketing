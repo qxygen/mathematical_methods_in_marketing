{
  "nbformat": 4,
  "nbformat_minor": 0,
  "metadata": {
    "colab": {
      "provenance": []
    },
    "kernelspec": {
      "name": "python3",
      "display_name": "Python 3"
    },
    "language_info": {
      "name": "python"
    }
  },
  "cells": [
    {
      "cell_type": "markdown",
      "source": [
        "## Задание №9. Простая модель машинного обучения для классификации"
      ],
      "metadata": {
        "id": "3scqkxMkpyc_"
      }
    },
    {
      "cell_type": "code",
      "execution_count": null,
      "metadata": {
        "id": "dgXqkUUI-kDt"
      },
      "outputs": [],
      "source": [
        "import os\n",
        "from pandas import read_csv\n",
        "from pandas import set_option\n",
        "from pandas.plotting import scatter_matrix\n",
        "from matplotlib import pyplot\n",
        "from sklearn.model_selection import train_test_split\n",
        "from sklearn.model_selection import KFold\n",
        "from sklearn.model_selection import cross_val_score\n",
        "from sklearn.metrics import classification_report\n",
        "from sklearn.metrics import confusion_matrix\n",
        "from sklearn.metrics import accuracy_score\n",
        "from sklearn.linear_model import LogisticRegression\n",
        "from sklearn.tree import DecisionTreeClassifier\n",
        "from sklearn.neighbors import KNeighborsClassifier\n",
        "from sklearn.discriminant_analysis import LinearDiscriminantAnalysis\n",
        "from sklearn.naive_bayes import GaussianNB\n",
        "from sklearn.svm import SVC"
      ]
    },
    {
      "cell_type": "markdown",
      "source": [
        "1.\tУкажите путь к рабочей папке, где хранятся данные, с помощью функции chdir() из модуля os.\n",
        "2.\tЗагрузите данные об ирисах из файла iris.data.csv с помощью функции read_csv() из модуля pandas. Названия столбцов укажите следующими: names = ['sepal-length', 'sepal-width', 'petal-length', 'petal-width', 'class']. Посмотрите на первые 5 наблюдений с помощью функции head().\n"
      ],
      "metadata": {
        "id": "g-BZC5osXsGu"
      }
    },
    {
      "cell_type": "code",
      "source": [
        "os.chdir(\"/content/drive/MyDrive/data/\")"
      ],
      "metadata": {
        "id": "mMFBTOc8WNEL"
      },
      "execution_count": null,
      "outputs": []
    },
    {
      "cell_type": "code",
      "source": [
        "names = ['sepal-length', 'sepal-width', 'petal-length', 'petal-width', 'class']\n",
        "df = read_csv('iris.data.csv', names = names, sep = ';')\n",
        "df.head(5)"
      ],
      "metadata": {
        "colab": {
          "base_uri": "https://localhost:8080/",
          "height": 206
        },
        "id": "1S-nZTYKfAwD",
        "outputId": "e1fcb5c9-0575-4654-b3be-aecfc9630256"
      },
      "execution_count": null,
      "outputs": [
        {
          "output_type": "execute_result",
          "data": {
            "text/plain": [
              "   sepal-length  sepal-width  petal-length  petal-width  class\n",
              "0             1            2             3            4      5\n",
              "1            10            4             1            2      5\n",
              "2             4            3            10            2      4\n",
              "3             7            9             3            6      6\n",
              "4             9            3             1            5      9"
            ],
            "text/html": [
              "\n",
              "  <div id=\"df-4d972d74-a39f-4b48-91e2-88897d21ccd9\">\n",
              "    <div class=\"colab-df-container\">\n",
              "      <div>\n",
              "<style scoped>\n",
              "    .dataframe tbody tr th:only-of-type {\n",
              "        vertical-align: middle;\n",
              "    }\n",
              "\n",
              "    .dataframe tbody tr th {\n",
              "        vertical-align: top;\n",
              "    }\n",
              "\n",
              "    .dataframe thead th {\n",
              "        text-align: right;\n",
              "    }\n",
              "</style>\n",
              "<table border=\"1\" class=\"dataframe\">\n",
              "  <thead>\n",
              "    <tr style=\"text-align: right;\">\n",
              "      <th></th>\n",
              "      <th>sepal-length</th>\n",
              "      <th>sepal-width</th>\n",
              "      <th>petal-length</th>\n",
              "      <th>petal-width</th>\n",
              "      <th>class</th>\n",
              "    </tr>\n",
              "  </thead>\n",
              "  <tbody>\n",
              "    <tr>\n",
              "      <th>0</th>\n",
              "      <td>1</td>\n",
              "      <td>2</td>\n",
              "      <td>3</td>\n",
              "      <td>4</td>\n",
              "      <td>5</td>\n",
              "    </tr>\n",
              "    <tr>\n",
              "      <th>1</th>\n",
              "      <td>10</td>\n",
              "      <td>4</td>\n",
              "      <td>1</td>\n",
              "      <td>2</td>\n",
              "      <td>5</td>\n",
              "    </tr>\n",
              "    <tr>\n",
              "      <th>2</th>\n",
              "      <td>4</td>\n",
              "      <td>3</td>\n",
              "      <td>10</td>\n",
              "      <td>2</td>\n",
              "      <td>4</td>\n",
              "    </tr>\n",
              "    <tr>\n",
              "      <th>3</th>\n",
              "      <td>7</td>\n",
              "      <td>9</td>\n",
              "      <td>3</td>\n",
              "      <td>6</td>\n",
              "      <td>6</td>\n",
              "    </tr>\n",
              "    <tr>\n",
              "      <th>4</th>\n",
              "      <td>9</td>\n",
              "      <td>3</td>\n",
              "      <td>1</td>\n",
              "      <td>5</td>\n",
              "      <td>9</td>\n",
              "    </tr>\n",
              "  </tbody>\n",
              "</table>\n",
              "</div>\n",
              "      <button class=\"colab-df-convert\" onclick=\"convertToInteractive('df-4d972d74-a39f-4b48-91e2-88897d21ccd9')\"\n",
              "              title=\"Convert this dataframe to an interactive table.\"\n",
              "              style=\"display:none;\">\n",
              "        \n",
              "  <svg xmlns=\"http://www.w3.org/2000/svg\" height=\"24px\"viewBox=\"0 0 24 24\"\n",
              "       width=\"24px\">\n",
              "    <path d=\"M0 0h24v24H0V0z\" fill=\"none\"/>\n",
              "    <path d=\"M18.56 5.44l.94 2.06.94-2.06 2.06-.94-2.06-.94-.94-2.06-.94 2.06-2.06.94zm-11 1L8.5 8.5l.94-2.06 2.06-.94-2.06-.94L8.5 2.5l-.94 2.06-2.06.94zm10 10l.94 2.06.94-2.06 2.06-.94-2.06-.94-.94-2.06-.94 2.06-2.06.94z\"/><path d=\"M17.41 7.96l-1.37-1.37c-.4-.4-.92-.59-1.43-.59-.52 0-1.04.2-1.43.59L10.3 9.45l-7.72 7.72c-.78.78-.78 2.05 0 2.83L4 21.41c.39.39.9.59 1.41.59.51 0 1.02-.2 1.41-.59l7.78-7.78 2.81-2.81c.8-.78.8-2.07 0-2.86zM5.41 20L4 18.59l7.72-7.72 1.47 1.35L5.41 20z\"/>\n",
              "  </svg>\n",
              "      </button>\n",
              "      \n",
              "  <style>\n",
              "    .colab-df-container {\n",
              "      display:flex;\n",
              "      flex-wrap:wrap;\n",
              "      gap: 12px;\n",
              "    }\n",
              "\n",
              "    .colab-df-convert {\n",
              "      background-color: #E8F0FE;\n",
              "      border: none;\n",
              "      border-radius: 50%;\n",
              "      cursor: pointer;\n",
              "      display: none;\n",
              "      fill: #1967D2;\n",
              "      height: 32px;\n",
              "      padding: 0 0 0 0;\n",
              "      width: 32px;\n",
              "    }\n",
              "\n",
              "    .colab-df-convert:hover {\n",
              "      background-color: #E2EBFA;\n",
              "      box-shadow: 0px 1px 2px rgba(60, 64, 67, 0.3), 0px 1px 3px 1px rgba(60, 64, 67, 0.15);\n",
              "      fill: #174EA6;\n",
              "    }\n",
              "\n",
              "    [theme=dark] .colab-df-convert {\n",
              "      background-color: #3B4455;\n",
              "      fill: #D2E3FC;\n",
              "    }\n",
              "\n",
              "    [theme=dark] .colab-df-convert:hover {\n",
              "      background-color: #434B5C;\n",
              "      box-shadow: 0px 1px 3px 1px rgba(0, 0, 0, 0.15);\n",
              "      filter: drop-shadow(0px 1px 2px rgba(0, 0, 0, 0.3));\n",
              "      fill: #FFFFFF;\n",
              "    }\n",
              "  </style>\n",
              "\n",
              "      <script>\n",
              "        const buttonEl =\n",
              "          document.querySelector('#df-4d972d74-a39f-4b48-91e2-88897d21ccd9 button.colab-df-convert');\n",
              "        buttonEl.style.display =\n",
              "          google.colab.kernel.accessAllowed ? 'block' : 'none';\n",
              "\n",
              "        async function convertToInteractive(key) {\n",
              "          const element = document.querySelector('#df-4d972d74-a39f-4b48-91e2-88897d21ccd9');\n",
              "          const dataTable =\n",
              "            await google.colab.kernel.invokeFunction('convertToInteractive',\n",
              "                                                     [key], {});\n",
              "          if (!dataTable) return;\n",
              "\n",
              "          const docLinkHtml = 'Like what you see? Visit the ' +\n",
              "            '<a target=\"_blank\" href=https://colab.research.google.com/notebooks/data_table.ipynb>data table notebook</a>'\n",
              "            + ' to learn more about interactive tables.';\n",
              "          element.innerHTML = '';\n",
              "          dataTable['output_type'] = 'display_data';\n",
              "          await google.colab.output.renderOutput(dataTable, element);\n",
              "          const docLink = document.createElement('div');\n",
              "          docLink.innerHTML = docLinkHtml;\n",
              "          element.appendChild(docLink);\n",
              "        }\n",
              "      </script>\n",
              "    </div>\n",
              "  </div>\n",
              "  "
            ]
          },
          "metadata": {},
          "execution_count": 7
        }
      ]
    },
    {
      "cell_type": "markdown",
      "source": [
        "3.\tПосмотрите на размерность данных, обратившись к атрибуту shape."
      ],
      "metadata": {
        "id": "r21dpZeZXt6Z"
      }
    },
    {
      "cell_type": "code",
      "source": [
        "df.shape"
      ],
      "metadata": {
        "id": "xtM95lYnW5mx",
        "colab": {
          "base_uri": "https://localhost:8080/"
        },
        "outputId": "6536b8f0-e120-44af-bef9-f3cdf4348dd1"
      },
      "execution_count": null,
      "outputs": [
        {
          "output_type": "execute_result",
          "data": {
            "text/plain": [
              "(176, 5)"
            ]
          },
          "metadata": {},
          "execution_count": 8
        }
      ]
    },
    {
      "cell_type": "markdown",
      "source": [
        "4.\tВыведите на экран общую информацию о наборе данных с помощью функции info()."
      ],
      "metadata": {
        "id": "dBYcDEbCXv1_"
      }
    },
    {
      "cell_type": "code",
      "source": [
        "df.info()"
      ],
      "metadata": {
        "id": "LLfZDgylXnUL",
        "colab": {
          "base_uri": "https://localhost:8080/"
        },
        "outputId": "17ba4762-8348-4131-fa46-a220fd46a8a8"
      },
      "execution_count": null,
      "outputs": [
        {
          "output_type": "stream",
          "name": "stdout",
          "text": [
            "<class 'pandas.core.frame.DataFrame'>\n",
            "RangeIndex: 176 entries, 0 to 175\n",
            "Data columns (total 5 columns):\n",
            " #   Column        Non-Null Count  Dtype\n",
            "---  ------        --------------  -----\n",
            " 0   sepal-length  176 non-null    int64\n",
            " 1   sepal-width   176 non-null    int64\n",
            " 2   petal-length  176 non-null    int64\n",
            " 3   petal-width   176 non-null    int64\n",
            " 4   class         176 non-null    int64\n",
            "dtypes: int64(5)\n",
            "memory usage: 7.0 KB\n"
          ]
        }
      ]
    },
    {
      "cell_type": "markdown",
      "source": [
        "5.\tУстановите точность вывода результатов до 3-х знаков после запятой с помощью функции set_option('precision', 3) из модуля pandas.\n",
        "6.\t Выведите на экран описательные статистики, воспользовавшись функцией describe()."
      ],
      "metadata": {
        "id": "HpPkn2dir0rx"
      }
    },
    {
      "cell_type": "code",
      "source": [
        "set_option('precision', 3) "
      ],
      "metadata": {
        "id": "DagLnAj8fg0u"
      },
      "execution_count": null,
      "outputs": []
    },
    {
      "cell_type": "code",
      "source": [
        "df.describe()"
      ],
      "metadata": {
        "id": "dJoOHKMTfkeL",
        "colab": {
          "base_uri": "https://localhost:8080/",
          "height": 300
        },
        "outputId": "6a2d0c61-a1fd-460a-81f8-280869016351"
      },
      "execution_count": null,
      "outputs": [
        {
          "output_type": "execute_result",
          "data": {
            "text/plain": [
              "       sepal-length  sepal-width  petal-length  petal-width   class\n",
              "count       176.000      176.000        176.00      176.000  176.00\n",
              "mean          6.489        6.767          6.33        6.102    6.58\n",
              "std           3.495        3.397          3.57        3.538    3.44\n",
              "min           1.000        1.000          1.00        1.000    1.00\n",
              "25%           3.000        4.000          3.00        3.000    4.00\n",
              "50%           7.000        7.000          6.00        6.000    7.00\n",
              "75%          10.000       10.000          9.00        9.000   10.00\n",
              "max          12.000       12.000         12.00       12.000   12.00"
            ],
            "text/html": [
              "\n",
              "  <div id=\"df-6a72a195-fb8f-4e89-97b2-3fa456a44ab2\">\n",
              "    <div class=\"colab-df-container\">\n",
              "      <div>\n",
              "<style scoped>\n",
              "    .dataframe tbody tr th:only-of-type {\n",
              "        vertical-align: middle;\n",
              "    }\n",
              "\n",
              "    .dataframe tbody tr th {\n",
              "        vertical-align: top;\n",
              "    }\n",
              "\n",
              "    .dataframe thead th {\n",
              "        text-align: right;\n",
              "    }\n",
              "</style>\n",
              "<table border=\"1\" class=\"dataframe\">\n",
              "  <thead>\n",
              "    <tr style=\"text-align: right;\">\n",
              "      <th></th>\n",
              "      <th>sepal-length</th>\n",
              "      <th>sepal-width</th>\n",
              "      <th>petal-length</th>\n",
              "      <th>petal-width</th>\n",
              "      <th>class</th>\n",
              "    </tr>\n",
              "  </thead>\n",
              "  <tbody>\n",
              "    <tr>\n",
              "      <th>count</th>\n",
              "      <td>176.000</td>\n",
              "      <td>176.000</td>\n",
              "      <td>176.00</td>\n",
              "      <td>176.000</td>\n",
              "      <td>176.00</td>\n",
              "    </tr>\n",
              "    <tr>\n",
              "      <th>mean</th>\n",
              "      <td>6.489</td>\n",
              "      <td>6.767</td>\n",
              "      <td>6.33</td>\n",
              "      <td>6.102</td>\n",
              "      <td>6.58</td>\n",
              "    </tr>\n",
              "    <tr>\n",
              "      <th>std</th>\n",
              "      <td>3.495</td>\n",
              "      <td>3.397</td>\n",
              "      <td>3.57</td>\n",
              "      <td>3.538</td>\n",
              "      <td>3.44</td>\n",
              "    </tr>\n",
              "    <tr>\n",
              "      <th>min</th>\n",
              "      <td>1.000</td>\n",
              "      <td>1.000</td>\n",
              "      <td>1.00</td>\n",
              "      <td>1.000</td>\n",
              "      <td>1.00</td>\n",
              "    </tr>\n",
              "    <tr>\n",
              "      <th>25%</th>\n",
              "      <td>3.000</td>\n",
              "      <td>4.000</td>\n",
              "      <td>3.00</td>\n",
              "      <td>3.000</td>\n",
              "      <td>4.00</td>\n",
              "    </tr>\n",
              "    <tr>\n",
              "      <th>50%</th>\n",
              "      <td>7.000</td>\n",
              "      <td>7.000</td>\n",
              "      <td>6.00</td>\n",
              "      <td>6.000</td>\n",
              "      <td>7.00</td>\n",
              "    </tr>\n",
              "    <tr>\n",
              "      <th>75%</th>\n",
              "      <td>10.000</td>\n",
              "      <td>10.000</td>\n",
              "      <td>9.00</td>\n",
              "      <td>9.000</td>\n",
              "      <td>10.00</td>\n",
              "    </tr>\n",
              "    <tr>\n",
              "      <th>max</th>\n",
              "      <td>12.000</td>\n",
              "      <td>12.000</td>\n",
              "      <td>12.00</td>\n",
              "      <td>12.000</td>\n",
              "      <td>12.00</td>\n",
              "    </tr>\n",
              "  </tbody>\n",
              "</table>\n",
              "</div>\n",
              "      <button class=\"colab-df-convert\" onclick=\"convertToInteractive('df-6a72a195-fb8f-4e89-97b2-3fa456a44ab2')\"\n",
              "              title=\"Convert this dataframe to an interactive table.\"\n",
              "              style=\"display:none;\">\n",
              "        \n",
              "  <svg xmlns=\"http://www.w3.org/2000/svg\" height=\"24px\"viewBox=\"0 0 24 24\"\n",
              "       width=\"24px\">\n",
              "    <path d=\"M0 0h24v24H0V0z\" fill=\"none\"/>\n",
              "    <path d=\"M18.56 5.44l.94 2.06.94-2.06 2.06-.94-2.06-.94-.94-2.06-.94 2.06-2.06.94zm-11 1L8.5 8.5l.94-2.06 2.06-.94-2.06-.94L8.5 2.5l-.94 2.06-2.06.94zm10 10l.94 2.06.94-2.06 2.06-.94-2.06-.94-.94-2.06-.94 2.06-2.06.94z\"/><path d=\"M17.41 7.96l-1.37-1.37c-.4-.4-.92-.59-1.43-.59-.52 0-1.04.2-1.43.59L10.3 9.45l-7.72 7.72c-.78.78-.78 2.05 0 2.83L4 21.41c.39.39.9.59 1.41.59.51 0 1.02-.2 1.41-.59l7.78-7.78 2.81-2.81c.8-.78.8-2.07 0-2.86zM5.41 20L4 18.59l7.72-7.72 1.47 1.35L5.41 20z\"/>\n",
              "  </svg>\n",
              "      </button>\n",
              "      \n",
              "  <style>\n",
              "    .colab-df-container {\n",
              "      display:flex;\n",
              "      flex-wrap:wrap;\n",
              "      gap: 12px;\n",
              "    }\n",
              "\n",
              "    .colab-df-convert {\n",
              "      background-color: #E8F0FE;\n",
              "      border: none;\n",
              "      border-radius: 50%;\n",
              "      cursor: pointer;\n",
              "      display: none;\n",
              "      fill: #1967D2;\n",
              "      height: 32px;\n",
              "      padding: 0 0 0 0;\n",
              "      width: 32px;\n",
              "    }\n",
              "\n",
              "    .colab-df-convert:hover {\n",
              "      background-color: #E2EBFA;\n",
              "      box-shadow: 0px 1px 2px rgba(60, 64, 67, 0.3), 0px 1px 3px 1px rgba(60, 64, 67, 0.15);\n",
              "      fill: #174EA6;\n",
              "    }\n",
              "\n",
              "    [theme=dark] .colab-df-convert {\n",
              "      background-color: #3B4455;\n",
              "      fill: #D2E3FC;\n",
              "    }\n",
              "\n",
              "    [theme=dark] .colab-df-convert:hover {\n",
              "      background-color: #434B5C;\n",
              "      box-shadow: 0px 1px 3px 1px rgba(0, 0, 0, 0.15);\n",
              "      filter: drop-shadow(0px 1px 2px rgba(0, 0, 0, 0.3));\n",
              "      fill: #FFFFFF;\n",
              "    }\n",
              "  </style>\n",
              "\n",
              "      <script>\n",
              "        const buttonEl =\n",
              "          document.querySelector('#df-6a72a195-fb8f-4e89-97b2-3fa456a44ab2 button.colab-df-convert');\n",
              "        buttonEl.style.display =\n",
              "          google.colab.kernel.accessAllowed ? 'block' : 'none';\n",
              "\n",
              "        async function convertToInteractive(key) {\n",
              "          const element = document.querySelector('#df-6a72a195-fb8f-4e89-97b2-3fa456a44ab2');\n",
              "          const dataTable =\n",
              "            await google.colab.kernel.invokeFunction('convertToInteractive',\n",
              "                                                     [key], {});\n",
              "          if (!dataTable) return;\n",
              "\n",
              "          const docLinkHtml = 'Like what you see? Visit the ' +\n",
              "            '<a target=\"_blank\" href=https://colab.research.google.com/notebooks/data_table.ipynb>data table notebook</a>'\n",
              "            + ' to learn more about interactive tables.';\n",
              "          element.innerHTML = '';\n",
              "          dataTable['output_type'] = 'display_data';\n",
              "          await google.colab.output.renderOutput(dataTable, element);\n",
              "          const docLink = document.createElement('div');\n",
              "          docLink.innerHTML = docLinkHtml;\n",
              "          element.appendChild(docLink);\n",
              "        }\n",
              "      </script>\n",
              "    </div>\n",
              "  </div>\n",
              "  "
            ]
          },
          "metadata": {},
          "execution_count": 12
        }
      ]
    },
    {
      "cell_type": "markdown",
      "source": [
        "7.\tВыявите распределение данных по классам, воспользовавшись функцией groupby() для группировки данных по классам и функцией size() для подсчета количества наблюдений в каждом классе."
      ],
      "metadata": {
        "id": "mLdN6OE2sCfF"
      }
    },
    {
      "cell_type": "code",
      "source": [
        "df.groupby('class').size()"
      ],
      "metadata": {
        "colab": {
          "base_uri": "https://localhost:8080/"
        },
        "id": "2GYScZmZfpgd",
        "outputId": "57fc98b0-29d1-4139-bc44-78f38ce0d746"
      },
      "execution_count": null,
      "outputs": [
        {
          "output_type": "execute_result",
          "data": {
            "text/plain": [
              "class\n",
              "1     15\n",
              "2     12\n",
              "3     13\n",
              "4     17\n",
              "5     16\n",
              "6     13\n",
              "7     15\n",
              "8     17\n",
              "9     12\n",
              "10    16\n",
              "11    15\n",
              "12    15\n",
              "dtype: int64"
            ]
          },
          "metadata": {},
          "execution_count": 13
        }
      ]
    },
    {
      "cell_type": "markdown",
      "source": [
        "8. Постройте гистограмму для всех признаков, воспользовавшись функцией hist() и функцией show() из модуля matplotlib.pyplot."
      ],
      "metadata": {
        "id": "KCqlpdh2sL5X"
      }
    },
    {
      "cell_type": "code",
      "source": [
        "df.hist()\n",
        "pyplot.show()"
      ],
      "metadata": {
        "colab": {
          "base_uri": "https://localhost:8080/",
          "height": 281
        },
        "id": "2kZrbL-afq95",
        "outputId": "311e719a-ba80-46e4-e7cb-1e4352869764"
      },
      "execution_count": null,
      "outputs": [
        {
          "output_type": "display_data",
          "data": {
            "text/plain": [
              "<Figure size 432x288 with 6 Axes>"
            ],
            "image/png": "[encoded data removed]"
          },
          "metadata": {
            "needs_background": "light"
          }
        }
      ]
    },
    {
      "cell_type": "markdown",
      "source": [
        "9.\tПостройте ящики с усами для всех признаков, воспользовавшись функцией plot(kind='box', subplots=True, layout=(3,3), sharex=False, sharey=False) и функцией show() из модуля matplotlib.pyplot."
      ],
      "metadata": {
        "id": "fD8Ufjh6X0nI"
      }
    },
    {
      "cell_type": "code",
      "source": [
        "df.plot(kind='box', subplots=True, layout=(3,3), sharex=False, sharey=False)\n",
        "pyplot.show()"
      ],
      "metadata": {
        "id": "wibnaxWuXoHU",
        "colab": {
          "base_uri": "https://localhost:8080/",
          "height": 189
        },
        "outputId": "603b2e64-907c-40b4-e817-4344b3bedcc9"
      },
      "execution_count": null,
      "outputs": [
        {
          "output_type": "display_data",
          "data": {
            "text/plain": [
              "<Figure size 432x288 with 9 Axes>"
            ],
            "image/png": "[encoded data removed]"
          },
          "metadata": {
            "needs_background": "light"
          }
        }
      ]
    },
    {
      "cell_type": "markdown",
      "source": [
        "10.\tПостройте диаграмму рассеяния, воспользовавшись функцией scatter_matrix() из модуля pandas.plotting и функцией show() из модуля matplotlib.pyplot. Прокомментируйте результат."
      ],
      "metadata": {
        "id": "UVzeR1iYseZu"
      }
    },
    {
      "cell_type": "code",
      "source": [
        "scatter_matrix(df)\n",
        "pyplot.show()"
      ],
      "metadata": {
        "id": "mJrDSdo8f8KO",
        "colab": {
          "base_uri": "https://localhost:8080/",
          "height": 289
        },
        "outputId": "1321aadf-381a-40b8-d9a7-9f9c65104d1e"
      },
      "execution_count": null,
      "outputs": [
        {
          "output_type": "display_data",
          "data": {
            "text/plain": [
              "<Figure size 432x288 with 25 Axes>"
            ],
            "image/png": "[encoded data removed]"
          },
          "metadata": {
            "needs_background": "light"
          }
        }
      ]
    },
    {
      "cell_type": "markdown",
      "source": [
        "11. Сохраните в переменную array значения признаков, обратившись к атрибуту values.\n",
        "12. Выделите в переменной array часть, которая относится к факторным признакам, назовите ее X, и часть, которая относится к результативному признаку, - Y."
      ],
      "metadata": {
        "id": "kKb9Fg3dspC6"
      }
    },
    {
      "cell_type": "code",
      "source": [
        "array = df.values"
      ],
      "metadata": {
        "id": "q--HOqMdf03i"
      },
      "execution_count": null,
      "outputs": []
    },
    {
      "cell_type": "code",
      "source": [
        "X = array[:,0:4]\n",
        "Y = array[:,4]"
      ],
      "metadata": {
        "id": "kjA4z4szs0M5"
      },
      "execution_count": null,
      "outputs": []
    },
    {
      "cell_type": "markdown",
      "source": [
        "13. Разбейте выборку на обучающий и тестовый набор с помощью функции train_test_split(X, Y, test_size= test_size, random_state= random_state) из модуля sklearn.model_selection. Пусть доля тестовой выборки (test_size) - 0,2. Счетчик случайных чисел (random_state) – пусть 7. Результат запишите в переменные X_train, X_test, Y_train, Y_test.\n",
        "14.\t Создайте пустой список и запишите его в переменную models.\n",
        "15.\t Добавьте в список models с помощью функции append() набор из кортежей, первый элемент которого содержит название модели, а второй – функцию для создания соответствующей модели. Включите все линейные и нелинейные модели для классификации, рассмотренные в заданиях 7 и 8. Можно при этом воспользоваться следующими сокращениями:\n",
        "\n",
        "•\tLR – логистическая регрессия;\n",
        "\n",
        "•\tSVM – линейный метод опорных векторов;\n",
        "\n",
        "•\tLDA – линейный дискриминантный анализ;\n",
        "\n",
        "•\tKNN - модель ближайшего соседа;\n",
        "\n",
        "•\tNB - наивный байесовский классификатор;\n",
        "\n",
        "•\tCART - модель решающего дерева.\n",
        "16.\tВыведите на экран список названий моделей с соответствующими значениями средней доли правильных ответов и стандартного отклонения, рассчитанными на кросс-валидации.\n"
      ],
      "metadata": {
        "id": "51I8lgcsX2lf"
      }
    },
    {
      "cell_type": "code",
      "source": [
        "X_train, X_test, Y_train, Y_test = train_test_split(X, Y,test_size=0.2, random_state=7)"
      ],
      "metadata": {
        "id": "Pv59nro7s3Ax"
      },
      "execution_count": null,
      "outputs": []
    },
    {
      "cell_type": "code",
      "source": [
        "models = []"
      ],
      "metadata": {
        "id": "_c1AqlSeYIbX"
      },
      "execution_count": null,
      "outputs": []
    },
    {
      "cell_type": "code",
      "source": [
        "models.append(('LR', LogisticRegression(solver='liblinear', multi_class='ovr')))\n",
        "models.append(('LDA', LinearDiscriminantAnalysis()))\n",
        "models.append(('KNN', KNeighborsClassifier()))\n",
        "models.append(('CART', DecisionTreeClassifier()))\n",
        "models.append(('NB', GaussianNB()))\n",
        "models.append(('SVM', SVC(gamma='auto')))"
      ],
      "metadata": {
        "id": "cQDxN6crtQNV"
      },
      "execution_count": null,
      "outputs": []
    },
    {
      "cell_type": "code",
      "source": [
        "results = []\n",
        "names = []\n",
        "\n",
        "for name, model in models:\n",
        "    kfold = KFold(n_splits=10, random_state=7, shuffle=True)\n",
        "    cv_results = cross_val_score(model, X_train, Y_train, cv=kfold, scoring='accuracy')\n",
        "    results.append(cv_results)\n",
        "    names.append(name)\n",
        "    print(name, round(cv_results.mean(),3), round(cv_results.std(),3))"
      ],
      "metadata": {
        "colab": {
          "base_uri": "https://localhost:8080/"
        },
        "id": "eqsSfU_4tcN0",
        "outputId": "ef6746c2-1ba8-4c5f-ff0f-7e422f2bdfa7"
      },
      "execution_count": null,
      "outputs": [
        {
          "output_type": "stream",
          "name": "stdout",
          "text": [
            "LR 0.079 0.087\n",
            "LDA 0.086 0.07\n",
            "KNN 0.107 0.058\n",
            "CART 0.129 0.089\n",
            "NB 0.114 0.057\n",
            "SVM 0.086 0.07\n"
          ]
        }
      ]
    },
    {
      "cell_type": "markdown",
      "source": [
        "17.\t Изобразите результаты предыдущих расчетов в виде ящика с усами."
      ],
      "metadata": {
        "id": "XjeHtyL_YOt-"
      }
    },
    {
      "cell_type": "code",
      "source": [
        "pyplot.boxplot(results)\n",
        "pyplot.show()"
      ],
      "metadata": {
        "id": "wJjDzVC0YNpF",
        "colab": {
          "base_uri": "https://localhost:8080/",
          "height": 269
        },
        "outputId": "d7cbdb48-559f-41b1-a5fb-b3821df4aa5b"
      },
      "execution_count": null,
      "outputs": [
        {
          "output_type": "display_data",
          "data": {
            "text/plain": [
              "<Figure size 432x288 with 1 Axes>"
            ],
            "image/png": "[encoded data removed]"
          },
          "metadata": {
            "needs_background": "light"
          }
        }
      ]
    },
    {
      "cell_type": "markdown",
      "source": [
        "19. Обучите выбранную в модель на обучающем наборе с помощью функции fit().\n",
        "20.\t На основе факторных признаков тестового набора найдите расчетные значения по модели, воспользовавшись функцией predict(). Результат запишите в переменную predictions.\n",
        "21.\t На основе результативного признака из тестового набора (Y_test) и расчетных значений по модели (predictions) найдите долю правильных ответов (accuracy), воспользовавшись функцией accuracy_score() из модуля sklearn.metrics.\n"
      ],
      "metadata": {
        "id": "Ey05MonZlNcs"
      }
    },
    {
      "cell_type": "code",
      "source": [
        "knn = KNeighborsClassifier()\n",
        "knn.fit(X_train, Y_train)"
      ],
      "metadata": {
        "id": "Dbi-D-41lNHv",
        "colab": {
          "base_uri": "https://localhost:8080/"
        },
        "outputId": "851e2c7d-18c7-4e34-dd93-7293dda76952"
      },
      "execution_count": null,
      "outputs": [
        {
          "output_type": "execute_result",
          "data": {
            "text/plain": [
              "KNeighborsClassifier()"
            ]
          },
          "metadata": {},
          "execution_count": 27
        }
      ]
    },
    {
      "cell_type": "code",
      "source": [
        "predictions = knn.predict(X_test)"
      ],
      "metadata": {
        "id": "hV2rxs42YjCP"
      },
      "execution_count": null,
      "outputs": []
    },
    {
      "cell_type": "code",
      "source": [
        "accuracy_score(Y_test, predictions)"
      ],
      "metadata": {
        "colab": {
          "base_uri": "https://localhost:8080/"
        },
        "id": "edn8W7ApYtFB",
        "outputId": "71a1f7ed-e448-43ea-9762-9015d7431626"
      },
      "execution_count": null,
      "outputs": [
        {
          "output_type": "execute_result",
          "data": {
            "text/plain": [
              "0.027777777777777776"
            ]
          },
          "metadata": {},
          "execution_count": 29
        }
      ]
    },
    {
      "cell_type": "markdown",
      "source": [
        "22.\t Далее постройте матрицу ошибок с помощью функции confusion_matrix() из модуля sklearn.metrics. На вход этой функции подайте фактические значения результативного признака на тестовом наборе (Y_test) и расчетные значения по модели (predictions). Выведите на экран полученный результат."
      ],
      "metadata": {
        "id": "KzSKdDxMYvUU"
      }
    },
    {
      "cell_type": "code",
      "source": [
        "confusion_matrix(Y_test, predictions)"
      ],
      "metadata": {
        "id": "rJEDiRrCYuHD",
        "colab": {
          "base_uri": "https://localhost:8080/"
        },
        "outputId": "9a5a784c-cf7f-43c6-e382-3d13b82ad3a6"
      },
      "execution_count": null,
      "outputs": [
        {
          "output_type": "execute_result",
          "data": {
            "text/plain": [
              "array([[0, 1, 1, 0, 0, 0, 0, 0, 0, 0, 1, 0],\n",
              "       [2, 0, 0, 1, 0, 0, 1, 0, 0, 0, 0, 0],\n",
              "       [0, 0, 0, 0, 0, 0, 0, 0, 0, 0, 1, 0],\n",
              "       [0, 0, 0, 0, 1, 0, 0, 0, 1, 0, 0, 0],\n",
              "       [0, 0, 0, 0, 0, 0, 0, 0, 0, 0, 1, 1],\n",
              "       [1, 0, 0, 0, 0, 0, 0, 0, 1, 0, 0, 1],\n",
              "       [0, 0, 0, 0, 0, 0, 1, 1, 0, 0, 0, 0],\n",
              "       [0, 0, 1, 1, 0, 0, 1, 0, 0, 0, 0, 0],\n",
              "       [0, 1, 0, 0, 0, 0, 0, 0, 0, 0, 0, 0],\n",
              "       [1, 0, 0, 1, 0, 1, 0, 1, 0, 0, 0, 0],\n",
              "       [1, 1, 0, 1, 1, 0, 0, 0, 0, 0, 0, 1],\n",
              "       [0, 1, 0, 2, 0, 0, 2, 1, 0, 0, 0, 0]])"
            ]
          },
          "metadata": {},
          "execution_count": 30
        }
      ]
    },
    {
      "cell_type": "markdown",
      "source": [
        "24.\t Выведите на экран отчет о качестве классификации с помощью функции classification_report() из модуля sklearn.metrics. На вход этой функции подайте фактические значения результативного признака на тестовом наборе (Y_test) и расчетные значения по модели (predictions). Выведите на экран полученный результат."
      ],
      "metadata": {
        "id": "dlMEMagdu0_R"
      }
    },
    {
      "cell_type": "code",
      "source": [
        "classification_report(Y_test, predictions)"
      ],
      "metadata": {
        "id": "YKBWyH6HY2tv",
        "colab": {
          "base_uri": "https://localhost:8080/",
          "height": 229
        },
        "outputId": "49f6ec2d-7588-4f2b-9a42-5eea4371dded"
      },
      "execution_count": null,
      "outputs": [
        {
          "output_type": "stream",
          "name": "stderr",
          "text": [
            "/usr/local/lib/python3.8/dist-packages/sklearn/metrics/_classification.py:1318: UndefinedMetricWarning: Precision and F-score are ill-defined and being set to 0.0 in labels with no predicted samples. Use `zero_division` parameter to control this behavior.\n",
            "  _warn_prf(average, modifier, msg_start, len(result))\n",
            "/usr/local/lib/python3.8/dist-packages/sklearn/metrics/_classification.py:1318: UndefinedMetricWarning: Precision and F-score are ill-defined and being set to 0.0 in labels with no predicted samples. Use `zero_division` parameter to control this behavior.\n",
            "  _warn_prf(average, modifier, msg_start, len(result))\n",
            "/usr/local/lib/python3.8/dist-packages/sklearn/metrics/_classification.py:1318: UndefinedMetricWarning: Precision and F-score are ill-defined and being set to 0.0 in labels with no predicted samples. Use `zero_division` parameter to control this behavior.\n",
            "  _warn_prf(average, modifier, msg_start, len(result))\n"
          ]
        },
        {
          "output_type": "execute_result",
          "data": {
            "text/plain": [
              "'              precision    recall  f1-score   support\\n\\n           1       0.00      0.00      0.00         3\\n           2       0.00      0.00      0.00         4\\n           3       0.00      0.00      0.00         1\\n           4       0.00      0.00      0.00         2\\n           5       0.00      0.00      0.00         2\\n           6       0.00      0.00      0.00         3\\n           7       0.20      0.50      0.29         2\\n           8       0.00      0.00      0.00         3\\n           9       0.00      0.00      0.00         1\\n          10       0.00      0.00      0.00         4\\n          11       0.00      0.00      0.00         5\\n          12       0.00      0.00      0.00         6\\n\\n    accuracy                           0.03        36\\n   macro avg       0.02      0.04      0.02        36\\nweighted avg       0.01      0.03      0.02        36\\n'"
            ],
            "application/vnd.google.colaboratory.intrinsic+json": {
              "type": "string"
            }
          },
          "metadata": {},
          "execution_count": 35
        }
      ]
    },
    {
      "cell_type": "code",
      "source": [],
      "metadata": {
        "id": "_-O9xRbovGvF"
      },
      "execution_count": null,
      "outputs": []
    }
  ]
}