{
  "cells": [
    {
      "cell_type": "code",
      "execution_count": null,
      "id": "004d88ca",
      "metadata": {
        "collapsed": true,
        "id": "004d88ca",
        "outputId": "2d7e0b66-287f-4c97-c225-4bab5c3c0936"
      },
      "outputs": [
        {
          "name": "stdout",
          "output_type": "stream",
          "text": [
            "Requirement already satisfied: factor_analyzer in d:\\soft\\anaconda3\\lib\\site-packages (0.4.1)\n",
            "Requirement already satisfied: pandas in d:\\soft\\anaconda3\\lib\\site-packages (from factor_analyzer) (1.4.4)\n",
            "Requirement already satisfied: scikit-learn in d:\\soft\\anaconda3\\lib\\site-packages (from factor_analyzer) (1.0.2)\n",
            "Requirement already satisfied: scipy in d:\\soft\\anaconda3\\lib\\site-packages (from factor_analyzer) (1.9.1)\n",
            "Requirement already satisfied: pre-commit in d:\\soft\\anaconda3\\lib\\site-packages (from factor_analyzer) (2.20.0)\n",
            "Requirement already satisfied: numpy in d:\\soft\\anaconda3\\lib\\site-packages (from factor_analyzer) (1.21.5)\n",
            "Requirement already satisfied: python-dateutil>=2.8.1 in d:\\soft\\anaconda3\\lib\\site-packages (from pandas->factor_analyzer) (2.8.2)\n",
            "Requirement already satisfied: pytz>=2020.1 in d:\\soft\\anaconda3\\lib\\site-packages (from pandas->factor_analyzer) (2022.1)\n",
            "Requirement already satisfied: nodeenv>=0.11.1 in d:\\soft\\anaconda3\\lib\\site-packages (from pre-commit->factor_analyzer) (1.7.0)\n",
            "Requirement already satisfied: pyyaml>=5.1 in d:\\soft\\anaconda3\\lib\\site-packages (from pre-commit->factor_analyzer) (6.0)\n",
            "Requirement already satisfied: toml in d:\\soft\\anaconda3\\lib\\site-packages (from pre-commit->factor_analyzer) (0.10.2)\n",
            "Requirement already satisfied: virtualenv>=20.0.8 in d:\\soft\\anaconda3\\lib\\site-packages (from pre-commit->factor_analyzer) (20.16.7)\n",
            "Requirement already satisfied: cfgv>=2.0.0 in d:\\soft\\anaconda3\\lib\\site-packages (from pre-commit->factor_analyzer) (3.3.1)\n",
            "Requirement already satisfied: identify>=1.0.0 in d:\\soft\\anaconda3\\lib\\site-packages (from pre-commit->factor_analyzer) (2.5.9)\n",
            "Requirement already satisfied: joblib>=0.11 in d:\\soft\\anaconda3\\lib\\site-packages (from scikit-learn->factor_analyzer) (1.1.0)\n",
            "Requirement already satisfied: threadpoolctl>=2.0.0 in d:\\soft\\anaconda3\\lib\\site-packages (from scikit-learn->factor_analyzer) (2.2.0)\n",
            "Requirement already satisfied: setuptools in d:\\soft\\anaconda3\\lib\\site-packages (from nodeenv>=0.11.1->pre-commit->factor_analyzer) (63.4.1)\n",
            "Requirement already satisfied: six>=1.5 in d:\\soft\\anaconda3\\lib\\site-packages (from python-dateutil>=2.8.1->pandas->factor_analyzer) (1.16.0)\n",
            "Requirement already satisfied: distlib<1,>=0.3.6 in d:\\soft\\anaconda3\\lib\\site-packages (from virtualenv>=20.0.8->pre-commit->factor_analyzer) (0.3.6)\n",
            "Requirement already satisfied: filelock<4,>=3.4.1 in d:\\soft\\anaconda3\\lib\\site-packages (from virtualenv>=20.0.8->pre-commit->factor_analyzer) (3.6.0)\n",
            "Requirement already satisfied: platformdirs<3,>=2.4 in d:\\soft\\anaconda3\\lib\\site-packages (from virtualenv>=20.0.8->pre-commit->factor_analyzer) (2.5.2)\n"
          ]
        }
      ],
      "source": [
        "!pip install factor_analyzer;"
      ]
    },
    {
      "cell_type": "code",
      "execution_count": null,
      "id": "0e5c1207",
      "metadata": {
        "id": "0e5c1207"
      },
      "outputs": [],
      "source": [
        "import pandas as pd\n",
        "import numpy as np\n",
        "import matplotlib.pyplot as plt\n",
        "import seaborn as sns\n",
        "from sklearn.preprocessing import scale\n",
        "from sklearn.decomposition import PCA"
      ]
    },
    {
      "cell_type": "code",
      "execution_count": null,
      "id": "78496f59",
      "metadata": {
        "id": "78496f59"
      },
      "outputs": [],
      "source": [
        "import factor_analyzer as fa"
      ]
    },
    {
      "cell_type": "code",
      "execution_count": null,
      "id": "b435c7bf",
      "metadata": {
        "id": "b435c7bf",
        "outputId": "667cb95c-4b10-4247-b0e4-cf7eae08c13d"
      },
      "outputs": [
        {
          "data": {
            "text/html": [
              "<div>\n",
              "<style scoped>\n",
              "    .dataframe tbody tr th:only-of-type {\n",
              "        vertical-align: middle;\n",
              "    }\n",
              "\n",
              "    .dataframe tbody tr th {\n",
              "        vertical-align: top;\n",
              "    }\n",
              "\n",
              "    .dataframe thead th {\n",
              "        text-align: right;\n",
              "    }\n",
              "</style>\n",
              "<table border=\"1\" class=\"dataframe\">\n",
              "  <thead>\n",
              "    <tr style=\"text-align: right;\">\n",
              "      <th></th>\n",
              "      <th>lunges</th>\n",
              "      <th>bites</th>\n",
              "      <th>zigzags</th>\n",
              "      <th>nest</th>\n",
              "      <th>spines</th>\n",
              "      <th>dnest</th>\n",
              "      <th>bout</th>\n",
              "    </tr>\n",
              "  </thead>\n",
              "  <tbody>\n",
              "    <tr>\n",
              "      <th>0</th>\n",
              "      <td>79,00</td>\n",
              "      <td>25,00</td>\n",
              "      <td>0,0</td>\n",
              "      <td>0,0</td>\n",
              "      <td>15,0</td>\n",
              "      <td>0,00</td>\n",
              "      <td>45,00</td>\n",
              "    </tr>\n",
              "    <tr>\n",
              "      <th>1</th>\n",
              "      <td>136,00</td>\n",
              "      <td>58,00</td>\n",
              "      <td>6,0</td>\n",
              "      <td>0,0</td>\n",
              "      <td>15,0</td>\n",
              "      <td>0,00</td>\n",
              "      <td>148,00</td>\n",
              "    </tr>\n",
              "    <tr>\n",
              "      <th>2</th>\n",
              "      <td>115,00</td>\n",
              "      <td>30,00</td>\n",
              "      <td>2,0</td>\n",
              "      <td>1,0</td>\n",
              "      <td>9,0</td>\n",
              "      <td>5,00</td>\n",
              "      <td>29,00</td>\n",
              "    </tr>\n",
              "    <tr>\n",
              "      <th>3</th>\n",
              "      <td>129,00</td>\n",
              "      <td>139,00</td>\n",
              "      <td>16,0</td>\n",
              "      <td>0,0</td>\n",
              "      <td>22,0</td>\n",
              "      <td>0,00</td>\n",
              "      <td>69,00</td>\n",
              "    </tr>\n",
              "    <tr>\n",
              "      <th>4</th>\n",
              "      <td>120,00</td>\n",
              "      <td>58,00</td>\n",
              "      <td>15,0</td>\n",
              "      <td>15,0</td>\n",
              "      <td>14,0</td>\n",
              "      <td>82,00</td>\n",
              "      <td>9,00</td>\n",
              "    </tr>\n",
              "  </tbody>\n",
              "</table>\n",
              "</div>"
            ],
            "text/plain": [
              "   lunges   bites zigzags  nest spines  dnest    bout\n",
              "0   79,00   25,00     0,0   0,0   15,0   0,00   45,00\n",
              "1  136,00   58,00     6,0   0,0   15,0   0,00  148,00\n",
              "2  115,00   30,00     2,0   1,0    9,0   5,00   29,00\n",
              "3  129,00  139,00    16,0   0,0   22,0   0,00   69,00\n",
              "4  120,00   58,00    15,0  15,0   14,0  82,00    9,00"
            ]
          },
          "execution_count": 5,
          "metadata": {},
          "output_type": "execute_result"
        }
      ],
      "source": [
        "df = pd.read_csv('D:\\data\\stickleback.csv', sep=';')\n",
        "df.columns = df.columns.str.lower()\n",
        "df = df.loc[:,:'bout']\n",
        "df.head()"
      ]
    },
    {
      "cell_type": "code",
      "execution_count": null,
      "id": "23b679c9",
      "metadata": {
        "id": "23b679c9",
        "outputId": "7986597e-2d01-4ad7-8cdb-9b779f154f1a"
      },
      "outputs": [
        {
          "name": "stdout",
          "output_type": "stream",
          "text": [
            "<class 'pandas.core.frame.DataFrame'>\n",
            "RangeIndex: 54 entries, 0 to 53\n",
            "Data columns (total 7 columns):\n",
            " #   Column   Non-Null Count  Dtype \n",
            "---  ------   --------------  ----- \n",
            " 0   lunges   54 non-null     object\n",
            " 1   bites    54 non-null     object\n",
            " 2   zigzags  54 non-null     object\n",
            " 3   nest     54 non-null     object\n",
            " 4   spines   54 non-null     object\n",
            " 5   dnest    54 non-null     object\n",
            " 6   bout     54 non-null     object\n",
            "dtypes: object(7)\n",
            "memory usage: 3.1+ KB\n"
          ]
        }
      ],
      "source": [
        "df.info()"
      ]
    },
    {
      "cell_type": "code",
      "execution_count": null,
      "id": "09c900b2",
      "metadata": {
        "id": "09c900b2"
      },
      "outputs": [],
      "source": [
        "for col in df.columns:\n",
        "    df[col] = df[col].str.replace(',', '.').astype(float)"
      ]
    },
    {
      "cell_type": "code",
      "execution_count": null,
      "id": "f03ef04c",
      "metadata": {
        "id": "f03ef04c",
        "outputId": "0954ca2f-cb4d-4fad-efca-a7fb64430dc0"
      },
      "outputs": [
        {
          "data": {
            "text/html": [
              "<div>\n",
              "<style scoped>\n",
              "    .dataframe tbody tr th:only-of-type {\n",
              "        vertical-align: middle;\n",
              "    }\n",
              "\n",
              "    .dataframe tbody tr th {\n",
              "        vertical-align: top;\n",
              "    }\n",
              "\n",
              "    .dataframe thead th {\n",
              "        text-align: right;\n",
              "    }\n",
              "</style>\n",
              "<table border=\"1\" class=\"dataframe\">\n",
              "  <thead>\n",
              "    <tr style=\"text-align: right;\">\n",
              "      <th></th>\n",
              "      <th>lunges</th>\n",
              "      <th>bites</th>\n",
              "      <th>zigzags</th>\n",
              "      <th>nest</th>\n",
              "      <th>spines</th>\n",
              "      <th>dnest</th>\n",
              "      <th>bout</th>\n",
              "    </tr>\n",
              "  </thead>\n",
              "  <tbody>\n",
              "    <tr>\n",
              "      <th>count</th>\n",
              "      <td>54.000000</td>\n",
              "      <td>54.000000</td>\n",
              "      <td>54.000000</td>\n",
              "      <td>54.000000</td>\n",
              "      <td>54.000000</td>\n",
              "      <td>54.000000</td>\n",
              "      <td>54.000000</td>\n",
              "    </tr>\n",
              "    <tr>\n",
              "      <th>mean</th>\n",
              "      <td>131.185185</td>\n",
              "      <td>69.055556</td>\n",
              "      <td>7.277778</td>\n",
              "      <td>1.425926</td>\n",
              "      <td>18.425926</td>\n",
              "      <td>34.259259</td>\n",
              "      <td>89.314815</td>\n",
              "    </tr>\n",
              "    <tr>\n",
              "      <th>std</th>\n",
              "      <td>50.771064</td>\n",
              "      <td>43.428283</td>\n",
              "      <td>6.693891</td>\n",
              "      <td>3.000641</td>\n",
              "      <td>8.712606</td>\n",
              "      <td>56.491170</td>\n",
              "      <td>98.679742</td>\n",
              "    </tr>\n",
              "    <tr>\n",
              "      <th>min</th>\n",
              "      <td>41.000000</td>\n",
              "      <td>3.000000</td>\n",
              "      <td>0.000000</td>\n",
              "      <td>0.000000</td>\n",
              "      <td>5.000000</td>\n",
              "      <td>0.000000</td>\n",
              "      <td>6.000000</td>\n",
              "    </tr>\n",
              "    <tr>\n",
              "      <th>25%</th>\n",
              "      <td>99.000000</td>\n",
              "      <td>34.250000</td>\n",
              "      <td>2.250000</td>\n",
              "      <td>0.000000</td>\n",
              "      <td>14.000000</td>\n",
              "      <td>0.000000</td>\n",
              "      <td>23.500000</td>\n",
              "    </tr>\n",
              "    <tr>\n",
              "      <th>50%</th>\n",
              "      <td>127.000000</td>\n",
              "      <td>60.000000</td>\n",
              "      <td>5.000000</td>\n",
              "      <td>0.000000</td>\n",
              "      <td>16.000000</td>\n",
              "      <td>0.000000</td>\n",
              "      <td>45.000000</td>\n",
              "    </tr>\n",
              "    <tr>\n",
              "      <th>75%</th>\n",
              "      <td>156.750000</td>\n",
              "      <td>84.250000</td>\n",
              "      <td>10.750000</td>\n",
              "      <td>1.000000</td>\n",
              "      <td>24.750000</td>\n",
              "      <td>73.000000</td>\n",
              "      <td>125.000000</td>\n",
              "    </tr>\n",
              "    <tr>\n",
              "      <th>max</th>\n",
              "      <td>277.000000</td>\n",
              "      <td>175.000000</td>\n",
              "      <td>26.000000</td>\n",
              "      <td>15.000000</td>\n",
              "      <td>46.000000</td>\n",
              "      <td>199.000000</td>\n",
              "      <td>306.000000</td>\n",
              "    </tr>\n",
              "  </tbody>\n",
              "</table>\n",
              "</div>"
            ],
            "text/plain": [
              "           lunges       bites    zigzags       nest     spines       dnest  \\\n",
              "count   54.000000   54.000000  54.000000  54.000000  54.000000   54.000000   \n",
              "mean   131.185185   69.055556   7.277778   1.425926  18.425926   34.259259   \n",
              "std     50.771064   43.428283   6.693891   3.000641   8.712606   56.491170   \n",
              "min     41.000000    3.000000   0.000000   0.000000   5.000000    0.000000   \n",
              "25%     99.000000   34.250000   2.250000   0.000000  14.000000    0.000000   \n",
              "50%    127.000000   60.000000   5.000000   0.000000  16.000000    0.000000   \n",
              "75%    156.750000   84.250000  10.750000   1.000000  24.750000   73.000000   \n",
              "max    277.000000  175.000000  26.000000  15.000000  46.000000  199.000000   \n",
              "\n",
              "             bout  \n",
              "count   54.000000  \n",
              "mean    89.314815  \n",
              "std     98.679742  \n",
              "min      6.000000  \n",
              "25%     23.500000  \n",
              "50%     45.000000  \n",
              "75%    125.000000  \n",
              "max    306.000000  "
            ]
          },
          "execution_count": 8,
          "metadata": {},
          "output_type": "execute_result"
        }
      ],
      "source": [
        "df.describe()"
      ]
    },
    {
      "cell_type": "markdown",
      "id": "ca22d78d",
      "metadata": {
        "id": "ca22d78d"
      },
      "source": [
        "В датасете нет пропущенных значений, оценки распределены от 3 до 9, наибольшей дисперсией обладает поле *total_sulfur_dioxide* (общее содержание диоксида серы)"
      ]
    },
    {
      "cell_type": "code",
      "execution_count": null,
      "id": "f592f995",
      "metadata": {
        "id": "f592f995",
        "outputId": "4f0fcdaf-b857-4222-b640-64e3aa3dc9ed"
      },
      "outputs": [
        {
          "data": {
            "text/html": [
              "<div>\n",
              "<style scoped>\n",
              "    .dataframe tbody tr th:only-of-type {\n",
              "        vertical-align: middle;\n",
              "    }\n",
              "\n",
              "    .dataframe tbody tr th {\n",
              "        vertical-align: top;\n",
              "    }\n",
              "\n",
              "    .dataframe thead th {\n",
              "        text-align: right;\n",
              "    }\n",
              "</style>\n",
              "<table border=\"1\" class=\"dataframe\">\n",
              "  <thead>\n",
              "    <tr style=\"text-align: right;\">\n",
              "      <th></th>\n",
              "      <th>lunges</th>\n",
              "      <th>bites</th>\n",
              "      <th>zigzags</th>\n",
              "      <th>nest</th>\n",
              "      <th>spines</th>\n",
              "      <th>dnest</th>\n",
              "      <th>bout</th>\n",
              "    </tr>\n",
              "  </thead>\n",
              "  <tbody>\n",
              "    <tr>\n",
              "      <th>lunges</th>\n",
              "      <td>1.000000</td>\n",
              "      <td>0.688077</td>\n",
              "      <td>-0.139336</td>\n",
              "      <td>-0.164133</td>\n",
              "      <td>0.055567</td>\n",
              "      <td>-0.228568</td>\n",
              "      <td>0.233314</td>\n",
              "    </tr>\n",
              "    <tr>\n",
              "      <th>bites</th>\n",
              "      <td>0.688077</td>\n",
              "      <td>1.000000</td>\n",
              "      <td>-0.042761</td>\n",
              "      <td>-0.148884</td>\n",
              "      <td>0.373382</td>\n",
              "      <td>-0.217563</td>\n",
              "      <td>0.117316</td>\n",
              "    </tr>\n",
              "    <tr>\n",
              "      <th>zigzags</th>\n",
              "      <td>-0.139336</td>\n",
              "      <td>-0.042761</td>\n",
              "      <td>1.000000</td>\n",
              "      <td>0.351894</td>\n",
              "      <td>0.067813</td>\n",
              "      <td>0.091315</td>\n",
              "      <td>-0.160693</td>\n",
              "    </tr>\n",
              "    <tr>\n",
              "      <th>nest</th>\n",
              "      <td>-0.164133</td>\n",
              "      <td>-0.148884</td>\n",
              "      <td>0.351894</td>\n",
              "      <td>1.000000</td>\n",
              "      <td>-0.052538</td>\n",
              "      <td>0.514028</td>\n",
              "      <td>-0.305876</td>\n",
              "    </tr>\n",
              "    <tr>\n",
              "      <th>spines</th>\n",
              "      <td>0.055567</td>\n",
              "      <td>0.373382</td>\n",
              "      <td>0.067813</td>\n",
              "      <td>-0.052538</td>\n",
              "      <td>1.000000</td>\n",
              "      <td>-0.051099</td>\n",
              "      <td>-0.041483</td>\n",
              "    </tr>\n",
              "    <tr>\n",
              "      <th>dnest</th>\n",
              "      <td>-0.228568</td>\n",
              "      <td>-0.217563</td>\n",
              "      <td>0.091315</td>\n",
              "      <td>0.514028</td>\n",
              "      <td>-0.051099</td>\n",
              "      <td>1.000000</td>\n",
              "      <td>-0.242177</td>\n",
              "    </tr>\n",
              "    <tr>\n",
              "      <th>bout</th>\n",
              "      <td>0.233314</td>\n",
              "      <td>0.117316</td>\n",
              "      <td>-0.160693</td>\n",
              "      <td>-0.305876</td>\n",
              "      <td>-0.041483</td>\n",
              "      <td>-0.242177</td>\n",
              "      <td>1.000000</td>\n",
              "    </tr>\n",
              "  </tbody>\n",
              "</table>\n",
              "</div>"
            ],
            "text/plain": [
              "           lunges     bites   zigzags      nest    spines     dnest      bout\n",
              "lunges   1.000000  0.688077 -0.139336 -0.164133  0.055567 -0.228568  0.233314\n",
              "bites    0.688077  1.000000 -0.042761 -0.148884  0.373382 -0.217563  0.117316\n",
              "zigzags -0.139336 -0.042761  1.000000  0.351894  0.067813  0.091315 -0.160693\n",
              "nest    -0.164133 -0.148884  0.351894  1.000000 -0.052538  0.514028 -0.305876\n",
              "spines   0.055567  0.373382  0.067813 -0.052538  1.000000 -0.051099 -0.041483\n",
              "dnest   -0.228568 -0.217563  0.091315  0.514028 -0.051099  1.000000 -0.242177\n",
              "bout     0.233314  0.117316 -0.160693 -0.305876 -0.041483 -0.242177  1.000000"
            ]
          },
          "execution_count": 9,
          "metadata": {},
          "output_type": "execute_result"
        }
      ],
      "source": [
        "df.corr()"
      ]
    },
    {
      "cell_type": "code",
      "execution_count": null,
      "id": "bdf7834c",
      "metadata": {
        "id": "bdf7834c",
        "outputId": "939aabf7-4f46-44c0-e48a-e292c49ee948"
      },
      "outputs": [
        {
          "data": {
            "image/png": "[encoded data removed]",
            "text/plain": [
              "<Figure size 640x480 with 2 Axes>"
            ]
          },
          "metadata": {},
          "output_type": "display_data"
        }
      ],
      "source": [
        "sns.heatmap(data=df.corr());"
      ]
    },
    {
      "cell_type": "code",
      "execution_count": null,
      "id": "59da6590",
      "metadata": {
        "id": "59da6590",
        "outputId": "b4ce4164-53cd-4f35-b79f-b4b2511feb5d"
      },
      "outputs": [
        {
          "data": {
            "image/png": "[encoded data removed]",
            "text/plain": [
              "<Figure size 640x480 with 49 Axes>"
            ]
          },
          "metadata": {},
          "output_type": "display_data"
        }
      ],
      "source": [
        "pd.plotting.scatter_matrix(df)\n",
        "plt.show()"
      ]
    },
    {
      "cell_type": "markdown",
      "id": "47aeed13",
      "metadata": {
        "id": "47aeed13"
      },
      "source": [
        "Распределение погружения, укуса близки к нормальному\n",
        "\n",
        "Погружение и укус коррелируют"
      ]
    },
    {
      "cell_type": "code",
      "execution_count": null,
      "id": "2b684936",
      "metadata": {
        "id": "2b684936",
        "outputId": "9711754a-84e0-4159-eddc-d56e1fe8cdf5"
      },
      "outputs": [
        {
          "data": {
            "text/plain": [
              "(78.65570932525837, 1.3528985212723955e-08)"
            ]
          },
          "execution_count": 12,
          "metadata": {},
          "output_type": "execute_result"
        }
      ],
      "source": [
        "fa.factor_analyzer.calculate_bartlett_sphericity(df)"
      ]
    },
    {
      "cell_type": "markdown",
      "id": "d2aea7ab",
      "metadata": {
        "id": "d2aea7ab"
      },
      "source": [
        "Корреляционная матрица отличается от единичной, факторый анализ можно проводить"
      ]
    },
    {
      "cell_type": "code",
      "execution_count": null,
      "id": "8622b9a0",
      "metadata": {
        "id": "8622b9a0",
        "outputId": "f852a06f-010b-4949-d634-67becbfdf597"
      },
      "outputs": [
        {
          "data": {
            "text/plain": [
              "(array([0.5045225 , 0.49499775, 0.54613696, 0.5818407 , 0.3460975 ,\n",
              "        0.62519322, 0.76803628]),\n",
              " 0.5360904829300582)"
            ]
          },
          "execution_count": 13,
          "metadata": {},
          "output_type": "execute_result"
        }
      ],
      "source": [
        "fa.factor_analyzer.calculate_kmo(df)"
      ]
    },
    {
      "cell_type": "markdown",
      "id": "420657b7",
      "metadata": {
        "id": "420657b7"
      },
      "source": [
        "Значение меры адекватности > 0.5, значит можно проводить факторный анализ"
      ]
    },
    {
      "cell_type": "code",
      "execution_count": null,
      "id": "472028d4",
      "metadata": {
        "id": "472028d4"
      },
      "outputs": [],
      "source": [
        "scaled_data = scale(df.values)"
      ]
    },
    {
      "cell_type": "code",
      "execution_count": null,
      "id": "1859ec67",
      "metadata": {
        "id": "1859ec67",
        "outputId": "28de5fb1-9924-4ea8-85be-793e6a86dffb"
      },
      "outputs": [
        {
          "data": {
            "text/plain": [
              "array([2.33131423, 1.48167964, 0.99758804, 0.90279779, 0.76745194,\n",
              "       0.41244602, 0.2387978 ])"
            ]
          },
          "execution_count": 15,
          "metadata": {},
          "output_type": "execute_result"
        }
      ],
      "source": [
        "pca = PCA(n_components=7)\n",
        "pca.fit(scaled_data)\n",
        "pca.explained_variance_"
      ]
    },
    {
      "cell_type": "markdown",
      "id": "9647c001",
      "metadata": {
        "id": "9647c001"
      },
      "source": [
        "Согласно критерию Кайзера, отбраются факторы с собственными значениям > 1. Значит, будет отобрано 2 фактора"
      ]
    },
    {
      "cell_type": "code",
      "execution_count": null,
      "id": "494b31c2",
      "metadata": {
        "id": "494b31c2",
        "outputId": "ecccea1b-dd38-4fec-9e4e-8ff5f0271770"
      },
      "outputs": [
        {
          "data": {
            "text/plain": [
              "array([0.32687739, 0.20774873, 0.13987346, 0.12658276, 0.1076057 ,\n",
              "       0.05782973, 0.03348223])"
            ]
          },
          "execution_count": 16,
          "metadata": {},
          "output_type": "execute_result"
        }
      ],
      "source": [
        "pca.explained_variance_ratio_"
      ]
    },
    {
      "cell_type": "markdown",
      "id": "fd661cc2",
      "metadata": {
        "id": "fd661cc2"
      },
      "source": [
        "Если взять пороговое значение объяснённой дисперсии 0.1, то будет отобрано 5 факторов, если 0.2, то 2 фактора"
      ]
    },
    {
      "cell_type": "markdown",
      "id": "287db87d",
      "metadata": {
        "id": "287db87d"
      },
      "source": [
        "Предполагается, что будет отобрано 2-3 фактора"
      ]
    },
    {
      "cell_type": "code",
      "execution_count": null,
      "id": "740954fb",
      "metadata": {
        "id": "740954fb",
        "outputId": "0ebf50b1-3987-4fa9-dc58-94d1e4fd8cd6"
      },
      "outputs": [
        {
          "data": {
            "text/plain": [
              "FactorAnalyzer(rotation_kwargs={})"
            ]
          },
          "execution_count": 17,
          "metadata": {},
          "output_type": "execute_result"
        }
      ],
      "source": [
        "factor_analyzer = fa.FactorAnalyzer()\n",
        "factor_analyzer.fit(scaled_data)"
      ]
    },
    {
      "cell_type": "code",
      "execution_count": null,
      "id": "20943f95",
      "metadata": {
        "id": "20943f95",
        "outputId": "dadd61e0-8a62-426b-b532-4a10112787e4"
      },
      "outputs": [
        {
          "data": {
            "text/plain": [
              "(array([2.28814174, 1.45424113, 0.97911419, 0.88607931, 0.75323987,\n",
              "        0.40480813, 0.23437562]),\n",
              " array([ 2.0760796 ,  1.28986187,  0.49059726,  0.10602069,  0.02855961,\n",
              "        -0.04025658, -0.10823207]))"
            ]
          },
          "execution_count": 18,
          "metadata": {},
          "output_type": "execute_result"
        }
      ],
      "source": [
        "eigenvalues = factor_analyzer.get_eigenvalues()\n",
        "eigenvalues"
      ]
    },
    {
      "cell_type": "code",
      "execution_count": null,
      "id": "72f4c6d4",
      "metadata": {
        "id": "72f4c6d4",
        "outputId": "6e08ad0c-93eb-48a6-9817-f846b0a0bbf9"
      },
      "outputs": [
        {
          "data": {
            "image/png": "[encoded data removed]",
            "text/plain": [
              "<Figure size 640x480 with 1 Axes>"
            ]
          },
          "metadata": {},
          "output_type": "display_data"
        }
      ],
      "source": [
        "plt.plot(range(1, scaled_data.shape[1] + 1), eigenvalues[0], 'o-')\n",
        "plt.plot(range(1, scaled_data.shape[1] + 1), eigenvalues[1], 'ro--')\n",
        "plt.title('Scree Plot')\n",
        "plt.xlabel('Factors')\n",
        "plt.ylabel('Eigenvalue')\n",
        "plt.grid()\n",
        "plt.legend(['Original','Common factor'])\n",
        "plt.show()"
      ]
    },
    {
      "cell_type": "markdown",
      "id": "6c9bdaae",
      "metadata": {
        "id": "6c9bdaae"
      },
      "source": [
        " Будет отобрано 2 фактора"
      ]
    },
    {
      "cell_type": "code",
      "execution_count": null,
      "id": "94019899",
      "metadata": {
        "id": "94019899",
        "outputId": "4e7c8ae6-a308-43e1-abf3-b9d2739009d7"
      },
      "outputs": [
        {
          "data": {
            "text/plain": [
              "FactorAnalyzer(n_factors=2, rotation='varimax', rotation_kwargs={})"
            ]
          },
          "execution_count": 20,
          "metadata": {},
          "output_type": "execute_result"
        }
      ],
      "source": [
        "factor_analyzer.set_params(n_factors=2, rotation='varimax')\n",
        "factor_analyzer.fit(scaled_data)"
      ]
    },
    {
      "cell_type": "code",
      "execution_count": null,
      "id": "509dd876",
      "metadata": {
        "id": "509dd876",
        "outputId": "3467219b-dac1-4b81-c108-3fcede92c97f"
      },
      "outputs": [
        {
          "data": {
            "text/html": [
              "<div>\n",
              "<style scoped>\n",
              "    .dataframe tbody tr th:only-of-type {\n",
              "        vertical-align: middle;\n",
              "    }\n",
              "\n",
              "    .dataframe tbody tr th {\n",
              "        vertical-align: top;\n",
              "    }\n",
              "\n",
              "    .dataframe thead th {\n",
              "        text-align: right;\n",
              "    }\n",
              "</style>\n",
              "<table border=\"1\" class=\"dataframe\">\n",
              "  <thead>\n",
              "    <tr style=\"text-align: right;\">\n",
              "      <th></th>\n",
              "      <th>factor1</th>\n",
              "      <th>factor2</th>\n",
              "    </tr>\n",
              "  </thead>\n",
              "  <tbody>\n",
              "    <tr>\n",
              "      <th>lunges</th>\n",
              "      <td>0.623123</td>\n",
              "      <td>-0.242540</td>\n",
              "    </tr>\n",
              "    <tr>\n",
              "      <th>bites</th>\n",
              "      <td>1.007741</td>\n",
              "      <td>-0.128163</td>\n",
              "    </tr>\n",
              "    <tr>\n",
              "      <th>zigzags</th>\n",
              "      <td>0.000196</td>\n",
              "      <td>0.355506</td>\n",
              "    </tr>\n",
              "    <tr>\n",
              "      <th>nest</th>\n",
              "      <td>-0.015454</td>\n",
              "      <td>0.894196</td>\n",
              "    </tr>\n",
              "    <tr>\n",
              "      <th>spines</th>\n",
              "      <td>0.294315</td>\n",
              "      <td>0.018574</td>\n",
              "    </tr>\n",
              "    <tr>\n",
              "      <th>dnest</th>\n",
              "      <td>-0.155512</td>\n",
              "      <td>0.536576</td>\n",
              "    </tr>\n",
              "    <tr>\n",
              "      <th>bout</th>\n",
              "      <td>0.099458</td>\n",
              "      <td>-0.384636</td>\n",
              "    </tr>\n",
              "  </tbody>\n",
              "</table>\n",
              "</div>"
            ],
            "text/plain": [
              "          factor1   factor2\n",
              "lunges   0.623123 -0.242540\n",
              "bites    1.007741 -0.128163\n",
              "zigzags  0.000196  0.355506\n",
              "nest    -0.015454  0.894196\n",
              "spines   0.294315  0.018574\n",
              "dnest   -0.155512  0.536576\n",
              "bout     0.099458 -0.384636"
            ]
          },
          "execution_count": 21,
          "metadata": {},
          "output_type": "execute_result"
        }
      ],
      "source": [
        "factor_structure = pd.DataFrame(factor_analyzer.loadings_, columns=['factor1', 'factor2'], index=df.columns)\n",
        "factor_structure"
      ]
    },
    {
      "cell_type": "code",
      "execution_count": null,
      "id": "ce772e8c",
      "metadata": {
        "id": "ce772e8c",
        "outputId": "cd89efd8-961a-4ec6-c171-8ea819f80d45"
      },
      "outputs": [
        {
          "data": {
            "text/plain": [
              "FactorAnalyzer(rotation='varimax', rotation_kwargs={})"
            ]
          },
          "execution_count": 22,
          "metadata": {},
          "output_type": "execute_result"
        }
      ],
      "source": [
        "factor_analyzer.set_params(n_factors=3, rotation='varimax')\n",
        "factor_analyzer.fit(scaled_data)"
      ]
    },
    {
      "cell_type": "code",
      "execution_count": null,
      "id": "93aca93e",
      "metadata": {
        "id": "93aca93e",
        "outputId": "7a361910-430b-4543-cd10-da1ee94b024c"
      },
      "outputs": [
        {
          "data": {
            "text/html": [
              "<div>\n",
              "<style scoped>\n",
              "    .dataframe tbody tr th:only-of-type {\n",
              "        vertical-align: middle;\n",
              "    }\n",
              "\n",
              "    .dataframe tbody tr th {\n",
              "        vertical-align: top;\n",
              "    }\n",
              "\n",
              "    .dataframe thead th {\n",
              "        text-align: right;\n",
              "    }\n",
              "</style>\n",
              "<table border=\"1\" class=\"dataframe\">\n",
              "  <thead>\n",
              "    <tr style=\"text-align: right;\">\n",
              "      <th></th>\n",
              "      <th>factor1</th>\n",
              "      <th>factor2</th>\n",
              "      <th>factor3</th>\n",
              "    </tr>\n",
              "  </thead>\n",
              "  <tbody>\n",
              "    <tr>\n",
              "      <th>lunges</th>\n",
              "      <td>-0.213815</td>\n",
              "      <td>0.876088</td>\n",
              "      <td>0.022384</td>\n",
              "    </tr>\n",
              "    <tr>\n",
              "      <th>bites</th>\n",
              "      <td>-0.110001</td>\n",
              "      <td>0.742419</td>\n",
              "      <td>0.588652</td>\n",
              "    </tr>\n",
              "    <tr>\n",
              "      <th>zigzags</th>\n",
              "      <td>0.342123</td>\n",
              "      <td>-0.076383</td>\n",
              "      <td>0.107402</td>\n",
              "    </tr>\n",
              "    <tr>\n",
              "      <th>nest</th>\n",
              "      <td>0.989281</td>\n",
              "      <td>0.058242</td>\n",
              "      <td>-0.141253</td>\n",
              "    </tr>\n",
              "    <tr>\n",
              "      <th>spines</th>\n",
              "      <td>0.025750</td>\n",
              "      <td>0.057196</td>\n",
              "      <td>0.564226</td>\n",
              "    </tr>\n",
              "    <tr>\n",
              "      <th>dnest</th>\n",
              "      <td>0.501341</td>\n",
              "      <td>-0.134760</td>\n",
              "      <td>-0.111540</td>\n",
              "    </tr>\n",
              "    <tr>\n",
              "      <th>bout</th>\n",
              "      <td>-0.359746</td>\n",
              "      <td>0.185878</td>\n",
              "      <td>-0.089865</td>\n",
              "    </tr>\n",
              "  </tbody>\n",
              "</table>\n",
              "</div>"
            ],
            "text/plain": [
              "          factor1   factor2   factor3\n",
              "lunges  -0.213815  0.876088  0.022384\n",
              "bites   -0.110001  0.742419  0.588652\n",
              "zigzags  0.342123 -0.076383  0.107402\n",
              "nest     0.989281  0.058242 -0.141253\n",
              "spines   0.025750  0.057196  0.564226\n",
              "dnest    0.501341 -0.134760 -0.111540\n",
              "bout    -0.359746  0.185878 -0.089865"
            ]
          },
          "execution_count": 23,
          "metadata": {},
          "output_type": "execute_result"
        }
      ],
      "source": [
        "factor_structure = pd.DataFrame(factor_analyzer.loadings_, columns=['factor1', 'factor2', 'factor3'], index=df.columns)\n",
        "factor_structure"
      ]
    },
    {
      "cell_type": "markdown",
      "id": "54ecef83",
      "metadata": {
        "id": "54ecef83"
      },
      "source": [
        "Отберём 2 фактора, назозовём их:\n",
        "* Погружаемость\n",
        "* Гнездование"
      ]
    },
    {
      "cell_type": "code",
      "execution_count": null,
      "id": "7a8641d7",
      "metadata": {
        "id": "7a8641d7",
        "outputId": "69b329aa-51e7-4478-ce45-379202fa3da5"
      },
      "outputs": [
        {
          "data": {
            "text/plain": [
              "FactorAnalyzer(rotation='varimax', rotation_kwargs={})"
            ]
          },
          "execution_count": 29,
          "metadata": {},
          "output_type": "execute_result"
        }
      ],
      "source": [
        "factor_analyzer.set_params(n_factors=3, rotation='varimax')\n",
        "factor_analyzer.fit(scaled_data)"
      ]
    },
    {
      "cell_type": "code",
      "execution_count": null,
      "id": "7f021091",
      "metadata": {
        "id": "7f021091",
        "outputId": "2c215a2b-e71a-423a-e559-22ef94d59da5"
      },
      "outputs": [
        {
          "data": {
            "text/plain": [
              "array([0.81374772, 0.90979693, 0.13441784, 1.00202059, 0.32228549,\n",
              "       0.28194415, 0.1720437 ])"
            ]
          },
          "execution_count": 30,
          "metadata": {},
          "output_type": "execute_result"
        }
      ],
      "source": [
        "factor_analyzer.get_communalities()"
      ]
    },
    {
      "cell_type": "code",
      "execution_count": null,
      "id": "8b52e810",
      "metadata": {
        "id": "8b52e810",
        "outputId": "73187d49-cf1e-4eaf-c525-abfbc6c0cf01"
      },
      "outputs": [
        {
          "data": {
            "text/plain": [
              "array([ 0.18625228,  0.09020307,  0.86558216, -0.00202059,  0.67771451,\n",
              "        0.71805585,  0.8279563 ])"
            ]
          },
          "execution_count": 31,
          "metadata": {},
          "output_type": "execute_result"
        }
      ],
      "source": [
        "factor_analyzer.get_uniquenesses()"
      ]
    },
    {
      "cell_type": "code",
      "execution_count": null,
      "id": "fd37d376",
      "metadata": {
        "id": "fd37d376",
        "outputId": "ae1e57f4-abe4-41af-8f75-ce978a49a066"
      },
      "outputs": [
        {
          "data": {
            "text/html": [
              "<div>\n",
              "<style scoped>\n",
              "    .dataframe tbody tr th:only-of-type {\n",
              "        vertical-align: middle;\n",
              "    }\n",
              "\n",
              "    .dataframe tbody tr th {\n",
              "        vertical-align: top;\n",
              "    }\n",
              "\n",
              "    .dataframe thead th {\n",
              "        text-align: right;\n",
              "    }\n",
              "</style>\n",
              "<table border=\"1\" class=\"dataframe\">\n",
              "  <thead>\n",
              "    <tr style=\"text-align: right;\">\n",
              "      <th></th>\n",
              "      <th>factor1</th>\n",
              "      <th>factor2</th>\n",
              "      <th>factor3</th>\n",
              "      <th>proportion_var</th>\n",
              "      <th>cumulative_var</th>\n",
              "    </tr>\n",
              "  </thead>\n",
              "  <tbody>\n",
              "    <tr>\n",
              "      <th>lunges</th>\n",
              "      <td>-0.213815</td>\n",
              "      <td>0.876088</td>\n",
              "      <td>0.022384</td>\n",
              "      <td>0.813748</td>\n",
              "      <td>0.813748</td>\n",
              "    </tr>\n",
              "    <tr>\n",
              "      <th>bites</th>\n",
              "      <td>-0.110001</td>\n",
              "      <td>0.742419</td>\n",
              "      <td>0.588652</td>\n",
              "      <td>0.909797</td>\n",
              "      <td>0.909797</td>\n",
              "    </tr>\n",
              "    <tr>\n",
              "      <th>zigzags</th>\n",
              "      <td>0.342123</td>\n",
              "      <td>-0.076383</td>\n",
              "      <td>0.107402</td>\n",
              "      <td>0.134418</td>\n",
              "      <td>0.134418</td>\n",
              "    </tr>\n",
              "    <tr>\n",
              "      <th>nest</th>\n",
              "      <td>0.989281</td>\n",
              "      <td>0.058242</td>\n",
              "      <td>-0.141253</td>\n",
              "      <td>1.002021</td>\n",
              "      <td>1.002021</td>\n",
              "    </tr>\n",
              "    <tr>\n",
              "      <th>spines</th>\n",
              "      <td>0.025750</td>\n",
              "      <td>0.057196</td>\n",
              "      <td>0.564226</td>\n",
              "      <td>0.322285</td>\n",
              "      <td>0.322285</td>\n",
              "    </tr>\n",
              "    <tr>\n",
              "      <th>dnest</th>\n",
              "      <td>0.501341</td>\n",
              "      <td>-0.134760</td>\n",
              "      <td>-0.111540</td>\n",
              "      <td>0.281944</td>\n",
              "      <td>0.281944</td>\n",
              "    </tr>\n",
              "    <tr>\n",
              "      <th>bout</th>\n",
              "      <td>-0.359746</td>\n",
              "      <td>0.185878</td>\n",
              "      <td>-0.089865</td>\n",
              "      <td>0.172044</td>\n",
              "      <td>0.172044</td>\n",
              "    </tr>\n",
              "  </tbody>\n",
              "</table>\n",
              "</div>"
            ],
            "text/plain": [
              "          factor1   factor2   factor3  proportion_var  cumulative_var\n",
              "lunges  -0.213815  0.876088  0.022384        0.813748        0.813748\n",
              "bites   -0.110001  0.742419  0.588652        0.909797        0.909797\n",
              "zigzags  0.342123 -0.076383  0.107402        0.134418        0.134418\n",
              "nest     0.989281  0.058242 -0.141253        1.002021        1.002021\n",
              "spines   0.025750  0.057196  0.564226        0.322285        0.322285\n",
              "dnest    0.501341 -0.134760 -0.111540        0.281944        0.281944\n",
              "bout    -0.359746  0.185878 -0.089865        0.172044        0.172044"
            ]
          },
          "execution_count": 32,
          "metadata": {},
          "output_type": "execute_result"
        }
      ],
      "source": [
        "factor_structure['proportion_var'] = factor_analyzer.get_communalities()\n",
        "factor_structure['cumulative_var'] = factor_analyzer.get_communalities()\n",
        "factor_structure"
      ]
    },
    {
      "cell_type": "code",
      "execution_count": null,
      "id": "7aeede2d",
      "metadata": {
        "id": "7aeede2d",
        "outputId": "20e80fb5-b4ba-4c88-9fee-3eef4ea888e9"
      },
      "outputs": [
        {
          "data": {
            "text/html": [
              "<div>\n",
              "<style scoped>\n",
              "    .dataframe tbody tr th:only-of-type {\n",
              "        vertical-align: middle;\n",
              "    }\n",
              "\n",
              "    .dataframe tbody tr th {\n",
              "        vertical-align: top;\n",
              "    }\n",
              "\n",
              "    .dataframe thead th {\n",
              "        text-align: right;\n",
              "    }\n",
              "</style>\n",
              "<table border=\"1\" class=\"dataframe\">\n",
              "  <thead>\n",
              "    <tr style=\"text-align: right;\">\n",
              "      <th></th>\n",
              "      <th>factor1</th>\n",
              "      <th>factor2</th>\n",
              "    </tr>\n",
              "  </thead>\n",
              "  <tbody>\n",
              "    <tr>\n",
              "      <th>factor1</th>\n",
              "      <td>1.000000</td>\n",
              "      <td>-0.577922</td>\n",
              "    </tr>\n",
              "    <tr>\n",
              "      <th>factor2</th>\n",
              "      <td>-0.577922</td>\n",
              "      <td>1.000000</td>\n",
              "    </tr>\n",
              "  </tbody>\n",
              "</table>\n",
              "</div>"
            ],
            "text/plain": [
              "          factor1   factor2\n",
              "factor1  1.000000 -0.577922\n",
              "factor2 -0.577922  1.000000"
            ]
          },
          "execution_count": 34,
          "metadata": {},
          "output_type": "execute_result"
        }
      ],
      "source": [
        "factor_structure[['factor1', 'factor2']].corr()"
      ]
    }
  ],
  "metadata": {
    "kernelspec": {
      "display_name": "Python 3 (ipykernel)",
      "language": "python",
      "name": "python3"
    },
    "language_info": {
      "codemirror_mode": {
        "name": "ipython",
        "version": 3
      },
      "file_extension": ".py",
      "mimetype": "text/x-python",
      "name": "python",
      "nbconvert_exporter": "python",
      "pygments_lexer": "ipython3",
      "version": "3.9.13"
    },
    "colab": {
      "provenance": []
    }
  },
  "nbformat": 4,
  "nbformat_minor": 5
}