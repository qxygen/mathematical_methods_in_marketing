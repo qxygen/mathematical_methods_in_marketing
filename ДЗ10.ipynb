{
  "cells": [
    {
      "cell_type": "markdown",
      "id": "807baddd",
      "metadata": {
        "id": "807baddd"
      },
      "source": [
        "# Задание 10. Линейные модели для регрессии"
      ]
    },
    {
      "cell_type": "code",
      "execution_count": null,
      "id": "8d2a4873",
      "metadata": {
        "id": "8d2a4873"
      },
      "outputs": [],
      "source": [
        "import numpy as np\n",
        "import pandas as pd\n",
        "import matplotlib.pyplot as plt\n",
        "import seaborn as sns\n",
        "from sklearn.linear_model import LinearRegression, Ridge, Lasso, ElasticNet\n",
        "from sklearn.neighbors import KNeighborsRegressor\n",
        "from sklearn.tree import DecisionTreeRegressor\n",
        "from sklearn.svm import SVR\n",
        "from sklearn.model_selection import train_test_split, KFold, cross_val_score"
      ]
    },
    {
      "cell_type": "code",
      "execution_count": null,
      "id": "34290c3b",
      "metadata": {
        "id": "34290c3b",
        "outputId": "249d9312-4cbf-4c32-f470-6a13fd7f6c1f"
      },
      "outputs": [
        {
          "data": {
            "text/html": [
              "<div>\n",
              "<style scoped>\n",
              "    .dataframe tbody tr th:only-of-type {\n",
              "        vertical-align: middle;\n",
              "    }\n",
              "\n",
              "    .dataframe tbody tr th {\n",
              "        vertical-align: top;\n",
              "    }\n",
              "\n",
              "    .dataframe thead th {\n",
              "        text-align: right;\n",
              "    }\n",
              "</style>\n",
              "<table border=\"1\" class=\"dataframe\">\n",
              "  <thead>\n",
              "    <tr style=\"text-align: right;\">\n",
              "      <th></th>\n",
              "      <th>color</th>\n",
              "      <th>fixed_acidity</th>\n",
              "      <th>volatile_acidity</th>\n",
              "      <th>citric_acid</th>\n",
              "      <th>residual_sugar</th>\n",
              "      <th>chlorides</th>\n",
              "      <th>free_sulfur_dioxide</th>\n",
              "      <th>total_sulfur_dioxide</th>\n",
              "      <th>density</th>\n",
              "      <th>pH</th>\n",
              "      <th>sulphates</th>\n",
              "      <th>alcohol</th>\n",
              "      <th>quality</th>\n",
              "    </tr>\n",
              "  </thead>\n",
              "  <tbody>\n",
              "    <tr>\n",
              "      <th>0</th>\n",
              "      <td>0</td>\n",
              "      <td>7.0</td>\n",
              "      <td>0.27</td>\n",
              "      <td>0.36</td>\n",
              "      <td>20.7</td>\n",
              "      <td>0.045</td>\n",
              "      <td>45.0</td>\n",
              "      <td>170.0</td>\n",
              "      <td>1.0010</td>\n",
              "      <td>3.00</td>\n",
              "      <td>0.45</td>\n",
              "      <td>8.8</td>\n",
              "      <td>6</td>\n",
              "    </tr>\n",
              "    <tr>\n",
              "      <th>1</th>\n",
              "      <td>0</td>\n",
              "      <td>6.3</td>\n",
              "      <td>0.30</td>\n",
              "      <td>0.34</td>\n",
              "      <td>1.6</td>\n",
              "      <td>0.049</td>\n",
              "      <td>14.0</td>\n",
              "      <td>132.0</td>\n",
              "      <td>0.9940</td>\n",
              "      <td>3.30</td>\n",
              "      <td>0.49</td>\n",
              "      <td>9.5</td>\n",
              "      <td>6</td>\n",
              "    </tr>\n",
              "    <tr>\n",
              "      <th>2</th>\n",
              "      <td>0</td>\n",
              "      <td>8.1</td>\n",
              "      <td>0.28</td>\n",
              "      <td>0.40</td>\n",
              "      <td>6.9</td>\n",
              "      <td>0.050</td>\n",
              "      <td>30.0</td>\n",
              "      <td>97.0</td>\n",
              "      <td>0.9951</td>\n",
              "      <td>3.26</td>\n",
              "      <td>0.44</td>\n",
              "      <td>10.1</td>\n",
              "      <td>6</td>\n",
              "    </tr>\n",
              "    <tr>\n",
              "      <th>3</th>\n",
              "      <td>0</td>\n",
              "      <td>7.2</td>\n",
              "      <td>0.23</td>\n",
              "      <td>0.32</td>\n",
              "      <td>8.5</td>\n",
              "      <td>0.058</td>\n",
              "      <td>47.0</td>\n",
              "      <td>186.0</td>\n",
              "      <td>0.9956</td>\n",
              "      <td>3.19</td>\n",
              "      <td>0.40</td>\n",
              "      <td>9.9</td>\n",
              "      <td>6</td>\n",
              "    </tr>\n",
              "    <tr>\n",
              "      <th>4</th>\n",
              "      <td>0</td>\n",
              "      <td>7.2</td>\n",
              "      <td>0.23</td>\n",
              "      <td>0.32</td>\n",
              "      <td>8.5</td>\n",
              "      <td>0.058</td>\n",
              "      <td>47.0</td>\n",
              "      <td>186.0</td>\n",
              "      <td>0.9956</td>\n",
              "      <td>3.19</td>\n",
              "      <td>0.40</td>\n",
              "      <td>9.9</td>\n",
              "      <td>6</td>\n",
              "    </tr>\n",
              "  </tbody>\n",
              "</table>\n",
              "</div>"
            ],
            "text/plain": [
              "   color  fixed_acidity  volatile_acidity  citric_acid  residual_sugar  \\\n",
              "0      0            7.0              0.27         0.36            20.7   \n",
              "1      0            6.3              0.30         0.34             1.6   \n",
              "2      0            8.1              0.28         0.40             6.9   \n",
              "3      0            7.2              0.23         0.32             8.5   \n",
              "4      0            7.2              0.23         0.32             8.5   \n",
              "\n",
              "   chlorides  free_sulfur_dioxide  total_sulfur_dioxide  density    pH  \\\n",
              "0      0.045                 45.0                 170.0   1.0010  3.00   \n",
              "1      0.049                 14.0                 132.0   0.9940  3.30   \n",
              "2      0.050                 30.0                  97.0   0.9951  3.26   \n",
              "3      0.058                 47.0                 186.0   0.9956  3.19   \n",
              "4      0.058                 47.0                 186.0   0.9956  3.19   \n",
              "\n",
              "   sulphates  alcohol  quality  \n",
              "0       0.45      8.8        6  \n",
              "1       0.49      9.5        6  \n",
              "2       0.44     10.1        6  \n",
              "3       0.40      9.9        6  \n",
              "4       0.40      9.9        6  "
            ]
          },
          "execution_count": 2,
          "metadata": {},
          "output_type": "execute_result"
        }
      ],
      "source": [
        "df_w = pd.read_csv(\"D:\\data\\winequality-white.csv\", sep=\";\")\n",
        "df_w.insert(0, 'color', 0)\n",
        "df_w.columns = df_w.columns.str.replace(\" \", \"_\")\n",
        "\n",
        "df_r = pd.read_csv(\"D:\\data\\winequality-red.csv\", sep=\";\")\n",
        "df_r.insert(0, 'color', 1)\n",
        "df_r.columns = df_r.columns.str.replace(\" \", \"_\")\n",
        "\n",
        "df = pd.concat([df_w, df_r])\n",
        "df.head()"
      ]
    },
    {
      "cell_type": "code",
      "execution_count": null,
      "id": "24587025",
      "metadata": {
        "collapsed": true,
        "id": "24587025",
        "outputId": "1434739b-6b23-404c-d75e-01dabb2ce4de"
      },
      "outputs": [
        {
          "data": {
            "text/plain": [
              "array([[ 0.   ,  7.   ,  0.27 , ...,  0.45 ,  8.8  ,  6.   ],\n",
              "       [ 0.   ,  6.3  ,  0.3  , ...,  0.49 ,  9.5  ,  6.   ],\n",
              "       [ 0.   ,  8.1  ,  0.28 , ...,  0.44 , 10.1  ,  6.   ],\n",
              "       ...,\n",
              "       [ 1.   ,  6.3  ,  0.51 , ...,  0.75 , 11.   ,  6.   ],\n",
              "       [ 1.   ,  5.9  ,  0.645, ...,  0.71 , 10.2  ,  5.   ],\n",
              "       [ 1.   ,  6.   ,  0.31 , ...,  0.66 , 11.   ,  6.   ]])"
            ]
          },
          "execution_count": 3,
          "metadata": {},
          "output_type": "execute_result"
        }
      ],
      "source": [
        "array = df.values\n",
        "array"
      ]
    },
    {
      "cell_type": "code",
      "execution_count": null,
      "id": "abfe92c0",
      "metadata": {
        "id": "abfe92c0",
        "outputId": "ca2b890d-100b-4084-de7a-414a0e1ef477"
      },
      "outputs": [
        {
          "data": {
            "text/plain": [
              "array([6., 6., 6., ..., 6., 5., 6.])"
            ]
          },
          "execution_count": 6,
          "metadata": {},
          "output_type": "execute_result"
        }
      ],
      "source": [
        "X = array[:, :-1]\n",
        "y = array[:, -1]\n",
        "y"
      ]
    },
    {
      "cell_type": "markdown",
      "id": "0789ab5b",
      "metadata": {
        "id": "0789ab5b"
      },
      "source": [
        "X - параметры вина, y - его оценка от 0 до 10 "
      ]
    },
    {
      "cell_type": "code",
      "execution_count": null,
      "id": "121db4b9",
      "metadata": {
        "id": "121db4b9"
      },
      "outputs": [],
      "source": [
        "kfold = KFold(n_splits=10, random_state=42, shuffle=True)\n",
        "scoring = 'neg_mean_squared_error'"
      ]
    },
    {
      "cell_type": "markdown",
      "id": "94990542",
      "metadata": {
        "id": "94990542"
      },
      "source": [
        "## Линейная регрессия"
      ]
    },
    {
      "cell_type": "code",
      "execution_count": null,
      "id": "dec8e0f5",
      "metadata": {
        "id": "dec8e0f5"
      },
      "outputs": [],
      "source": [
        "model = LinearRegression()\n",
        "res = cross_val_score(model, X, y, cv=kfold, scoring=scoring)"
      ]
    },
    {
      "cell_type": "code",
      "execution_count": null,
      "id": "d0972679",
      "metadata": {
        "id": "d0972679",
        "outputId": "b0871f9f-c265-4832-a203-c652256aa7ac"
      },
      "outputs": [
        {
          "data": {
            "text/plain": [
              "-0.5390618298469365"
            ]
          },
          "execution_count": 19,
          "metadata": {},
          "output_type": "execute_result"
        }
      ],
      "source": [
        "res.mean()"
      ]
    },
    {
      "cell_type": "code",
      "execution_count": null,
      "id": "064cc50f",
      "metadata": {
        "scrolled": true,
        "id": "064cc50f",
        "outputId": "12c19e15-8385-4254-a2af-98621454e557"
      },
      "outputs": [
        {
          "data": {
            "text/plain": [
              "0.04303559825130108"
            ]
          },
          "execution_count": 20,
          "metadata": {},
          "output_type": "execute_result"
        }
      ],
      "source": [
        "res.std()"
      ]
    },
    {
      "cell_type": "markdown",
      "id": "7147be26",
      "metadata": {
        "id": "7147be26"
      },
      "source": [
        "Модель предсказывает оценку довольно точно, т.к. стандартное отклонение и среднее значений функции (NMSE) довольно мало"
      ]
    },
    {
      "cell_type": "markdown",
      "id": "b41bd75e",
      "metadata": {
        "id": "b41bd75e"
      },
      "source": [
        "## Гребневая регрессия"
      ]
    },
    {
      "cell_type": "code",
      "execution_count": null,
      "id": "142868fd",
      "metadata": {
        "id": "142868fd"
      },
      "outputs": [],
      "source": [
        "model = Ridge()\n",
        "res = cross_val_score(model, X, y, cv=kfold, scoring=scoring)"
      ]
    },
    {
      "cell_type": "code",
      "execution_count": null,
      "id": "064dc1b2",
      "metadata": {
        "scrolled": true,
        "id": "064dc1b2",
        "outputId": "69070f51-3926-4952-aaf8-3489f268c4c3"
      },
      "outputs": [
        {
          "data": {
            "text/plain": [
              "-0.5428257020550566"
            ]
          },
          "execution_count": 29,
          "metadata": {},
          "output_type": "execute_result"
        }
      ],
      "source": [
        "res.mean()"
      ]
    },
    {
      "cell_type": "code",
      "execution_count": null,
      "id": "8abf0454",
      "metadata": {
        "scrolled": true,
        "id": "8abf0454",
        "outputId": "a15c4d86-d6a6-4201-a798-7d267e8862a9"
      },
      "outputs": [
        {
          "data": {
            "text/plain": [
              "0.041084477129181174"
            ]
          },
          "execution_count": 30,
          "metadata": {},
          "output_type": "execute_result"
        }
      ],
      "source": [
        "res.std()"
      ]
    },
    {
      "cell_type": "markdown",
      "id": "e086a940",
      "metadata": {
        "id": "e086a940"
      },
      "source": [
        "## Лассо регрессия"
      ]
    },
    {
      "cell_type": "code",
      "execution_count": null,
      "id": "f6534e68",
      "metadata": {
        "id": "f6534e68"
      },
      "outputs": [],
      "source": [
        "model = Lasso()\n",
        "res = cross_val_score(model, X, y, cv=kfold, scoring=scoring)"
      ]
    },
    {
      "cell_type": "code",
      "execution_count": null,
      "id": "9b4918da",
      "metadata": {
        "scrolled": true,
        "id": "9b4918da",
        "outputId": "c26336df-de7a-4e4d-e2e0-53047c81aae1"
      },
      "outputs": [
        {
          "data": {
            "text/plain": [
              "-0.7604019450912347"
            ]
          },
          "execution_count": 71,
          "metadata": {},
          "output_type": "execute_result"
        }
      ],
      "source": [
        "res.mean()"
      ]
    },
    {
      "cell_type": "code",
      "execution_count": null,
      "id": "af0dc7c4",
      "metadata": {
        "scrolled": true,
        "id": "af0dc7c4",
        "outputId": "f9a2d755-4a49-4933-af27-c3770ea75ebc"
      },
      "outputs": [
        {
          "data": {
            "text/plain": [
              "0.042281492950416895"
            ]
          },
          "execution_count": 72,
          "metadata": {},
          "output_type": "execute_result"
        }
      ],
      "source": [
        "res.std()"
      ]
    },
    {
      "cell_type": "markdown",
      "id": "714f3caf",
      "metadata": {
        "id": "714f3caf"
      },
      "source": [
        "Модель хуже, чем предыдущие две т.к. больше среднее значение функции ошибки"
      ]
    },
    {
      "cell_type": "markdown",
      "id": "157ecc2c",
      "metadata": {
        "id": "157ecc2c"
      },
      "source": [
        "## Эластичная сеть"
      ]
    },
    {
      "cell_type": "code",
      "execution_count": null,
      "id": "44c76ed8",
      "metadata": {
        "id": "44c76ed8"
      },
      "outputs": [],
      "source": [
        "model = ElasticNet()\n",
        "res = cross_val_score(model, X, y, cv=kfold, scoring=scoring)"
      ]
    },
    {
      "cell_type": "code",
      "execution_count": null,
      "id": "029d8c8e",
      "metadata": {
        "scrolled": true,
        "id": "029d8c8e",
        "outputId": "bded8ac1-f0e8-46ec-c57c-fdd1bc47d1f7"
      },
      "outputs": [
        {
          "data": {
            "text/plain": [
              "-0.7527699934573332"
            ]
          },
          "execution_count": 39,
          "metadata": {},
          "output_type": "execute_result"
        }
      ],
      "source": [
        "res.mean()"
      ]
    },
    {
      "cell_type": "code",
      "execution_count": null,
      "id": "9540d798",
      "metadata": {
        "scrolled": true,
        "id": "9540d798",
        "outputId": "0163a960-7a6d-4939-d905-6447eec2a664"
      },
      "outputs": [
        {
          "data": {
            "text/plain": [
              "0.0414224398713594"
            ]
          },
          "execution_count": 40,
          "metadata": {},
          "output_type": "execute_result"
        }
      ],
      "source": [
        "res.std()"
      ]
    },
    {
      "cell_type": "markdown",
      "id": "419ed394",
      "metadata": {
        "id": "419ed394"
      },
      "source": [
        "Модель показала результат, который хуже, чем у других моделей."
      ]
    },
    {
      "cell_type": "markdown",
      "id": "188f2a1c",
      "metadata": {
        "id": "188f2a1c"
      },
      "source": [
        "**Итог**: Все модели выполнили свою задачу хорошо, значения NMSE довольно мало и отличается максимум на 0.01. Лучшими моделями оказались линейная регрессия и гребневая регрессия"
      ]
    },
    {
      "cell_type": "markdown",
      "id": "9e38c38a",
      "metadata": {
        "id": "9e38c38a"
      },
      "source": [
        "# Задание 11. Нелинейные модели для регрессии"
      ]
    },
    {
      "cell_type": "markdown",
      "id": "66110d65",
      "metadata": {
        "id": "66110d65"
      },
      "source": [
        "## Метод ближайших соседей"
      ]
    },
    {
      "cell_type": "code",
      "execution_count": null,
      "id": "069c7983",
      "metadata": {
        "id": "069c7983"
      },
      "outputs": [],
      "source": [
        "model = KNeighborsRegressor()\n",
        "res = cross_val_score(model, X, y, cv=kfold, scoring=scoring)"
      ]
    },
    {
      "cell_type": "code",
      "execution_count": null,
      "id": "5d5cc5b1",
      "metadata": {
        "id": "5d5cc5b1",
        "outputId": "966843fa-4d2b-40c1-ceaa-2a82664734a6"
      },
      "outputs": [
        {
          "data": {
            "text/plain": [
              "-0.6347665283868673"
            ]
          },
          "execution_count": 44,
          "metadata": {},
          "output_type": "execute_result"
        }
      ],
      "source": [
        "res.mean()"
      ]
    },
    {
      "cell_type": "code",
      "execution_count": null,
      "id": "d21a7089",
      "metadata": {
        "scrolled": false,
        "id": "d21a7089",
        "outputId": "a07fac6d-714b-416e-e875-ae4c0cc31a9b"
      },
      "outputs": [
        {
          "data": {
            "text/plain": [
              "0.044581843791970624"
            ]
          },
          "execution_count": 45,
          "metadata": {},
          "output_type": "execute_result"
        }
      ],
      "source": [
        "res.std()"
      ]
    },
    {
      "cell_type": "markdown",
      "id": "6a370a42",
      "metadata": {
        "id": "6a370a42"
      },
      "source": [
        "Результат хуже чем те, что в среднем показывали модели раньше. Значение функции ошибки больше среднего для линейных моделей примерно на 0.1 "
      ]
    },
    {
      "cell_type": "markdown",
      "id": "20983263",
      "metadata": {
        "id": "20983263"
      },
      "source": [
        "## Решающее дерево"
      ]
    },
    {
      "cell_type": "code",
      "execution_count": null,
      "id": "09b47a8a",
      "metadata": {
        "id": "09b47a8a"
      },
      "outputs": [],
      "source": [
        "model = KNeighborsRegressor()\n",
        "res = cross_val_score(model, X, y, cv=kfold, scoring=scoring)"
      ]
    },
    {
      "cell_type": "code",
      "execution_count": null,
      "id": "52490d04",
      "metadata": {
        "scrolled": true,
        "id": "52490d04",
        "outputId": "54b005ce-fdc4-4cdf-9005-d017ed927eef"
      },
      "outputs": [
        {
          "data": {
            "text/plain": [
              "-0.6347665283868673"
            ]
          },
          "execution_count": 52,
          "metadata": {},
          "output_type": "execute_result"
        }
      ],
      "source": [
        "res.mean()"
      ]
    },
    {
      "cell_type": "code",
      "execution_count": null,
      "id": "750596e0",
      "metadata": {
        "scrolled": false,
        "id": "750596e0",
        "outputId": "58bec8cd-665e-4e5b-b44c-696de313c76f"
      },
      "outputs": [
        {
          "data": {
            "text/plain": [
              "0.044581843791970624"
            ]
          },
          "execution_count": 53,
          "metadata": {},
          "output_type": "execute_result"
        }
      ],
      "source": [
        "res.std()"
      ]
    },
    {
      "cell_type": "markdown",
      "id": "3938955c",
      "metadata": {
        "id": "3938955c"
      },
      "source": [
        "Результат также хуже чем у линейных моделей в среднем, но стандартное отклонение такое же"
      ]
    },
    {
      "cell_type": "markdown",
      "id": "5c08a2f1",
      "metadata": {
        "id": "5c08a2f1"
      },
      "source": [
        "## Метод опорных векторов"
      ]
    },
    {
      "cell_type": "code",
      "execution_count": null,
      "id": "9c816183",
      "metadata": {
        "id": "9c816183"
      },
      "outputs": [],
      "source": [
        "model = SVR(gamma='auto')\n",
        "res = cross_val_score(model, X, y, cv=kfold, scoring=scoring)"
      ]
    },
    {
      "cell_type": "code",
      "execution_count": null,
      "id": "3e738daf",
      "metadata": {
        "scrolled": true,
        "id": "3e738daf",
        "outputId": "d3d4f5a5-cdf3-4e22-9d99-540ecf3af0dd"
      },
      "outputs": [
        {
          "data": {
            "text/plain": [
              "-0.5215694595419524"
            ]
          },
          "execution_count": 57,
          "metadata": {},
          "output_type": "execute_result"
        }
      ],
      "source": [
        "res.mean()"
      ]
    },
    {
      "cell_type": "code",
      "execution_count": null,
      "id": "78e9ff66",
      "metadata": {
        "scrolled": false,
        "id": "78e9ff66",
        "outputId": "48c0eabe-b243-4a94-d121-f71c0c851ff0"
      },
      "outputs": [
        {
          "data": {
            "text/plain": [
              "0.0453732583921996"
            ]
          },
          "execution_count": 58,
          "metadata": {},
          "output_type": "execute_result"
        }
      ],
      "source": [
        "res.std()"
      ]
    },
    {
      "cell_type": "markdown",
      "id": "7be6b6ae",
      "metadata": {
        "id": "7be6b6ae"
      },
      "source": [
        "Метод опорных векторов показа лучший результат из всех рассмотренных моделей"
      ]
    },
    {
      "cell_type": "markdown",
      "id": "f48603a0",
      "metadata": {
        "id": "f48603a0"
      },
      "source": [
        "# Выбор лучшего алгоритма для регрессии"
      ]
    },
    {
      "cell_type": "code",
      "execution_count": null,
      "id": "432b197e",
      "metadata": {
        "id": "432b197e"
      },
      "outputs": [],
      "source": [
        "LinRegr = LinearRegression()\n",
        "Ridge = Ridge()\n",
        "Lasso = Lasso()\n",
        "ElasticNet = ElasticNet()\n",
        "KNN = KNeighborsRegressor()\n",
        "DTree = DecisionTreeRegressor()\n",
        "SVM = SVR()\n",
        "\n",
        "models = [LinRegr, Ridge, Lasso, ElasticNet, KNN, DTree, SVM]"
      ]
    },
    {
      "cell_type": "code",
      "execution_count": null,
      "id": "9a635796",
      "metadata": {
        "id": "9a635796"
      },
      "outputs": [],
      "source": [
        "results = []\n",
        "names = ['LinRegr', 'Ridge', 'Lasso', 'ElasticNet', 'KNN', 'DTree', 'SVM']"
      ]
    },
    {
      "cell_type": "code",
      "execution_count": null,
      "id": "db2b5ea8",
      "metadata": {
        "id": "db2b5ea8"
      },
      "outputs": [],
      "source": [
        "for model in models:\n",
        "    cv_res = cross_val_score(model, X, y, cv=kfold, scoring=scoring)\n",
        "    results.append(cv_res)"
      ]
    },
    {
      "cell_type": "code",
      "execution_count": null,
      "id": "5556f704",
      "metadata": {
        "id": "5556f704"
      },
      "outputs": [],
      "source": [
        "res_mean = []\n",
        "res_std = []\n",
        "for i in results:\n",
        "    res_mean.append(i.mean())\n",
        "    res_std.append(i.std())"
      ]
    },
    {
      "cell_type": "code",
      "execution_count": null,
      "id": "eb05f676",
      "metadata": {
        "id": "eb05f676",
        "outputId": "6597b1fe-5528-4612-8410-427d52d12724"
      },
      "outputs": [
        {
          "data": {
            "text/html": [
              "<div>\n",
              "<style scoped>\n",
              "    .dataframe tbody tr th:only-of-type {\n",
              "        vertical-align: middle;\n",
              "    }\n",
              "\n",
              "    .dataframe tbody tr th {\n",
              "        vertical-align: top;\n",
              "    }\n",
              "\n",
              "    .dataframe thead th {\n",
              "        text-align: right;\n",
              "    }\n",
              "</style>\n",
              "<table border=\"1\" class=\"dataframe\">\n",
              "  <thead>\n",
              "    <tr style=\"text-align: right;\">\n",
              "      <th></th>\n",
              "      <th>name</th>\n",
              "      <th>scoring</th>\n",
              "      <th>std</th>\n",
              "    </tr>\n",
              "  </thead>\n",
              "  <tbody>\n",
              "    <tr>\n",
              "      <th>0</th>\n",
              "      <td>LinRegr</td>\n",
              "      <td>-0.539062</td>\n",
              "      <td>0.043036</td>\n",
              "    </tr>\n",
              "    <tr>\n",
              "      <th>1</th>\n",
              "      <td>Ridge</td>\n",
              "      <td>-0.542826</td>\n",
              "      <td>0.041084</td>\n",
              "    </tr>\n",
              "    <tr>\n",
              "      <th>2</th>\n",
              "      <td>Lasso</td>\n",
              "      <td>-0.760402</td>\n",
              "      <td>0.042281</td>\n",
              "    </tr>\n",
              "    <tr>\n",
              "      <th>3</th>\n",
              "      <td>ElasticNet</td>\n",
              "      <td>-0.752770</td>\n",
              "      <td>0.041422</td>\n",
              "    </tr>\n",
              "    <tr>\n",
              "      <th>4</th>\n",
              "      <td>KNN</td>\n",
              "      <td>-0.634767</td>\n",
              "      <td>0.044582</td>\n",
              "    </tr>\n",
              "    <tr>\n",
              "      <th>5</th>\n",
              "      <td>DTree</td>\n",
              "      <td>-0.681706</td>\n",
              "      <td>0.061147</td>\n",
              "    </tr>\n",
              "    <tr>\n",
              "      <th>6</th>\n",
              "      <td>SVM</td>\n",
              "      <td>-0.635320</td>\n",
              "      <td>0.040547</td>\n",
              "    </tr>\n",
              "  </tbody>\n",
              "</table>\n",
              "</div>"
            ],
            "text/plain": [
              "         name   scoring       std\n",
              "0     LinRegr -0.539062  0.043036\n",
              "1       Ridge -0.542826  0.041084\n",
              "2       Lasso -0.760402  0.042281\n",
              "3  ElasticNet -0.752770  0.041422\n",
              "4         KNN -0.634767  0.044582\n",
              "5       DTree -0.681706  0.061147\n",
              "6         SVM -0.635320  0.040547"
            ]
          },
          "execution_count": 66,
          "metadata": {},
          "output_type": "execute_result"
        }
      ],
      "source": [
        "pd.DataFrame({'name' : names, 'scoring': res_mean, 'std': res_std})"
      ]
    },
    {
      "cell_type": "code",
      "execution_count": null,
      "id": "0b0270ef",
      "metadata": {
        "id": "0b0270ef",
        "outputId": "af6866d1-dfb8-4497-da67-9171c77f6379"
      },
      "outputs": [
        {
          "data": {
            "image/png": "[encoded data removed]",
            "text/plain": [
              "<Figure size 640x480 with 1 Axes>"
            ]
          },
          "metadata": {},
          "output_type": "display_data"
        }
      ],
      "source": [
        "fig = plt.figure()\n",
        "ax = fig.add_subplot()\n",
        "plt.suptitle(\"Model Selection\")\n",
        "ax.boxplot(results)\n",
        "ax.set_xticklabels(names)\n",
        "plt.show()"
      ]
    },
    {
      "cell_type": "markdown",
      "id": "e70c3cb1",
      "metadata": {
        "id": "e70c3cb1"
      },
      "source": [
        "Можно сделать вывод, что лучше всего с поставленными данными справились **линейная регрессия, гребневая регрессия**. Из нелинейных алгоритмов можно выделить **KNN и нелинейный метод опорных векторов**, но они проигрывают линейным моделям "
      ]
    }
  ],
  "metadata": {
    "kernelspec": {
      "display_name": "Python 3 (ipykernel)",
      "language": "python",
      "name": "python3"
    },
    "language_info": {
      "codemirror_mode": {
        "name": "ipython",
        "version": 3
      },
      "file_extension": ".py",
      "mimetype": "text/x-python",
      "name": "python",
      "nbconvert_exporter": "python",
      "pygments_lexer": "ipython3",
      "version": "3.9.13"
    },
    "colab": {
      "provenance": []
    }
  },
  "nbformat": 4,
  "nbformat_minor": 5
}